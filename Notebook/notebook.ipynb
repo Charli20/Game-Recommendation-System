{
  "cells": [
    {
      "cell_type": "code",
      "execution_count": 1,
      "id": "824d455a",
      "metadata": {
        "id": "824d455a"
      },
      "outputs": [],
      "source": [
        "import pandas as pd\n",
        "import numpy as np"
      ]
    },
    {
      "cell_type": "code",
      "execution_count": 2,
      "id": "12ccbf14",
      "metadata": {
        "id": "12ccbf14"
      },
      "outputs": [],
      "source": [
        "game_df = pd.read_csv(r'C:\\Users\\chali\\Downloads\\Compressed\\game-recommendation-system\\datasets\\games.csv')"
      ]
    },
    {
      "cell_type": "code",
      "execution_count": 3,
      "id": "f4ddd68a",
      "metadata": {
        "colab": {
          "base_uri": "https://localhost:8080/",
          "height": 1000
        },
        "id": "f4ddd68a",
        "outputId": "54d861c2-8573-472e-c773-99f5d4991d35"
      },
      "outputs": [
        {
          "data": {
            "text/html": [
              "<div>\n",
              "<style scoped>\n",
              "    .dataframe tbody tr th:only-of-type {\n",
              "        vertical-align: middle;\n",
              "    }\n",
              "\n",
              "    .dataframe tbody tr th {\n",
              "        vertical-align: top;\n",
              "    }\n",
              "\n",
              "    .dataframe thead th {\n",
              "        text-align: right;\n",
              "    }\n",
              "</style>\n",
              "<table border=\"1\" class=\"dataframe\">\n",
              "  <thead>\n",
              "    <tr style=\"text-align: right;\">\n",
              "      <th></th>\n",
              "      <th>AppID</th>\n",
              "      <th>Name</th>\n",
              "      <th>Release date</th>\n",
              "      <th>Estimated owners</th>\n",
              "      <th>Peak CCU</th>\n",
              "      <th>Required age</th>\n",
              "      <th>Price</th>\n",
              "      <th>DLC count</th>\n",
              "      <th>About the game</th>\n",
              "      <th>Supported languages</th>\n",
              "      <th>...</th>\n",
              "      <th>Average playtime two weeks</th>\n",
              "      <th>Median playtime forever</th>\n",
              "      <th>Median playtime two weeks</th>\n",
              "      <th>Developers</th>\n",
              "      <th>Publishers</th>\n",
              "      <th>Categories</th>\n",
              "      <th>Genres</th>\n",
              "      <th>Tags</th>\n",
              "      <th>Screenshots</th>\n",
              "      <th>Movies</th>\n",
              "    </tr>\n",
              "  </thead>\n",
              "  <tbody>\n",
              "    <tr>\n",
              "      <th>0</th>\n",
              "      <td>20200</td>\n",
              "      <td>Galactic Bowling</td>\n",
              "      <td>Oct 21, 2008</td>\n",
              "      <td>0 - 20000</td>\n",
              "      <td>0</td>\n",
              "      <td>0</td>\n",
              "      <td>19.99</td>\n",
              "      <td>0</td>\n",
              "      <td>Galactic Bowling is an exaggerated and stylize...</td>\n",
              "      <td>['English']</td>\n",
              "      <td>...</td>\n",
              "      <td>0</td>\n",
              "      <td>0</td>\n",
              "      <td>0</td>\n",
              "      <td>Perpetual FX Creative</td>\n",
              "      <td>Perpetual FX Creative</td>\n",
              "      <td>Single-player,Multi-player,Steam Achievements,...</td>\n",
              "      <td>Casual,Indie,Sports</td>\n",
              "      <td>Indie,Casual,Sports,Bowling</td>\n",
              "      <td>https://cdn.akamai.steamstatic.com/steam/apps/...</td>\n",
              "      <td>http://cdn.akamai.steamstatic.com/steam/apps/2...</td>\n",
              "    </tr>\n",
              "    <tr>\n",
              "      <th>1</th>\n",
              "      <td>655370</td>\n",
              "      <td>Train Bandit</td>\n",
              "      <td>Oct 12, 2017</td>\n",
              "      <td>0 - 20000</td>\n",
              "      <td>0</td>\n",
              "      <td>0</td>\n",
              "      <td>0.99</td>\n",
              "      <td>0</td>\n",
              "      <td>THE LAW!! Looks to be a showdown atop a train....</td>\n",
              "      <td>['English', 'French', 'Italian', 'German', 'Sp...</td>\n",
              "      <td>...</td>\n",
              "      <td>0</td>\n",
              "      <td>0</td>\n",
              "      <td>0</td>\n",
              "      <td>Rusty Moyher</td>\n",
              "      <td>Wild Rooster</td>\n",
              "      <td>Single-player,Steam Achievements,Full controll...</td>\n",
              "      <td>Action,Indie</td>\n",
              "      <td>Indie,Action,Pixel Graphics,2D,Retro,Arcade,Sc...</td>\n",
              "      <td>https://cdn.akamai.steamstatic.com/steam/apps/...</td>\n",
              "      <td>http://cdn.akamai.steamstatic.com/steam/apps/2...</td>\n",
              "    </tr>\n",
              "    <tr>\n",
              "      <th>2</th>\n",
              "      <td>1732930</td>\n",
              "      <td>Jolt Project</td>\n",
              "      <td>Nov 17, 2021</td>\n",
              "      <td>0 - 20000</td>\n",
              "      <td>0</td>\n",
              "      <td>0</td>\n",
              "      <td>4.99</td>\n",
              "      <td>0</td>\n",
              "      <td>Jolt Project: The army now has a new robotics ...</td>\n",
              "      <td>['English', 'Portuguese - Brazil']</td>\n",
              "      <td>...</td>\n",
              "      <td>0</td>\n",
              "      <td>0</td>\n",
              "      <td>0</td>\n",
              "      <td>Campião Games</td>\n",
              "      <td>Campião Games</td>\n",
              "      <td>Single-player</td>\n",
              "      <td>Action,Adventure,Indie,Strategy</td>\n",
              "      <td>NaN</td>\n",
              "      <td>https://cdn.akamai.steamstatic.com/steam/apps/...</td>\n",
              "      <td>http://cdn.akamai.steamstatic.com/steam/apps/2...</td>\n",
              "    </tr>\n",
              "    <tr>\n",
              "      <th>3</th>\n",
              "      <td>1355720</td>\n",
              "      <td>Henosis™</td>\n",
              "      <td>Jul 23, 2020</td>\n",
              "      <td>0 - 20000</td>\n",
              "      <td>0</td>\n",
              "      <td>0</td>\n",
              "      <td>5.99</td>\n",
              "      <td>0</td>\n",
              "      <td>HENOSIS™ is a mysterious 2D Platform Puzzler w...</td>\n",
              "      <td>['English', 'French', 'Italian', 'German', 'Sp...</td>\n",
              "      <td>...</td>\n",
              "      <td>0</td>\n",
              "      <td>0</td>\n",
              "      <td>0</td>\n",
              "      <td>Odd Critter Games</td>\n",
              "      <td>Odd Critter Games</td>\n",
              "      <td>Single-player,Full controller support</td>\n",
              "      <td>Adventure,Casual,Indie</td>\n",
              "      <td>2D Platformer,Atmospheric,Surreal,Mystery,Puzz...</td>\n",
              "      <td>https://cdn.akamai.steamstatic.com/steam/apps/...</td>\n",
              "      <td>http://cdn.akamai.steamstatic.com/steam/apps/2...</td>\n",
              "    </tr>\n",
              "    <tr>\n",
              "      <th>4</th>\n",
              "      <td>1139950</td>\n",
              "      <td>Two Weeks in Painland</td>\n",
              "      <td>Feb 3, 2020</td>\n",
              "      <td>0 - 20000</td>\n",
              "      <td>0</td>\n",
              "      <td>0</td>\n",
              "      <td>0.00</td>\n",
              "      <td>0</td>\n",
              "      <td>ABOUT THE GAME Play as a hacker who has arrang...</td>\n",
              "      <td>['English', 'Spanish - Spain']</td>\n",
              "      <td>...</td>\n",
              "      <td>0</td>\n",
              "      <td>0</td>\n",
              "      <td>0</td>\n",
              "      <td>Unusual Games</td>\n",
              "      <td>Unusual Games</td>\n",
              "      <td>Single-player,Steam Achievements</td>\n",
              "      <td>Adventure,Indie</td>\n",
              "      <td>Indie,Adventure,Nudity,Violent,Sexual Content,...</td>\n",
              "      <td>https://cdn.akamai.steamstatic.com/steam/apps/...</td>\n",
              "      <td>http://cdn.akamai.steamstatic.com/steam/apps/2...</td>\n",
              "    </tr>\n",
              "    <tr>\n",
              "      <th>5</th>\n",
              "      <td>1469160</td>\n",
              "      <td>Wartune Reborn</td>\n",
              "      <td>Feb 26, 2021</td>\n",
              "      <td>50000 - 100000</td>\n",
              "      <td>68</td>\n",
              "      <td>0</td>\n",
              "      <td>0.00</td>\n",
              "      <td>0</td>\n",
              "      <td>Feel tired of auto-fight? Feel tired of boring...</td>\n",
              "      <td>['English']</td>\n",
              "      <td>...</td>\n",
              "      <td>0</td>\n",
              "      <td>0</td>\n",
              "      <td>0</td>\n",
              "      <td>7Road</td>\n",
              "      <td>7Road</td>\n",
              "      <td>Single-player,Multi-player,MMO,PvP,Online PvP,...</td>\n",
              "      <td>Adventure,Casual,Free to Play,Massively Multip...</td>\n",
              "      <td>Turn-Based Combat,Massively Multiplayer,Multip...</td>\n",
              "      <td>https://cdn.akamai.steamstatic.com/steam/apps/...</td>\n",
              "      <td>http://cdn.akamai.steamstatic.com/steam/apps/2...</td>\n",
              "    </tr>\n",
              "    <tr>\n",
              "      <th>6</th>\n",
              "      <td>1659180</td>\n",
              "      <td>TD Worlds</td>\n",
              "      <td>Jan 9, 2022</td>\n",
              "      <td>0 - 20000</td>\n",
              "      <td>3</td>\n",
              "      <td>0</td>\n",
              "      <td>10.99</td>\n",
              "      <td>1</td>\n",
              "      <td>TD Worlds is a dynamic, highly strategical gam...</td>\n",
              "      <td>['English', 'Russian', 'Danish']</td>\n",
              "      <td>...</td>\n",
              "      <td>0</td>\n",
              "      <td>0</td>\n",
              "      <td>0</td>\n",
              "      <td>MAKSIM VOLKAU</td>\n",
              "      <td>MAKSIM VOLKAU</td>\n",
              "      <td>Single-player,Steam Achievements,Steam Cloud</td>\n",
              "      <td>Indie,Strategy</td>\n",
              "      <td>Tower Defense,Rogue-lite,RTS,Replay Value,Perm...</td>\n",
              "      <td>https://cdn.akamai.steamstatic.com/steam/apps/...</td>\n",
              "      <td>http://cdn.akamai.steamstatic.com/steam/apps/2...</td>\n",
              "    </tr>\n",
              "    <tr>\n",
              "      <th>7</th>\n",
              "      <td>1968760</td>\n",
              "      <td>Legend of Rome - The Wrath of Mars</td>\n",
              "      <td>May 5, 2022</td>\n",
              "      <td>0 - 20000</td>\n",
              "      <td>2</td>\n",
              "      <td>0</td>\n",
              "      <td>9.99</td>\n",
              "      <td>0</td>\n",
              "      <td>When the Roman people honored a simple warrior...</td>\n",
              "      <td>['English', 'German']</td>\n",
              "      <td>...</td>\n",
              "      <td>0</td>\n",
              "      <td>0</td>\n",
              "      <td>0</td>\n",
              "      <td>magnussoft</td>\n",
              "      <td>magnussoft</td>\n",
              "      <td>Single-player,Steam Cloud</td>\n",
              "      <td>Casual</td>\n",
              "      <td>NaN</td>\n",
              "      <td>https://cdn.akamai.steamstatic.com/steam/apps/...</td>\n",
              "      <td>http://cdn.akamai.steamstatic.com/steam/apps/2...</td>\n",
              "    </tr>\n",
              "    <tr>\n",
              "      <th>8</th>\n",
              "      <td>1178150</td>\n",
              "      <td>MazM: Jekyll and Hyde</td>\n",
              "      <td>Apr 2, 2020</td>\n",
              "      <td>0 - 20000</td>\n",
              "      <td>1</td>\n",
              "      <td>0</td>\n",
              "      <td>14.99</td>\n",
              "      <td>0</td>\n",
              "      <td>'MazM: Jekyll and Hyde' is a darkly entertaini...</td>\n",
              "      <td>['English', 'French', 'Italian', 'German', 'Sp...</td>\n",
              "      <td>...</td>\n",
              "      <td>0</td>\n",
              "      <td>0</td>\n",
              "      <td>0</td>\n",
              "      <td>Growing Seeds</td>\n",
              "      <td>CFK Co., Ltd.</td>\n",
              "      <td>Single-player,Steam Achievements,Full controll...</td>\n",
              "      <td>Adventure,RPG,Simulation,Strategy</td>\n",
              "      <td>Adventure,Simulation,RPG,Strategy,Singleplayer...</td>\n",
              "      <td>https://cdn.akamai.steamstatic.com/steam/apps/...</td>\n",
              "      <td>http://cdn.akamai.steamstatic.com/steam/apps/2...</td>\n",
              "    </tr>\n",
              "    <tr>\n",
              "      <th>9</th>\n",
              "      <td>320150</td>\n",
              "      <td>Deadlings: Rotten Edition</td>\n",
              "      <td>Nov 11, 2014</td>\n",
              "      <td>50000 - 100000</td>\n",
              "      <td>0</td>\n",
              "      <td>0</td>\n",
              "      <td>3.99</td>\n",
              "      <td>0</td>\n",
              "      <td>Death is lonely. He has zero friends on his Fa...</td>\n",
              "      <td>['English', 'Polish', 'French', 'Italian', 'Ge...</td>\n",
              "      <td>...</td>\n",
              "      <td>0</td>\n",
              "      <td>782</td>\n",
              "      <td>0</td>\n",
              "      <td>ONE MORE LEVEL</td>\n",
              "      <td>ONE MORE LEVEL</td>\n",
              "      <td>Single-player,Steam Achievements,Steam Trading...</td>\n",
              "      <td>Action,Adventure,Indie</td>\n",
              "      <td>Action,Indie,Adventure,Puzzle-Platformer,Arcad...</td>\n",
              "      <td>https://cdn.akamai.steamstatic.com/steam/apps/...</td>\n",
              "      <td>http://cdn.akamai.steamstatic.com/steam/apps/2...</td>\n",
              "    </tr>\n",
              "  </tbody>\n",
              "</table>\n",
              "<p>10 rows × 39 columns</p>\n",
              "</div>"
            ],
            "text/plain": [
              "     AppID                                Name  Release date Estimated owners  \\\n",
              "0    20200                    Galactic Bowling  Oct 21, 2008        0 - 20000   \n",
              "1   655370                        Train Bandit  Oct 12, 2017        0 - 20000   \n",
              "2  1732930                        Jolt Project  Nov 17, 2021        0 - 20000   \n",
              "3  1355720                            Henosis™  Jul 23, 2020        0 - 20000   \n",
              "4  1139950               Two Weeks in Painland   Feb 3, 2020        0 - 20000   \n",
              "5  1469160                      Wartune Reborn  Feb 26, 2021   50000 - 100000   \n",
              "6  1659180                           TD Worlds   Jan 9, 2022        0 - 20000   \n",
              "7  1968760  Legend of Rome - The Wrath of Mars   May 5, 2022        0 - 20000   \n",
              "8  1178150               MazM: Jekyll and Hyde   Apr 2, 2020        0 - 20000   \n",
              "9   320150           Deadlings: Rotten Edition  Nov 11, 2014   50000 - 100000   \n",
              "\n",
              "   Peak CCU  Required age  Price  DLC count  \\\n",
              "0         0             0  19.99          0   \n",
              "1         0             0   0.99          0   \n",
              "2         0             0   4.99          0   \n",
              "3         0             0   5.99          0   \n",
              "4         0             0   0.00          0   \n",
              "5        68             0   0.00          0   \n",
              "6         3             0  10.99          1   \n",
              "7         2             0   9.99          0   \n",
              "8         1             0  14.99          0   \n",
              "9         0             0   3.99          0   \n",
              "\n",
              "                                      About the game  \\\n",
              "0  Galactic Bowling is an exaggerated and stylize...   \n",
              "1  THE LAW!! Looks to be a showdown atop a train....   \n",
              "2  Jolt Project: The army now has a new robotics ...   \n",
              "3  HENOSIS™ is a mysterious 2D Platform Puzzler w...   \n",
              "4  ABOUT THE GAME Play as a hacker who has arrang...   \n",
              "5  Feel tired of auto-fight? Feel tired of boring...   \n",
              "6  TD Worlds is a dynamic, highly strategical gam...   \n",
              "7  When the Roman people honored a simple warrior...   \n",
              "8  'MazM: Jekyll and Hyde' is a darkly entertaini...   \n",
              "9  Death is lonely. He has zero friends on his Fa...   \n",
              "\n",
              "                                 Supported languages  ...  \\\n",
              "0                                        ['English']  ...   \n",
              "1  ['English', 'French', 'Italian', 'German', 'Sp...  ...   \n",
              "2                 ['English', 'Portuguese - Brazil']  ...   \n",
              "3  ['English', 'French', 'Italian', 'German', 'Sp...  ...   \n",
              "4                     ['English', 'Spanish - Spain']  ...   \n",
              "5                                        ['English']  ...   \n",
              "6                   ['English', 'Russian', 'Danish']  ...   \n",
              "7                              ['English', 'German']  ...   \n",
              "8  ['English', 'French', 'Italian', 'German', 'Sp...  ...   \n",
              "9  ['English', 'Polish', 'French', 'Italian', 'Ge...  ...   \n",
              "\n",
              "  Average playtime two weeks Median playtime forever  \\\n",
              "0                          0                       0   \n",
              "1                          0                       0   \n",
              "2                          0                       0   \n",
              "3                          0                       0   \n",
              "4                          0                       0   \n",
              "5                          0                       0   \n",
              "6                          0                       0   \n",
              "7                          0                       0   \n",
              "8                          0                       0   \n",
              "9                          0                     782   \n",
              "\n",
              "  Median playtime two weeks             Developers             Publishers  \\\n",
              "0                         0  Perpetual FX Creative  Perpetual FX Creative   \n",
              "1                         0           Rusty Moyher           Wild Rooster   \n",
              "2                         0          Campião Games          Campião Games   \n",
              "3                         0      Odd Critter Games      Odd Critter Games   \n",
              "4                         0          Unusual Games          Unusual Games   \n",
              "5                         0                  7Road                  7Road   \n",
              "6                         0          MAKSIM VOLKAU          MAKSIM VOLKAU   \n",
              "7                         0             magnussoft             magnussoft   \n",
              "8                         0          Growing Seeds          CFK Co., Ltd.   \n",
              "9                         0         ONE MORE LEVEL         ONE MORE LEVEL   \n",
              "\n",
              "                                          Categories  \\\n",
              "0  Single-player,Multi-player,Steam Achievements,...   \n",
              "1  Single-player,Steam Achievements,Full controll...   \n",
              "2                                      Single-player   \n",
              "3              Single-player,Full controller support   \n",
              "4                   Single-player,Steam Achievements   \n",
              "5  Single-player,Multi-player,MMO,PvP,Online PvP,...   \n",
              "6       Single-player,Steam Achievements,Steam Cloud   \n",
              "7                          Single-player,Steam Cloud   \n",
              "8  Single-player,Steam Achievements,Full controll...   \n",
              "9  Single-player,Steam Achievements,Steam Trading...   \n",
              "\n",
              "                                              Genres  \\\n",
              "0                                Casual,Indie,Sports   \n",
              "1                                       Action,Indie   \n",
              "2                    Action,Adventure,Indie,Strategy   \n",
              "3                             Adventure,Casual,Indie   \n",
              "4                                    Adventure,Indie   \n",
              "5  Adventure,Casual,Free to Play,Massively Multip...   \n",
              "6                                     Indie,Strategy   \n",
              "7                                             Casual   \n",
              "8                  Adventure,RPG,Simulation,Strategy   \n",
              "9                             Action,Adventure,Indie   \n",
              "\n",
              "                                                Tags  \\\n",
              "0                        Indie,Casual,Sports,Bowling   \n",
              "1  Indie,Action,Pixel Graphics,2D,Retro,Arcade,Sc...   \n",
              "2                                                NaN   \n",
              "3  2D Platformer,Atmospheric,Surreal,Mystery,Puzz...   \n",
              "4  Indie,Adventure,Nudity,Violent,Sexual Content,...   \n",
              "5  Turn-Based Combat,Massively Multiplayer,Multip...   \n",
              "6  Tower Defense,Rogue-lite,RTS,Replay Value,Perm...   \n",
              "7                                                NaN   \n",
              "8  Adventure,Simulation,RPG,Strategy,Singleplayer...   \n",
              "9  Action,Indie,Adventure,Puzzle-Platformer,Arcad...   \n",
              "\n",
              "                                         Screenshots  \\\n",
              "0  https://cdn.akamai.steamstatic.com/steam/apps/...   \n",
              "1  https://cdn.akamai.steamstatic.com/steam/apps/...   \n",
              "2  https://cdn.akamai.steamstatic.com/steam/apps/...   \n",
              "3  https://cdn.akamai.steamstatic.com/steam/apps/...   \n",
              "4  https://cdn.akamai.steamstatic.com/steam/apps/...   \n",
              "5  https://cdn.akamai.steamstatic.com/steam/apps/...   \n",
              "6  https://cdn.akamai.steamstatic.com/steam/apps/...   \n",
              "7  https://cdn.akamai.steamstatic.com/steam/apps/...   \n",
              "8  https://cdn.akamai.steamstatic.com/steam/apps/...   \n",
              "9  https://cdn.akamai.steamstatic.com/steam/apps/...   \n",
              "\n",
              "                                              Movies  \n",
              "0  http://cdn.akamai.steamstatic.com/steam/apps/2...  \n",
              "1  http://cdn.akamai.steamstatic.com/steam/apps/2...  \n",
              "2  http://cdn.akamai.steamstatic.com/steam/apps/2...  \n",
              "3  http://cdn.akamai.steamstatic.com/steam/apps/2...  \n",
              "4  http://cdn.akamai.steamstatic.com/steam/apps/2...  \n",
              "5  http://cdn.akamai.steamstatic.com/steam/apps/2...  \n",
              "6  http://cdn.akamai.steamstatic.com/steam/apps/2...  \n",
              "7  http://cdn.akamai.steamstatic.com/steam/apps/2...  \n",
              "8  http://cdn.akamai.steamstatic.com/steam/apps/2...  \n",
              "9  http://cdn.akamai.steamstatic.com/steam/apps/2...  \n",
              "\n",
              "[10 rows x 39 columns]"
            ]
          },
          "execution_count": 3,
          "metadata": {},
          "output_type": "execute_result"
        }
      ],
      "source": [
        "game_df.head(10)"
      ]
    },
    {
      "cell_type": "code",
      "execution_count": 4,
      "id": "x5u134wiREiJ",
      "metadata": {
        "id": "x5u134wiREiJ"
      },
      "outputs": [],
      "source": [
        "pd.set_option('display.max_colwidth', 100)"
      ]
    },
    {
      "cell_type": "code",
      "execution_count": 5,
      "id": "74bcbfa3",
      "metadata": {
        "colab": {
          "base_uri": "https://localhost:8080/"
        },
        "id": "74bcbfa3",
        "outputId": "5733bf2f-202f-4150-fbb2-76bac3da629f"
      },
      "outputs": [
        {
          "data": {
            "text/plain": [
              "['AppID',\n",
              " 'Name',\n",
              " 'Release date',\n",
              " 'Estimated owners',\n",
              " 'Peak CCU',\n",
              " 'Required age',\n",
              " 'Price',\n",
              " 'DLC count',\n",
              " 'About the game',\n",
              " 'Supported languages',\n",
              " 'Full audio languages',\n",
              " 'Reviews',\n",
              " 'Header image',\n",
              " 'Website',\n",
              " 'Support url',\n",
              " 'Support email',\n",
              " 'Windows',\n",
              " 'Mac',\n",
              " 'Linux',\n",
              " 'Metacritic score',\n",
              " 'Metacritic url',\n",
              " 'User score',\n",
              " 'Positive',\n",
              " 'Negative',\n",
              " 'Score rank',\n",
              " 'Achievements',\n",
              " 'Recommendations',\n",
              " 'Notes',\n",
              " 'Average playtime forever',\n",
              " 'Average playtime two weeks',\n",
              " 'Median playtime forever',\n",
              " 'Median playtime two weeks',\n",
              " 'Developers',\n",
              " 'Publishers',\n",
              " 'Categories',\n",
              " 'Genres',\n",
              " 'Tags',\n",
              " 'Screenshots',\n",
              " 'Movies']"
            ]
          },
          "execution_count": 5,
          "metadata": {},
          "output_type": "execute_result"
        }
      ],
      "source": [
        "game_df.columns.tolist()"
      ]
    },
    {
      "cell_type": "code",
      "execution_count": 6,
      "id": "bdc8d921",
      "metadata": {
        "colab": {
          "base_uri": "https://localhost:8080/"
        },
        "id": "bdc8d921",
        "outputId": "61bd13ca-9dcf-4f44-bdd3-b18f500b5876"
      },
      "outputs": [
        {
          "data": {
            "text/plain": [
              "(71716, 39)"
            ]
          },
          "execution_count": 6,
          "metadata": {},
          "output_type": "execute_result"
        }
      ],
      "source": [
        "game_df.shape"
      ]
    },
    {
      "cell_type": "code",
      "execution_count": 7,
      "id": "j4dKCey_I8Tq",
      "metadata": {
        "colab": {
          "base_uri": "https://localhost:8080/"
        },
        "id": "j4dKCey_I8Tq",
        "outputId": "cc5a15a1-2649-4ab6-f908-1ac12d6f8616"
      },
      "outputs": [
        {
          "data": {
            "text/plain": [
              "np.int64(0)"
            ]
          },
          "execution_count": 7,
          "metadata": {},
          "output_type": "execute_result"
        }
      ],
      "source": [
        "game_df.duplicated().sum()"
      ]
    },
    {
      "cell_type": "code",
      "execution_count": 8,
      "id": "OlzGqKjMI8x6",
      "metadata": {
        "id": "OlzGqKjMI8x6"
      },
      "outputs": [],
      "source": [
        "game_df.drop_duplicates(inplace=True)"
      ]
    },
    {
      "cell_type": "code",
      "execution_count": 9,
      "id": "9300e174",
      "metadata": {
        "colab": {
          "base_uri": "https://localhost:8080/"
        },
        "id": "9300e174",
        "outputId": "8c43326d-0b14-427e-8432-e662d1a49e85"
      },
      "outputs": [
        {
          "name": "stdout",
          "output_type": "stream",
          "text": [
            "Number of unique games in the dataset :  (71171,)\n"
          ]
        }
      ],
      "source": [
        "print(\"Number of unique games in the dataset : \",game_df['Name'].unique().shape)"
      ]
    },
    {
      "cell_type": "code",
      "execution_count": 10,
      "id": "86ceab76",
      "metadata": {
        "colab": {
          "base_uri": "https://localhost:8080/"
        },
        "id": "86ceab76",
        "outputId": "7cd2d513-d6b0-48fc-fb5a-cc2764280d4b"
      },
      "outputs": [
        {
          "name": "stdout",
          "output_type": "stream",
          "text": [
            "Columns with null values:\n",
            " Name                  1\n",
            "About the game     2436\n",
            "Reviews           62549\n",
            "Website           36643\n",
            "Support url       35466\n",
            "Support email     11120\n",
            "Metacritic url    67938\n",
            "Score rank        71674\n",
            "Notes             61274\n",
            "Developers         2461\n",
            "Publishers         2720\n",
            "Categories         3407\n",
            "Genres             2439\n",
            "Tags              14014\n",
            "Screenshots        1329\n",
            "Movies             5048\n",
            "dtype: int64\n"
          ]
        }
      ],
      "source": [
        "null_columns = game_df.isna().sum()\n",
        "null_columns = null_columns[null_columns > 0]\n",
        "print(\"Columns with null values:\\n\", null_columns)\n"
      ]
    },
    {
      "cell_type": "code",
      "execution_count": 11,
      "id": "316eb184",
      "metadata": {
        "id": "316eb184"
      },
      "outputs": [],
      "source": [
        "game_df = game_df.drop(columns=[\n",
        "    'Tags', 'Notes', 'Score rank', 'Metacritic url', 'Support url', 'Support email',\n",
        "    'Website', 'Reviews', 'Peak CCU', 'DLC count', 'Full audio languages', 'Linux',\n",
        "    'Metacritic score', 'User score', 'Positive', 'Negative', 'Achievements','Required age',\n",
        "    'Recommendations', 'Average playtime forever', 'Average playtime two weeks',\n",
        "    'Median playtime forever', 'Median playtime two weeks'\n",
        "])\n"
      ]
    },
    {
      "cell_type": "code",
      "execution_count": 12,
      "id": "e22bc33d",
      "metadata": {
        "colab": {
          "base_uri": "https://localhost:8080/"
        },
        "id": "e22bc33d",
        "outputId": "5eb5a6f6-abc0-46a0-d1c7-469b3af13e30"
      },
      "outputs": [
        {
          "data": {
            "text/plain": [
              "['AppID',\n",
              " 'Name',\n",
              " 'Release date',\n",
              " 'Estimated owners',\n",
              " 'Price',\n",
              " 'About the game',\n",
              " 'Supported languages',\n",
              " 'Header image',\n",
              " 'Windows',\n",
              " 'Mac',\n",
              " 'Developers',\n",
              " 'Publishers',\n",
              " 'Categories',\n",
              " 'Genres',\n",
              " 'Screenshots',\n",
              " 'Movies']"
            ]
          },
          "execution_count": 12,
          "metadata": {},
          "output_type": "execute_result"
        }
      ],
      "source": [
        "game_df.columns.tolist()"
      ]
    },
    {
      "cell_type": "code",
      "execution_count": 13,
      "id": "266f47e0",
      "metadata": {
        "colab": {
          "base_uri": "https://localhost:8080/"
        },
        "id": "266f47e0",
        "outputId": "760c646d-7536-472b-9cf5-d4773b24546f"
      },
      "outputs": [
        {
          "data": {
            "text/plain": [
              "(71716, 16)"
            ]
          },
          "execution_count": 13,
          "metadata": {},
          "output_type": "execute_result"
        }
      ],
      "source": [
        "game_df.shape"
      ]
    },
    {
      "cell_type": "code",
      "execution_count": 14,
      "id": "ef3dcfad",
      "metadata": {
        "id": "ef3dcfad"
      },
      "outputs": [],
      "source": [
        "game_df['About the game'].dropna(inplace=True)\n",
        "game_df['Developers'].dropna(inplace=True)\n",
        "game_df['Publishers'].dropna(inplace=True)\n",
        "game_df['Categories'].dropna(inplace=True)\n",
        "game_df['Genres'].dropna(inplace=True)\n",
        "game_df['Screenshots'].dropna(inplace=True)\n",
        "game_df['Movies'].dropna(inplace=True)\n"
      ]
    },
    {
      "cell_type": "code",
      "execution_count": 15,
      "id": "9f7e9ff6",
      "metadata": {
        "colab": {
          "base_uri": "https://localhost:8080/",
          "height": 586
        },
        "id": "9f7e9ff6",
        "outputId": "43f625aa-229f-45a3-a2b8-18823ec85b82"
      },
      "outputs": [
        {
          "data": {
            "text/plain": [
              "AppID                     0\n",
              "Name                      1\n",
              "Release date              0\n",
              "Estimated owners          0\n",
              "Price                     0\n",
              "About the game         2436\n",
              "Supported languages       0\n",
              "Header image              0\n",
              "Windows                   0\n",
              "Mac                       0\n",
              "Developers             2461\n",
              "Publishers             2720\n",
              "Categories             3407\n",
              "Genres                 2439\n",
              "Screenshots            1329\n",
              "Movies                 5048\n",
              "dtype: int64"
            ]
          },
          "execution_count": 15,
          "metadata": {},
          "output_type": "execute_result"
        }
      ],
      "source": [
        "game_df.isna().sum()"
      ]
    },
    {
      "cell_type": "code",
      "execution_count": 16,
      "id": "3859fbc4",
      "metadata": {
        "id": "3859fbc4"
      },
      "outputs": [],
      "source": [
        "game_df.dropna(inplace=True)"
      ]
    },
    {
      "cell_type": "code",
      "execution_count": 17,
      "id": "647c7413",
      "metadata": {
        "colab": {
          "base_uri": "https://localhost:8080/",
          "height": 586
        },
        "id": "647c7413",
        "outputId": "8a77cef5-2e7d-49f7-b847-3a77a1b2e4fe"
      },
      "outputs": [
        {
          "data": {
            "text/plain": [
              "AppID                  0\n",
              "Name                   0\n",
              "Release date           0\n",
              "Estimated owners       0\n",
              "Price                  0\n",
              "About the game         0\n",
              "Supported languages    0\n",
              "Header image           0\n",
              "Windows                0\n",
              "Mac                    0\n",
              "Developers             0\n",
              "Publishers             0\n",
              "Categories             0\n",
              "Genres                 0\n",
              "Screenshots            0\n",
              "Movies                 0\n",
              "dtype: int64"
            ]
          },
          "execution_count": 17,
          "metadata": {},
          "output_type": "execute_result"
        }
      ],
      "source": [
        "game_df.isna().sum()"
      ]
    },
    {
      "cell_type": "code",
      "execution_count": 18,
      "id": "64049a58",
      "metadata": {
        "colab": {
          "base_uri": "https://localhost:8080/"
        },
        "id": "64049a58",
        "outputId": "7e50d7ec-f77f-4fef-b902-2da8dda68ac1"
      },
      "outputs": [
        {
          "data": {
            "text/plain": [
              "(65206, 16)"
            ]
          },
          "execution_count": 18,
          "metadata": {},
          "output_type": "execute_result"
        }
      ],
      "source": [
        "game_df.shape"
      ]
    },
    {
      "cell_type": "code",
      "execution_count": null,
      "id": "98fda53c",
      "metadata": {
        "id": "98fda53c"
      },
      "outputs": [],
      "source": []
    },
    {
      "cell_type": "code",
      "execution_count": null,
      "id": "ff888665",
      "metadata": {
        "id": "ff888665"
      },
      "outputs": [],
      "source": []
    },
    {
      "cell_type": "code",
      "execution_count": 19,
      "id": "34d1ef61",
      "metadata": {
        "colab": {
          "base_uri": "https://localhost:8080/",
          "height": 292
        },
        "id": "34d1ef61",
        "outputId": "4eecba63-ac6d-474c-f1b0-445fa80aca68"
      },
      "outputs": [
        {
          "data": {
            "text/html": [
              "<div>\n",
              "<style scoped>\n",
              "    .dataframe tbody tr th:only-of-type {\n",
              "        vertical-align: middle;\n",
              "    }\n",
              "\n",
              "    .dataframe tbody tr th {\n",
              "        vertical-align: top;\n",
              "    }\n",
              "\n",
              "    .dataframe thead th {\n",
              "        text-align: right;\n",
              "    }\n",
              "</style>\n",
              "<table border=\"1\" class=\"dataframe\">\n",
              "  <thead>\n",
              "    <tr style=\"text-align: right;\">\n",
              "      <th></th>\n",
              "      <th>AppID</th>\n",
              "      <th>Name</th>\n",
              "      <th>Release date</th>\n",
              "      <th>Estimated owners</th>\n",
              "      <th>Price</th>\n",
              "      <th>About the game</th>\n",
              "      <th>Supported languages</th>\n",
              "      <th>Header image</th>\n",
              "      <th>Windows</th>\n",
              "      <th>Mac</th>\n",
              "      <th>Developers</th>\n",
              "      <th>Publishers</th>\n",
              "      <th>Categories</th>\n",
              "      <th>Genres</th>\n",
              "      <th>Screenshots</th>\n",
              "      <th>Movies</th>\n",
              "    </tr>\n",
              "  </thead>\n",
              "  <tbody>\n",
              "    <tr>\n",
              "      <th>0</th>\n",
              "      <td>20200</td>\n",
              "      <td>Galactic Bowling</td>\n",
              "      <td>Oct 21, 2008</td>\n",
              "      <td>0 - 20000</td>\n",
              "      <td>19.99</td>\n",
              "      <td>Galactic Bowling is an exaggerated and stylized bowling game with an intergalactic twist. Player...</td>\n",
              "      <td>['English']</td>\n",
              "      <td>https://cdn.akamai.steamstatic.com/steam/apps/20200/header.jpg?t=1640121033</td>\n",
              "      <td>True</td>\n",
              "      <td>False</td>\n",
              "      <td>Perpetual FX Creative</td>\n",
              "      <td>Perpetual FX Creative</td>\n",
              "      <td>Single-player,Multi-player,Steam Achievements,Partial Controller Support</td>\n",
              "      <td>Casual,Indie,Sports</td>\n",
              "      <td>https://cdn.akamai.steamstatic.com/steam/apps/20200/0000005994.1920x1080.jpg?t=1640121033,https:...</td>\n",
              "      <td>http://cdn.akamai.steamstatic.com/steam/apps/256863704/movie_max.mp4?t=1638854607</td>\n",
              "    </tr>\n",
              "  </tbody>\n",
              "</table>\n",
              "</div>"
            ],
            "text/plain": [
              "   AppID              Name  Release date Estimated owners  Price  \\\n",
              "0  20200  Galactic Bowling  Oct 21, 2008        0 - 20000  19.99   \n",
              "\n",
              "                                                                                        About the game  \\\n",
              "0  Galactic Bowling is an exaggerated and stylized bowling game with an intergalactic twist. Player...   \n",
              "\n",
              "  Supported languages  \\\n",
              "0         ['English']   \n",
              "\n",
              "                                                                  Header image  \\\n",
              "0  https://cdn.akamai.steamstatic.com/steam/apps/20200/header.jpg?t=1640121033   \n",
              "\n",
              "   Windows    Mac             Developers             Publishers  \\\n",
              "0     True  False  Perpetual FX Creative  Perpetual FX Creative   \n",
              "\n",
              "                                                                 Categories  \\\n",
              "0  Single-player,Multi-player,Steam Achievements,Partial Controller Support   \n",
              "\n",
              "                Genres  \\\n",
              "0  Casual,Indie,Sports   \n",
              "\n",
              "                                                                                           Screenshots  \\\n",
              "0  https://cdn.akamai.steamstatic.com/steam/apps/20200/0000005994.1920x1080.jpg?t=1640121033,https:...   \n",
              "\n",
              "                                                                              Movies  \n",
              "0  http://cdn.akamai.steamstatic.com/steam/apps/256863704/movie_max.mp4?t=1638854607  "
            ]
          },
          "execution_count": 19,
          "metadata": {},
          "output_type": "execute_result"
        }
      ],
      "source": [
        "pd.set_option('display.max_columns', None)\n",
        "pd.set_option('display.width', None)\n",
        "\n",
        "\n",
        "game_df.head(1)"
      ]
    },
    {
      "cell_type": "code",
      "execution_count": 20,
      "id": "0f483a45",
      "metadata": {
        "colab": {
          "base_uri": "https://localhost:8080/",
          "height": 87
        },
        "id": "0f483a45",
        "outputId": "fa40c069-2d59-4de5-ea45-4a1bd6a194c4"
      },
      "outputs": [
        {
          "data": {
            "text/plain": [
              "\"PowersVR lets you be the caped crusader from comic books. Featuring a cast of colorful heroes, you'll get to test out their unique superpowers in Metropolis. Compete in challenges, unlock all superpowers, fight enemies and discover hidden collectibles. With more heroes and challenges yet to come! Metropolis City is a giant VR sandbox, filled with interesting locations and enemies to face. Follow the beams of light to discover new heroes with all new abilities, some beams will lead you to a challenge. Have the right hero? A section of the map becomes an isolated activity in which you compete for a high score! Secret collectibles are scattered in every nook and cranny, gathering them will unlock all sorts of artwork in the Gallery.\""
            ]
          },
          "execution_count": 20,
          "metadata": {},
          "output_type": "execute_result"
        }
      ],
      "source": [
        "game_df['About the game'].iloc[23]"
      ]
    },
    {
      "cell_type": "code",
      "execution_count": 21,
      "id": "17bfb313",
      "metadata": {
        "colab": {
          "base_uri": "https://localhost:8080/"
        },
        "id": "17bfb313",
        "outputId": "63d8e9a6-59f5-45a3-c35e-b064f40a1966"
      },
      "outputs": [
        {
          "data": {
            "text/plain": [
              "1967"
            ]
          },
          "execution_count": 21,
          "metadata": {},
          "output_type": "execute_result"
        }
      ],
      "source": [
        "g= game_df['Genres'].unique().tolist()\n",
        "len(g)"
      ]
    },
    {
      "cell_type": "code",
      "execution_count": 22,
      "id": "1a2faa5b",
      "metadata": {
        "colab": {
          "base_uri": "https://localhost:8080/"
        },
        "id": "1a2faa5b",
        "outputId": "53bbc823-0a1a-4b20-cd9f-e52bd41d0eed"
      },
      "outputs": [
        {
          "data": {
            "text/plain": [
              "['Casual,Indie,Sports',\n",
              " 'Action,Indie',\n",
              " 'Action,Adventure,Indie,Strategy',\n",
              " 'Adventure,Casual,Indie',\n",
              " 'Adventure,Indie',\n",
              " 'Adventure,Casual,Free to Play,Massively Multiplayer,RPG,Strategy',\n",
              " 'Indie,Strategy',\n",
              " 'Casual',\n",
              " 'Adventure,RPG,Simulation,Strategy',\n",
              " 'Action,Adventure,Indie',\n",
              " 'Indie,RPG',\n",
              " 'Strategy',\n",
              " 'Casual,Indie',\n",
              " 'Action,Adventure,Indie,RPG,Strategy,Early Access',\n",
              " 'Action,Casual,Simulation,Sports',\n",
              " 'Adventure,Casual,Indie,RPG',\n",
              " 'Action,Adventure,Casual,Indie,Early Access',\n",
              " 'Action,Adventure,Casual,Indie',\n",
              " 'Action,Indie,Racing,Simulation',\n",
              " 'Massively Multiplayer,Racing,Simulation,Sports',\n",
              " 'Action,Indie,Simulation',\n",
              " 'Casual,Indie,Simulation,Strategy',\n",
              " 'Adventure,Casual,Indie,RPG,Simulation',\n",
              " 'Adventure,Indie,RPG',\n",
              " 'Action,Strategy,Early Access',\n",
              " 'Action,Casual,Indie',\n",
              " 'Action,Indie,Early Access',\n",
              " 'Action,Adventure',\n",
              " 'Indie',\n",
              " 'Casual,Free to Play,Indie,Massively Multiplayer,RPG,Simulation',\n",
              " 'Adventure,Casual,Indie,Simulation,Strategy',\n",
              " 'Action,RPG',\n",
              " 'Adventure,Casual',\n",
              " 'Action,Adventure,RPG',\n",
              " 'Racing',\n",
              " 'Action,Adventure,Indie,RPG',\n",
              " 'Action,Casual',\n",
              " 'Action,Racing,Sports',\n",
              " 'Action,Adventure,RPG,Simulation,Strategy,Early Access',\n",
              " 'Simulation,Strategy',\n",
              " 'Action,Casual,Indie,Early Access',\n",
              " 'Action,Adventure,Casual,Indie,Racing,Early Access',\n",
              " 'Adventure,Casual,Indie,RPG,Strategy',\n",
              " 'Action',\n",
              " 'Adventure,Strategy',\n",
              " 'Adventure,Indie,Simulation,Strategy',\n",
              " 'Action,Casual,Indie,Massively Multiplayer',\n",
              " 'Action,Casual,Indie,Strategy',\n",
              " 'Adventure,Casual,Indie,Simulation,Sports,Strategy',\n",
              " 'Adventure',\n",
              " 'Action,Adventure,Free to Play,Indie',\n",
              " 'Free to Play,Massively Multiplayer,RPG,Simulation,Early Access',\n",
              " 'Racing,Simulation,Sports',\n",
              " 'Indie,Simulation',\n",
              " 'Casual,Simulation,Sports,Strategy,Early Access',\n",
              " 'Adventure,Indie,RPG,Strategy',\n",
              " 'RPG,Strategy',\n",
              " 'Casual,Indie,Strategy',\n",
              " 'Free to Play,Massively Multiplayer,RPG',\n",
              " 'Casual,Indie,Racing',\n",
              " 'Casual,Indie,Racing,Sports',\n",
              " 'Action,Casual,Indie,Racing,Simulation,Sports,Strategy',\n",
              " 'Indie,Sports',\n",
              " 'Action,Adventure,Casual,Indie,RPG,Early Access',\n",
              " 'Action,Adventure,Casual,Indie,RPG',\n",
              " 'Action,Casual,Indie,Simulation',\n",
              " 'Action,Early Access',\n",
              " 'Indie,Racing,Simulation,Sports',\n",
              " 'Action,Adventure,Casual,Indie,Racing',\n",
              " 'Action,Adventure,Casual,Indie,RPG,Simulation,Sports,Strategy',\n",
              " 'Action,Adventure,Indie,Early Access',\n",
              " 'Adventure,Casual,Indie,RPG,Simulation,Strategy',\n",
              " 'Adventure,Indie,Simulation,Strategy,Early Access',\n",
              " 'Simulation',\n",
              " 'Action,Indie,RPG',\n",
              " 'Action,Casual,Indie,Sports',\n",
              " 'Action,Indie,Strategy',\n",
              " 'Indie,Simulation,Early Access',\n",
              " 'Casual,Simulation,Strategy',\n",
              " 'Casual,Free to Play,Sports,Strategy',\n",
              " 'RPG',\n",
              " 'Sexual Content,Nudity,Violent,Gore,Action,Adventure,Indie,Early Access',\n",
              " 'Action,Casual,Massively Multiplayer',\n",
              " 'Action,Adventure,Free to Play,Massively Multiplayer,RPG',\n",
              " 'Action,Adventure,Early Access',\n",
              " 'Action,Massively Multiplayer,Sports,Early Access',\n",
              " 'Action,Adventure,Simulation,Early Access',\n",
              " 'Indie,Simulation,Strategy',\n",
              " 'Adventure,Indie,Simulation',\n",
              " 'Adventure,Indie,Strategy',\n",
              " 'Action,Casual,Indie,Racing',\n",
              " 'Action,Casual,Racing',\n",
              " 'Action,Adventure,Casual,Indie,Sports',\n",
              " 'Sexual Content,Violent,Action,Adventure,Indie',\n",
              " 'Adventure,Casual,Indie,Simulation',\n",
              " 'Adventure,Casual,Indie,Strategy',\n",
              " 'Simulation,Sports',\n",
              " 'Adventure,RPG',\n",
              " 'Action,Adventure,Indie,RPG,Simulation',\n",
              " 'Adventure,Free to Play,Indie,RPG',\n",
              " 'Animation & Modeling,Design & Illustration,Utilities',\n",
              " 'Casual,Indie,Simulation',\n",
              " 'Adventure,Casual,Strategy',\n",
              " 'Action,Casual,Indie,Simulation,Early Access',\n",
              " 'Casual,Indie,Early Access',\n",
              " 'Action,Adventure,Casual,Indie,RPG,Sports',\n",
              " 'Adventure,Free to Play,Indie',\n",
              " 'Adventure,Free to Play',\n",
              " 'Adventure,Casual,Simulation,Strategy',\n",
              " 'Adventure,Racing',\n",
              " 'Action,Casual,Indie,Simulation,Strategy',\n",
              " 'Game Development',\n",
              " 'Action,Casual,Free to Play,Indie,Massively Multiplayer,Early Access',\n",
              " 'Sexual Content,Adventure,RPG,Strategy',\n",
              " 'Action,Indie,Racing',\n",
              " 'Indie,Massively Multiplayer,Simulation,Strategy',\n",
              " 'Casual,Indie,Racing,Early Access',\n",
              " 'Casual,Free to Play,Indie,Simulation',\n",
              " 'Free to Play,Indie,RPG',\n",
              " 'Nudity,Violent,Action,Adventure,Indie',\n",
              " 'Free to Play,Indie,Massively Multiplayer,RPG',\n",
              " 'Free to Play,Simulation',\n",
              " 'Action,Adventure,Casual,Indie,Strategy',\n",
              " 'Casual,Free to Play,Indie,RPG',\n",
              " 'Indie,RPG,Strategy',\n",
              " 'Action,Casual,Free to Play,Indie',\n",
              " 'Casual,Free to Play,Indie',\n",
              " 'RPG,Early Access',\n",
              " 'Casual,RPG,Simulation',\n",
              " 'Casual,Free to Play,Indie,Early Access',\n",
              " 'Action,Casual,Free to Play,Indie,RPG',\n",
              " 'Action,Adventure,Free to Play,Massively Multiplayer',\n",
              " 'Action,Adventure,Indie,RPG,Early Access',\n",
              " 'Free to Play',\n",
              " 'Action,Free to Play,RPG',\n",
              " 'Action,Adventure,Casual,Indie,Racing,Simulation,Sports',\n",
              " 'Casual,Indie,RPG,Simulation',\n",
              " 'Action,Sports',\n",
              " 'Action,Adventure,Casual,Indie,Simulation,Strategy',\n",
              " 'Adventure,Casual,Free to Play,Massively Multiplayer,RPG,Simulation,Sports',\n",
              " 'Action,Casual,Indie,RPG,Simulation',\n",
              " 'Adventure,Casual,Free to Play',\n",
              " 'Action,Adventure,Casual,Indie,Massively Multiplayer,RPG,Simulation',\n",
              " 'Action,Indie,RPG,Early Access',\n",
              " 'Simulation,Early Access',\n",
              " 'Adventure,Casual,Indie,Racing,Simulation,Sports',\n",
              " 'Action,Simulation',\n",
              " 'Action,Adventure,Indie,RPG,Strategy',\n",
              " 'Casual,Indie,Simulation,Sports,Strategy,Early Access',\n",
              " 'Utilities,Web Publishing,Early Access',\n",
              " 'Casual,Free to Play,Indie,Strategy',\n",
              " 'Action,Adventure,Indie,Simulation,Strategy',\n",
              " 'Action,Casual,Indie,Simulation,Sports',\n",
              " 'Casual,Indie,Simulation,Early Access',\n",
              " 'Action,Casual,Free to Play',\n",
              " 'Casual,Indie,RPG,Strategy,Early Access',\n",
              " 'Adventure,Casual,Indie,Early Access',\n",
              " 'Free to Play,Indie,Strategy,Early Access',\n",
              " 'Casual,Free to Play,Indie,Simulation,Early Access',\n",
              " 'RPG,Simulation,Strategy,Early Access',\n",
              " 'Indie,Early Access',\n",
              " 'Action,Casual,Free to Play,Indie,RPG,Simulation,Strategy',\n",
              " 'Action,Adventure,Indie,RPG,Simulation,Early Access',\n",
              " 'Action,Adventure,Casual,Indie,Strategy,Early Access',\n",
              " 'Action,Adventure,Indie,Strategy,Early Access',\n",
              " 'Adventure,Casual,RPG,Strategy',\n",
              " 'RPG,Design & Illustration,Utilities',\n",
              " 'Indie,Simulation,Strategy,Early Access',\n",
              " 'Action,Indie,Simulation,Early Access',\n",
              " 'Free to Play,Indie',\n",
              " 'Action,Indie,Simulation,Strategy',\n",
              " 'Adventure,Casual,Free to Play,Indie',\n",
              " 'Indie,Simulation,Sports',\n",
              " 'Action,Adventure,Casual,Indie,Simulation',\n",
              " 'Action,Casual,Free to Play,Indie,Simulation',\n",
              " 'Adventure,Casual,Simulation',\n",
              " 'Action,Indie,Sports',\n",
              " 'Action,Adventure,Casual,Indie,RPG,Simulation',\n",
              " 'Action,Indie,Sports,Early Access',\n",
              " 'Action,Adventure,Free to Play,Indie,Massively Multiplayer,RPG,Early Access',\n",
              " 'Casual,Indie,RPG,Strategy',\n",
              " 'Action,Adventure,Casual,Indie,Simulation,Early Access',\n",
              " 'Indie,Strategy,Early Access',\n",
              " 'Action,Adventure,Indie,Simulation,Early Access',\n",
              " 'Sexual Content,Nudity,Adventure,Free to Play,Indie,RPG',\n",
              " 'Action,Free to Play',\n",
              " 'Action,Free to Play,Indie,Simulation,Strategy,Early Access',\n",
              " 'Action,Casual,Free to Play,Early Access',\n",
              " 'Casual,Simulation,Early Access',\n",
              " 'Action,Adventure,Free to Play,Indie,Strategy',\n",
              " 'Adventure,Casual,Indie,RPG,Strategy,Early Access',\n",
              " 'Action,Casual,Indie,Racing,Simulation,Strategy',\n",
              " 'Action,Adventure,Simulation',\n",
              " 'Violent,Gore,Action,Adventure,Indie,Massively Multiplayer',\n",
              " 'Action,Adventure,Indie,Simulation',\n",
              " 'Adventure,RPG,Simulation',\n",
              " 'Action,Casual,Free to Play,Simulation,Strategy',\n",
              " 'Action,Adventure,Free to Play',\n",
              " 'Action,Adventure,Casual',\n",
              " 'Casual,RPG',\n",
              " 'Racing,Simulation,Early Access',\n",
              " 'Action,Adventure,Massively Multiplayer,RPG',\n",
              " 'Free to Play,Indie,RPG,Early Access',\n",
              " 'Casual,Indie,Simulation,Sports,Strategy',\n",
              " 'Adventure,Casual,RPG',\n",
              " 'Action,Adventure,Free to Play,Early Access',\n",
              " 'Casual,Indie,Massively Multiplayer,Early Access',\n",
              " 'Adventure,Indie,RPG,Simulation,Strategy',\n",
              " 'Action,Free to Play,Indie',\n",
              " 'Action,Adventure,Free to Play,RPG',\n",
              " 'Indie,Racing',\n",
              " 'Casual,Free to Play,Strategy',\n",
              " 'Casual,Simulation',\n",
              " 'Adventure,Indie,Massively Multiplayer,RPG',\n",
              " 'Casual,Free to Play',\n",
              " 'Casual,Sports',\n",
              " 'Action,Casual,Indie,RPG,Simulation,Sports,Strategy',\n",
              " 'Adventure,Casual,Free to Play,Indie,RPG',\n",
              " 'Action,Adventure,RPG,Simulation,Early Access',\n",
              " 'Adventure,Free to Play,Indie,Massively Multiplayer,RPG',\n",
              " 'Free to Play,Massively Multiplayer',\n",
              " 'Free to Play,Strategy',\n",
              " 'Adventure,Casual,Free to Play,Indie,RPG,Simulation,Strategy',\n",
              " 'Casual,RPG,Strategy,Early Access',\n",
              " 'Action,Casual,Indie,RPG',\n",
              " 'Racing,Sports',\n",
              " 'Indie,RPG,Simulation,Strategy',\n",
              " 'Animation & Modeling,Audio Production,Utilities,Video Production',\n",
              " 'Violent,Gore,Action,Adventure,Indie',\n",
              " 'Action,Massively Multiplayer,Early Access',\n",
              " 'Casual,Indie,RPG',\n",
              " 'Violent,Action,Indie,Early Access',\n",
              " 'Free to Play,RPG',\n",
              " 'Casual,Free to Play,Massively Multiplayer',\n",
              " 'Action,Indie,RPG,Simulation,Strategy',\n",
              " 'Free to Play,Indie,Strategy',\n",
              " 'Adventure,Indie,Racing',\n",
              " 'Action,Adventure,Casual,Indie,Massively Multiplayer,Strategy',\n",
              " 'Free to Play,Indie,Massively Multiplayer,RPG,Simulation,Strategy',\n",
              " 'Indie,Simulation,Sports,Early Access',\n",
              " 'Adventure,Casual,Free to Play,Indie,Simulation',\n",
              " 'Action,Casual,Indie,Strategy,Early Access',\n",
              " 'Adventure,Casual,Indie,Racing',\n",
              " 'Casual,Free to Play,Simulation,Sports',\n",
              " 'Action,Adventure,Indie,Massively Multiplayer,RPG,Simulation,Early Access',\n",
              " 'Action,Casual,Indie,Racing,Simulation',\n",
              " 'Casual,Sports,Strategy',\n",
              " 'Violent,Gore,Action,Adventure,Indie,Simulation',\n",
              " 'Action,Sports,Early Access',\n",
              " 'Violent,Action,Simulation,Early Access',\n",
              " 'Racing,Simulation',\n",
              " 'Indie,RPG,Simulation',\n",
              " 'Action,Casual,Indie,Racing,Simulation,Sports,Early Access',\n",
              " 'Action,Casual,Free to Play,Indie,Early Access',\n",
              " 'Strategy,Early Access',\n",
              " 'Action,Strategy',\n",
              " 'Action,Indie,RPG,Strategy',\n",
              " 'Action,Adventure,Casual,Indie,Racing,Simulation',\n",
              " 'Indie,RPG,Strategy,Early Access',\n",
              " 'Action,Adventure,Racing,RPG',\n",
              " 'Adventure,Free to Play,Massively Multiplayer,RPG,Strategy',\n",
              " 'Action,Casual,Free to Play,Racing,Simulation,Sports',\n",
              " 'RPG,Strategy,Early Access',\n",
              " 'Simulation,Strategy,Early Access',\n",
              " 'Action,Racing',\n",
              " 'Action,Adventure,Casual,Indie,Racing,RPG,Simulation,Sports',\n",
              " 'Indie,RPG,Early Access',\n",
              " 'Sexual Content,Nudity,Violent,Action,Adventure,Indie',\n",
              " 'Action,Free to Play,Indie,Massively Multiplayer,RPG,Early Access',\n",
              " 'Action,Casual,Free to Play,Racing,Early Access',\n",
              " 'Action,Indie,Racing,Sports',\n",
              " 'Action,Casual,Indie,Simulation,Sports,Strategy,Early Access',\n",
              " 'Action,Indie,RPG,Simulation,Early Access',\n",
              " 'Adventure,Indie,Early Access',\n",
              " 'Action,Adventure,Indie,Massively Multiplayer,Early Access',\n",
              " 'Casual,Strategy',\n",
              " 'Adventure,Simulation',\n",
              " 'Action,Simulation,Strategy,Early Access',\n",
              " 'Adventure,Indie,RPG,Early Access',\n",
              " 'Action,Casual,Sports',\n",
              " 'Action,Adventure,RPG,Early Access',\n",
              " 'Indie,Design & Illustration,Utilities,Game Development',\n",
              " 'Violent,Gore,Adventure,Indie',\n",
              " 'Action,Adventure,Casual,Indie,Massively Multiplayer,Racing,Early Access',\n",
              " 'Action,Indie,Massively Multiplayer,Strategy',\n",
              " 'Action,Casual,Free to Play,Indie,Simulation,Strategy',\n",
              " 'Utilities',\n",
              " 'Action,Casual,Indie,Racing,Simulation,Sports',\n",
              " 'Free to Play,Strategy,Early Access',\n",
              " 'Indie,RPG,Simulation,Strategy,Early Access',\n",
              " 'Action,RPG,Strategy',\n",
              " 'Action,Adventure,Indie,Racing,RPG,Early Access',\n",
              " 'Casual,Early Access',\n",
              " 'Action,Adventure,Casual,Indie,Racing,Sports',\n",
              " 'Casual,Indie,Simulation,Strategy,Early Access',\n",
              " 'Action,Adventure,Indie,Racing,RPG,Simulation',\n",
              " 'Casual,Indie,RPG,Simulation,Strategy',\n",
              " 'Action,Free to Play,Indie,Sports',\n",
              " 'Sports',\n",
              " 'Action,Casual,Simulation',\n",
              " 'Indie,Racing,Simulation',\n",
              " 'Action,Adventure,Casual,Indie,Massively Multiplayer,RPG',\n",
              " 'Action,Casual,Racing,Simulation',\n",
              " 'Action,Adventure,Casual,Free to Play,Indie,Massively Multiplayer,Simulation,Early Access',\n",
              " 'Casual,Massively Multiplayer',\n",
              " 'Action,Adventure,Racing,Simulation',\n",
              " 'Free to Play,Indie,Simulation',\n",
              " 'Action,Adventure,Casual,Free to Play,Indie,Massively Multiplayer,RPG',\n",
              " 'Action,Free to Play,Indie,Strategy',\n",
              " 'Simulation,Sports,Strategy',\n",
              " 'Adventure,Indie,RPG,Simulation',\n",
              " 'Violent,Gore,Action,Free to Play',\n",
              " 'Action,Free to Play,Racing,Sports',\n",
              " 'Action,Free to Play,Massively Multiplayer',\n",
              " 'Action,Adventure,Strategy',\n",
              " 'Casual,Indie,Racing,Simulation',\n",
              " 'Adventure,Indie,RPG,Strategy,Early Access',\n",
              " 'Action,Free to Play,Massively Multiplayer,Strategy,Early Access',\n",
              " 'Action,Indie,Simulation,Sports',\n",
              " 'Indie,Racing,Sports',\n",
              " 'Action,Adventure,Free to Play,Indie,Simulation,Strategy,Early Access',\n",
              " 'Action,Adventure,Indie,Massively Multiplayer,Strategy',\n",
              " 'Casual,RPG,Simulation,Strategy',\n",
              " 'Casual,Free to Play,Early Access',\n",
              " 'Action,Adventure,Casual,Simulation',\n",
              " 'Free to Play,Indie,Early Access',\n",
              " 'Action,Simulation,Sports,Early Access',\n",
              " 'Action,Adventure,Casual,Indie,Racing,Simulation,Sports,Strategy',\n",
              " 'Action,Free to Play,Massively Multiplayer,RPG,Simulation,Strategy',\n",
              " 'Action,Indie,RPG,Strategy,Early Access',\n",
              " 'Violent,Indie,Early Access',\n",
              " 'Casual,Free to Play,Indie,Massively Multiplayer,Simulation',\n",
              " 'Action,Adventure,Indie,Racing,RPG,Strategy,Early Access',\n",
              " 'Violent,Gore,Casual,Indie,RPG,Simulation,Early Access',\n",
              " 'Free to Play,Massively Multiplayer,Strategy',\n",
              " 'Casual,Indie,Strategy,Early Access',\n",
              " 'Action,Adventure,Sports',\n",
              " 'Indie,Massively Multiplayer,Strategy',\n",
              " 'Action,Indie,Massively Multiplayer,Early Access',\n",
              " 'Free to Play,Simulation,Sports',\n",
              " 'Action,Free to Play,Indie,Early Access',\n",
              " 'Action,Adventure,RPG,Strategy',\n",
              " 'Action,Indie,RPG,Simulation',\n",
              " 'Action,Massively Multiplayer,Racing,Simulation',\n",
              " 'Action,Adventure,Casual,Indie,RPG,Strategy',\n",
              " 'Indie,Racing,Simulation,Sports,Strategy',\n",
              " 'Adventure,Casual,Free to Play,Indie,Strategy',\n",
              " 'Nudity,Adventure,Casual,Indie',\n",
              " 'Action,Adventure,RPG,Strategy,Early Access',\n",
              " 'Casual,Indie,RPG,Simulation,Early Access',\n",
              " 'Action,Adventure,Massively Multiplayer,Simulation',\n",
              " 'Adventure,RPG,Strategy',\n",
              " 'Action,Adventure,Racing,Sports,Strategy',\n",
              " 'Adventure,Casual,Indie,Sports,Early Access',\n",
              " 'Action,Adventure,Casual,Early Access',\n",
              " 'Indie,Simulation,Sports,Strategy',\n",
              " 'Casual,Free to Play,Indie,Simulation,Sports,Strategy,Early Access',\n",
              " 'Casual,Free to Play,Indie,Racing,Simulation,Sports,Strategy',\n",
              " 'Adventure,Casual,Free to Play,Indie,RPG,Simulation',\n",
              " 'Adventure,Indie,Sports',\n",
              " 'Action,Adventure,Free to Play,Indie,Massively Multiplayer,RPG',\n",
              " 'Action,Adventure,Casual,Strategy',\n",
              " 'Action,Adventure,Indie,Racing',\n",
              " 'Action,Casual,Racing,Simulation,Sports',\n",
              " 'Violent,Casual,Indie,Strategy',\n",
              " 'Action,Casual,Simulation,Sports,Early Access',\n",
              " 'Action,Free to Play,Massively Multiplayer,Racing,Sports,Strategy',\n",
              " 'Action,Adventure,Casual,Free to Play,Indie',\n",
              " 'Racing,Simulation,Sports,Strategy',\n",
              " 'Action,Adventure,Casual,Indie,RPG,Simulation,Strategy',\n",
              " 'Adventure,Casual,Indie,Strategy,Early Access',\n",
              " 'Action,Adventure,Indie,RPG,Simulation,Strategy',\n",
              " 'Action,Adventure,Indie,Massively Multiplayer',\n",
              " 'Casual,Simulation,Sports',\n",
              " 'Action,Casual,Massively Multiplayer,Early Access',\n",
              " 'Casual,Indie,Racing,Simulation,Sports',\n",
              " 'Action,Casual,Free to Play,Indie,Massively Multiplayer,Simulation,Sports',\n",
              " 'Action,Indie,Massively Multiplayer',\n",
              " 'Action,Adventure,Casual,Indie,Simulation,Sports',\n",
              " 'Massively Multiplayer',\n",
              " 'Casual,Strategy,Early Access',\n",
              " 'Adventure,Casual,Indie,RPG,Simulation,Sports,Strategy',\n",
              " 'Action,Free to Play,Strategy',\n",
              " 'Action,Indie,RPG,Sports',\n",
              " 'Adventure,Casual,Free to Play,RPG',\n",
              " 'Action,Casual,RPG,Simulation,Early Access',\n",
              " 'Casual,Indie,Massively Multiplayer,Strategy',\n",
              " 'Adventure,Free to Play,RPG,Simulation',\n",
              " 'Action,Indie,Simulation,Strategy,Early Access',\n",
              " 'Free to Play,Massively Multiplayer,RPG,Simulation,Strategy',\n",
              " 'Sexual Content,Nudity,Adventure,RPG',\n",
              " 'Massively Multiplayer,RPG',\n",
              " 'Casual,Indie,Massively Multiplayer,Racing,Simulation,Sports,Early Access',\n",
              " 'Action,Indie,Massively Multiplayer,Simulation',\n",
              " 'Indie,RPG,Simulation,Early Access',\n",
              " 'Action,Massively Multiplayer',\n",
              " 'Free to Play,Indie,Simulation,Early Access',\n",
              " 'Action,Casual,Indie,RPG,Early Access',\n",
              " 'Violent,Action,Indie,Simulation',\n",
              " 'Indie,Animation & Modeling',\n",
              " 'Massively Multiplayer,RPG,Utilities,Early Access',\n",
              " 'Free to Play,RPG,Simulation',\n",
              " 'Action,Indie,Massively Multiplayer,Simulation,Early Access',\n",
              " 'Adventure,Free to Play,Racing',\n",
              " 'Action,Indie,Massively Multiplayer,Racing,Strategy',\n",
              " 'Action,Casual,Indie,Simulation,Strategy,Early Access',\n",
              " 'Action,RPG,Early Access',\n",
              " 'Animation & Modeling,Audio Production,Utilities',\n",
              " 'Free to Play,Indie,Simulation,Strategy',\n",
              " 'Violent,Gore,Action,Adventure',\n",
              " 'Violent,Gore,Action,Indie',\n",
              " 'Action,Free to Play,Indie,Massively Multiplayer,RPG,Simulation,Sports',\n",
              " 'Adventure,Casual,Indie,RPG,Simulation,Sports',\n",
              " 'Adventure,Casual,Indie,Racing,Strategy',\n",
              " 'Action,Adventure,Indie,Massively Multiplayer,RPG',\n",
              " 'Casual,Indie,Simulation,Sports',\n",
              " 'Action,Indie,Design & Illustration',\n",
              " 'Action,Free to Play,Early Access',\n",
              " 'Massively Multiplayer,RPG,Strategy',\n",
              " 'Casual,Indie,Racing,Simulation,Strategy',\n",
              " 'Casual,Indie,RPG,Simulation,Strategy,Early Access',\n",
              " 'Adventure,Indie,RPG,Simulation,Early Access',\n",
              " 'Adventure,Casual,RPG,Simulation,Strategy,Early Access',\n",
              " 'Casual,Free to Play,Indie,Simulation,Strategy,Early Access',\n",
              " 'Action,Adventure,Casual,Indie,RPG,Sports,Strategy',\n",
              " 'Free to Play,Racing,Sports',\n",
              " 'Casual,Free to Play,Massively Multiplayer,RPG,Simulation',\n",
              " 'Action,Casual,Strategy',\n",
              " 'Action,Casual,Sports,Strategy',\n",
              " 'Action,Casual,Indie,Sports,Strategy',\n",
              " 'Adventure,Free to Play,Indie,Massively Multiplayer,RPG,Early Access',\n",
              " 'Action,Adventure,Casual,Indie,Massively Multiplayer,RPG,Simulation,Strategy',\n",
              " 'Action,Adventure,Simulation,Strategy',\n",
              " 'Violent,Gore,Action,Adventure,Free to Play,Indie,RPG,Early Access',\n",
              " 'Violent,Adventure,Casual,Indie,Simulation',\n",
              " 'Action,Indie,Racing,Simulation,Sports',\n",
              " 'Adventure,Casual,Indie,Simulation,Strategy,Education,Utilities,Web Publishing',\n",
              " 'Adventure,Simulation,Strategy',\n",
              " 'Action,Adventure,Free to Play,Indie,RPG,Early Access',\n",
              " 'Casual,Free to Play,Indie,Simulation,Sports,Strategy',\n",
              " 'Casual,Free to Play,Simulation',\n",
              " 'Action,Casual,Free to Play,Indie,Massively Multiplayer,RPG,Simulation,Strategy',\n",
              " 'Action,Adventure,Free to Play,Indie,Early Access',\n",
              " 'Simulation,Software Training,Game Development',\n",
              " 'Education',\n",
              " 'Casual,Indie,RPG,Early Access',\n",
              " 'Action,Adventure,Indie,Massively Multiplayer,RPG,Strategy',\n",
              " 'Free to Play,Indie,Massively Multiplayer,Strategy',\n",
              " 'Action,Indie,Massively Multiplayer,RPG,Strategy,Early Access',\n",
              " 'Sports,Strategy,Early Access',\n",
              " 'Action,Casual,Indie,Accounting,Education,Software Training,Utilities,Game Development',\n",
              " 'Violent,Action',\n",
              " 'Adventure,Casual,Free to Play,Massively Multiplayer,Simulation,Sports',\n",
              " 'Action,Adventure,Indie,Massively Multiplayer,Simulation',\n",
              " 'Casual,Racing,Simulation,Sports',\n",
              " 'Adventure,Indie,Simulation,Early Access',\n",
              " 'Adventure,Casual,Indie,Simulation,Strategy,Early Access',\n",
              " 'Casual,Massively Multiplayer,Simulation',\n",
              " 'Action,Indie,Strategy,Early Access',\n",
              " 'Action,Adventure,Indie,RPG,Sports',\n",
              " 'Indie,Racing,Early Access',\n",
              " 'Action,Adventure,Casual,Indie,Massively Multiplayer,Simulation,Sports,Strategy',\n",
              " 'Action,Casual,Indie,RPG,Strategy',\n",
              " 'Action,Free to Play,Indie,Massively Multiplayer,Early Access',\n",
              " 'Design & Illustration,Utilities',\n",
              " 'Adventure,Free to Play,Indie,Early Access',\n",
              " 'Action,Adventure,Free to Play,Indie,Simulation',\n",
              " 'Action,Adventure,Casual,Free to Play,Indie,Simulation,Strategy',\n",
              " 'Adventure,Early Access',\n",
              " 'Adventure,Free to Play,Indie,RPG,Simulation,Strategy',\n",
              " 'Utilities,Early Access',\n",
              " 'Violent,Action,Indie',\n",
              " 'Casual,Free to Play,Simulation,Strategy',\n",
              " 'Utilities,Game Development',\n",
              " 'Adventure,Casual,Early Access',\n",
              " 'Action,Adventure,Casual,Indie,Racing,RPG,Simulation',\n",
              " 'Audio Production,Design & Illustration,Utilities,Video Production,Web Publishing',\n",
              " 'Action,Indie,Massively Multiplayer,Strategy,Early Access',\n",
              " 'Sexual Content,Nudity,Casual,Indie,Simulation',\n",
              " 'Adventure,Sports',\n",
              " 'Indie,Sports,Early Access',\n",
              " 'Action,Free to Play,Indie,Racing',\n",
              " 'Action,Adventure,Casual,Indie,Massively Multiplayer,Racing,RPG,Simulation,Sports,Strategy',\n",
              " 'Indie,Racing,Simulation,Early Access',\n",
              " 'Action,Adventure,Indie,RPG,Simulation,Strategy,Early Access',\n",
              " 'Action,Simulation,Strategy',\n",
              " 'Free to Play,Indie,RPG,Strategy',\n",
              " 'Adventure,Free to Play,Massively Multiplayer,Simulation,Early Access',\n",
              " 'Animation & Modeling,Utilities,Video Production,Early Access',\n",
              " 'Casual,Indie,Simulation,Sports,Early Access',\n",
              " 'Sexual Content,Nudity,Adventure,Casual,Indie,Simulation',\n",
              " 'Animation & Modeling,Utilities',\n",
              " 'Action,Casual,Free to Play,Indie,Strategy',\n",
              " 'Action,Adventure,Free to Play,Indie,RPG',\n",
              " 'Free to Play,Massively Multiplayer,RPG,Strategy',\n",
              " 'Video Production',\n",
              " 'Action,Adventure,Massively Multiplayer,RPG,Early Access',\n",
              " 'Casual,Free to Play,Massively Multiplayer,RPG',\n",
              " 'Action,Adventure,Casual,Racing,Sports,Strategy',\n",
              " 'Action,Adventure,Casual,Free to Play,Indie,Massively Multiplayer,RPG,Simulation',\n",
              " 'Action,Casual,Sports,Early Access',\n",
              " 'Casual,Free to Play,Massively Multiplayer,Simulation',\n",
              " 'Adventure,Free to Play,Indie,Simulation',\n",
              " 'Action,Free to Play,Indie,RPG,Strategy',\n",
              " 'Action,Adventure,Casual,Free to Play,Indie,Early Access',\n",
              " 'Action,Adventure,Racing,RPG,Simulation',\n",
              " 'Action,Free to Play,Indie,Simulation',\n",
              " 'Sexual Content,Casual,Indie,Simulation',\n",
              " 'Indie,Massively Multiplayer,Simulation,Strategy,Early Access',\n",
              " 'Violent,Adventure,Indie',\n",
              " 'Action,Adventure,Casual,Indie,RPG,Simulation,Strategy,Early Access',\n",
              " 'Action,Adventure,Casual,Indie,Massively Multiplayer,RPG,Strategy',\n",
              " 'Violent,Gore,Action,Adventure,Strategy,Early Access',\n",
              " 'Action,Free to Play,Indie,Massively Multiplayer,RPG,Strategy,Early Access',\n",
              " 'Action,Casual,RPG,Early Access',\n",
              " 'Adventure,Free to Play,RPG',\n",
              " 'Adventure,RPG,Simulation,Strategy,Early Access',\n",
              " 'Free to Play,Audio Production',\n",
              " 'Casual,Indie,Sports,Strategy',\n",
              " 'Action,Casual,Free to Play,Indie,Racing',\n",
              " 'Casual,Simulation,Sports,Strategy',\n",
              " 'Utilities,Video Production,Web Publishing',\n",
              " 'Violent,Gore,Action,Adventure,Casual,Indie,Massively Multiplayer,RPG,Early Access',\n",
              " 'Adventure,Casual,Indie,Racing,Sports',\n",
              " 'Action,Free to Play,Simulation',\n",
              " 'Free to Play,Sports',\n",
              " 'Adventure,Indie,Racing,Simulation',\n",
              " 'Action,Adventure,Casual,Indie,RPG,Simulation,Early Access',\n",
              " 'Action,Adventure,Indie,Racing,Simulation',\n",
              " 'Action,Adventure,Casual,Free to Play,Simulation,Sports',\n",
              " 'Violent,Gore,Action,Casual,Indie',\n",
              " 'Action,Casual,Indie,Simulation,Sports,Early Access',\n",
              " 'Casual,Free to Play,Indie,Simulation,Strategy',\n",
              " 'Action,Adventure,Free to Play,Sports',\n",
              " 'Action,Adventure,Casual,Free to Play,Indie,RPG,Early Access',\n",
              " 'Action,Adventure,Casual,Free to Play,Indie,RPG,Simulation,Strategy',\n",
              " 'Sexual Content,Violent,Adventure,Casual',\n",
              " 'Action,Adventure,Racing,Simulation,Sports',\n",
              " 'Indie,Racing,Simulation,Sports,Early Access',\n",
              " 'Adventure,Indie,Massively Multiplayer,Simulation,Early Access',\n",
              " 'Violent,Gore,Action,Adventure,RPG',\n",
              " 'Violent,Gore,Indie',\n",
              " 'Action,Adventure,Casual,Free to Play,Indie,Simulation',\n",
              " 'Action,Adventure,Indie,Simulation,Sports',\n",
              " 'Action,Adventure,Casual,Indie,Massively Multiplayer,Simulation',\n",
              " 'Action,Free to Play,Indie,Massively Multiplayer',\n",
              " 'Violent,Action,Casual,Simulation',\n",
              " 'Action,Adventure,Casual,RPG,Strategy',\n",
              " 'Sports,Strategy',\n",
              " 'Action,Adventure,Indie,Sports',\n",
              " 'Casual,Indie,Racing,RPG,Simulation,Strategy',\n",
              " 'Action,Free to Play,Indie,RPG',\n",
              " 'Action,Casual,Free to Play,Indie,Sports',\n",
              " 'Adventure,Free to Play,Massively Multiplayer,RPG',\n",
              " 'Casual,Free to Play,Massively Multiplayer,Simulation,Sports',\n",
              " 'Casual,Free to Play,Indie,Racing,Early Access',\n",
              " 'Adventure,Free to Play,Indie,RPG,Strategy',\n",
              " 'Action,Adventure,Massively Multiplayer,RPG,Simulation,Early Access',\n",
              " 'Free to Play,Indie,Racing',\n",
              " 'Action,Indie,Massively Multiplayer,RPG',\n",
              " 'Action,Indie,Racing,Early Access',\n",
              " 'Adventure,Simulation,Early Access',\n",
              " 'Casual,Free to Play,Indie,Massively Multiplayer,RPG',\n",
              " 'Action,Adventure,Casual,Free to Play,Indie,Racing',\n",
              " 'Action,Adventure,Indie,Massively Multiplayer,Simulation,Early Access',\n",
              " 'Action,Adventure,Indie,RPG,Sports,Early Access',\n",
              " 'Violent,Action,Casual,Indie,Simulation',\n",
              " 'Casual,RPG,Early Access',\n",
              " 'Adventure,Massively Multiplayer,RPG,Strategy',\n",
              " 'Casual,Simulation,Strategy,Early Access',\n",
              " 'Indie,Racing,Sports,Early Access',\n",
              " 'Free to Play,Massively Multiplayer,Simulation,Sports,Strategy',\n",
              " 'Casual,Free to Play,Indie,Massively Multiplayer,Strategy,Early Access',\n",
              " 'Action,Adventure,Casual,Free to Play,Indie,Massively Multiplayer,Strategy,Early Access',\n",
              " 'Adventure,RPG,Early Access',\n",
              " 'Indie,Massively Multiplayer,RPG',\n",
              " 'Adventure,Casual,RPG,Early Access',\n",
              " 'Action,Indie,Simulation,Sports,Early Access',\n",
              " 'Action,Indie,Massively Multiplayer,Sports',\n",
              " 'Violent,Gore,Action,Indie,Early Access',\n",
              " 'Design & Illustration,Education,Utilities,Early Access',\n",
              " 'Adventure,Casual,Free to Play,Massively Multiplayer,RPG',\n",
              " 'Audio Production,Design & Illustration,Utilities,Video Production',\n",
              " 'Action,Casual,Free to Play,Indie,Racing,Sports,Early Access',\n",
              " 'Sexual Content,Violent,Action,Indie,Massively Multiplayer,Racing,RPG,Simulation',\n",
              " 'Adventure,Indie,Massively Multiplayer,RPG,Simulation,Strategy',\n",
              " 'Violent,Gore,Action,Adventure,Casual',\n",
              " 'Action,Adventure,Strategy,Early Access',\n",
              " 'Casual,Indie,Massively Multiplayer,Racing',\n",
              " 'Sexual Content,Adventure,Indie,Simulation',\n",
              " 'Free to Play,Massively Multiplayer,Simulation',\n",
              " 'Casual,Indie,Sports,Early Access',\n",
              " 'Action,Adventure,Indie,Massively Multiplayer,Sports,Strategy',\n",
              " 'Action,Indie,Racing,Sports,Early Access',\n",
              " 'Casual,Free to Play,Sports',\n",
              " 'Adventure,Indie,RPG,Simulation,Strategy,Early Access',\n",
              " 'Action,Casual,Simulation,Strategy',\n",
              " 'Action,Adventure,Free to Play,Indie,Massively Multiplayer,RPG,Simulation,Early Access',\n",
              " 'Adventure,Casual,Indie,RPG,Early Access',\n",
              " 'Action,RPG,Simulation,Strategy',\n",
              " 'Free to Play,Indie,Simulation,Sports,Strategy',\n",
              " 'Action,Adventure,Casual,Indie,RPG,Strategy,Early Access',\n",
              " 'Sports,Early Access',\n",
              " 'Action,Indie,Sports,Strategy',\n",
              " 'Action,Adventure,Casual,Indie,Racing,Simulation,Sports,Early Access',\n",
              " 'Action,Massively Multiplayer,RPG,Early Access',\n",
              " 'Free to Play,RPG,Early Access',\n",
              " 'Casual,Indie,Racing,Strategy,Early Access',\n",
              " 'Adventure,Casual,Indie,Racing,Simulation',\n",
              " 'Free to Play,RPG,Simulation,Early Access',\n",
              " 'Casual,Free to Play,RPG',\n",
              " 'Action,Adventure,Casual,RPG,Simulation,Strategy,Early Access',\n",
              " 'Adventure,Indie,Strategy,Early Access',\n",
              " 'Casual,Racing,Sports',\n",
              " 'Action,Free to Play,Massively Multiplayer,Early Access',\n",
              " 'Casual,Racing',\n",
              " 'Adventure,Casual,Massively Multiplayer,Early Access',\n",
              " 'Action,Casual,Indie,RPG,Simulation,Strategy',\n",
              " 'Free to Play,Simulation,Strategy',\n",
              " 'Action,Adventure,Massively Multiplayer,Simulation,Early Access',\n",
              " 'Action,Adventure,Casual,RPG,Simulation,Strategy',\n",
              " 'Animation & Modeling,Design & Illustration,Web Publishing',\n",
              " 'Action,Simulation,Early Access',\n",
              " 'RPG,Simulation,Sports',\n",
              " 'Massively Multiplayer,RPG,Early Access',\n",
              " 'Action,Adventure,Casual,Massively Multiplayer,Early Access',\n",
              " 'Action,RPG,Simulation',\n",
              " 'Casual,Racing,Early Access',\n",
              " 'Action,Casual,Indie,Racing,Early Access',\n",
              " 'Violent,Action,Sports',\n",
              " 'Action,Adventure,Indie,Massively Multiplayer,Sports',\n",
              " 'Free to Play,Indie,Racing,Simulation',\n",
              " 'Violent,Action,Adventure,Indie',\n",
              " 'Adventure,Casual,Indie,Simulation,Sports',\n",
              " 'Adventure,Casual,RPG,Simulation',\n",
              " 'Adventure,Indie,Massively Multiplayer',\n",
              " 'Adventure,Racing,Simulation,Early Access',\n",
              " 'Action,Casual,Indie,Sports,Early Access',\n",
              " 'Early Access',\n",
              " 'Action,Adventure,Racing',\n",
              " 'Nudity,Violent,Gore,Action,Indie,Simulation',\n",
              " 'Casual,Free to Play,Indie,Sports,Early Access',\n",
              " 'Adventure,Free to Play,Indie,RPG,Early Access',\n",
              " 'Action,Adventure,Indie,Racing,RPG,Simulation,Early Access',\n",
              " 'Action,Indie,RPG,Simulation,Strategy,Early Access',\n",
              " 'Animation & Modeling,Design & Illustration,Education,Utilities,Early Access',\n",
              " 'Sexual Content,Nudity,Violent,Adventure,Indie,RPG',\n",
              " 'Sexual Content,Nudity,Action,Casual,Indie,Simulation',\n",
              " 'Adventure,Indie,Sports,Strategy',\n",
              " 'Adventure,Casual,Indie,Racing,Simulation,Sports,Strategy',\n",
              " 'Violent,Gore,Action,Adventure,Casual,Indie',\n",
              " 'Casual,Free to Play,Indie,RPG,Simulation,Strategy,Early Access',\n",
              " 'Indie,Massively Multiplayer,RPG,Simulation',\n",
              " 'Casual,Animation & Modeling,Design & Illustration',\n",
              " 'Casual,Indie,Simulation,Strategy,Audio Production,Education,Utilities,Early Access',\n",
              " 'Nudity,Violent,Gore,Action,Adventure,Indie',\n",
              " 'Action,Adventure,Indie,Massively Multiplayer,RPG,Early Access',\n",
              " 'Free to Play,Indie,Massively Multiplayer,Sports',\n",
              " 'Action,Adventure,Indie,Simulation,Sports,Strategy',\n",
              " 'Action,Adventure,Casual,Indie,Massively Multiplayer,RPG,Simulation,Sports',\n",
              " 'Action,Adventure,Casual,Indie,Racing,Sports,Strategy',\n",
              " 'Action,Casual,Massively Multiplayer,Simulation,Strategy',\n",
              " 'Indie,Massively Multiplayer,RPG,Strategy',\n",
              " 'Nudity,Adventure',\n",
              " 'Free to Play,RPG,Strategy',\n",
              " 'Action,Adventure,Free to Play,Indie,RPG,Simulation',\n",
              " 'Violent,Adventure,Casual,Indie',\n",
              " 'Adventure,Casual,Indie,Simulation,Early Access',\n",
              " 'Sexual Content,Violent,Gore,Adventure,Casual,Indie',\n",
              " 'Violent,Gore,Action',\n",
              " 'Simulation,Sports,Strategy,Early Access',\n",
              " 'Free to Play,Indie,Massively Multiplayer',\n",
              " 'Casual,Free to Play,Indie,Sports',\n",
              " 'Racing,Early Access',\n",
              " 'RPG,Sports,Early Access',\n",
              " 'Action,Free to Play,Indie,Massively Multiplayer,RPG',\n",
              " 'Indie,RPG,Sports,Strategy',\n",
              " 'Violent,Action,Indie,Sports,Early Access',\n",
              " 'Sexual Content,Nudity,Adventure,Casual',\n",
              " 'Animation & Modeling,Design & Illustration',\n",
              " 'Simulation,Design & Illustration,Education,Software Training,Utilities',\n",
              " 'Action,Indie,Massively Multiplayer,RPG,Early Access',\n",
              " 'Casual,Free to Play,Indie,Massively Multiplayer,Racing,RPG,Simulation,Strategy,Early Access',\n",
              " 'Action,Adventure,Casual,Free to Play,Indie,RPG,Strategy',\n",
              " 'Casual,Racing,Simulation,Sports,Strategy',\n",
              " 'Violent,Action,Racing',\n",
              " 'Adventure,Casual,RPG,Simulation,Strategy',\n",
              " 'Casual,Free to Play,Indie,Massively Multiplayer,Early Access',\n",
              " 'Action,Adventure,Indie,Sports,Early Access',\n",
              " 'Casual,Free to Play,Massively Multiplayer,Simulation,Sports,Strategy',\n",
              " 'Action,RPG,Simulation,Early Access',\n",
              " 'Casual,Indie,Racing,Simulation,Sports,Early Access',\n",
              " 'Action,Adventure,Casual,Indie,Simulation,Strategy,Early Access',\n",
              " 'Action,Indie,Massively Multiplayer,RPG,Simulation,Strategy',\n",
              " 'Free to Play,Simulation,Sports,Strategy',\n",
              " 'Violent,Action,Casual,Indie',\n",
              " 'Action,Adventure,Casual,Free to Play,Indie,RPG,Simulation,Strategy,Early Access',\n",
              " 'Action,Adventure,Casual,Indie,Massively Multiplayer,Racing,Sports,Early Access',\n",
              " 'Action,Adventure,Indie,Simulation,Strategy,Early Access',\n",
              " 'Action,Casual,Free to Play,Massively Multiplayer',\n",
              " 'Violent,Action,Casual',\n",
              " 'RPG,Simulation',\n",
              " 'Action,Free to Play,Simulation,Strategy',\n",
              " 'Casual,Free to Play,Indie,Massively Multiplayer,RPG,Simulation,Early Access',\n",
              " 'Adventure,Casual,Free to Play,Simulation',\n",
              " 'Action,Free to Play,RPG,Strategy',\n",
              " 'Violent,Action,Indie,Strategy,Early Access',\n",
              " 'Adventure,Casual,Simulation,Sports',\n",
              " 'Casual,Free to Play,Indie,Strategy,Early Access',\n",
              " 'Action,Free to Play,Indie,Massively Multiplayer,Strategy',\n",
              " 'Casual,Free to Play,Indie,RPG,Simulation',\n",
              " 'Action,Indie,Massively Multiplayer,Racing,Early Access',\n",
              " 'Adventure,Simulation,Strategy,Early Access',\n",
              " 'Casual,Free to Play,Indie,Massively Multiplayer,Strategy',\n",
              " 'Indie,Massively Multiplayer,Strategy,Early Access',\n",
              " 'Action,Free to Play,Indie,Massively Multiplayer,RPG,Strategy',\n",
              " 'Free to Play,Indie,Simulation,Strategy,Early Access',\n",
              " 'Violent,Action,Casual,Indie,Strategy,Early Access',\n",
              " 'Gore,Action,Indie,RPG,Early Access',\n",
              " 'Nudity,Violent,Gore,Adventure,Indie,RPG,Early Access',\n",
              " 'RPG,Sports,Strategy',\n",
              " 'Violent,Gore,Casual,Indie',\n",
              " 'Action,Racing,Simulation,Sports',\n",
              " 'Action,Simulation,Sports',\n",
              " 'Action,Adventure,Indie,Racing,Simulation,Early Access',\n",
              " 'Free to Play,Indie,Racing,Strategy',\n",
              " 'Casual,Free to Play,RPG,Early Access',\n",
              " 'Accounting,Education,Software Training,Utilities,Early Access',\n",
              " 'Action,Adventure,Casual,Free to Play,Indie,Massively Multiplayer,RPG,Simulation,Strategy',\n",
              " 'Violent,Action,Strategy,Early Access',\n",
              " 'Casual,Indie,Racing,Strategy',\n",
              " 'Action,Adventure,Casual,Indie,Massively Multiplayer,Racing,Simulation,Sports,Early Access',\n",
              " 'Free to Play,Racing,Simulation,Early Access',\n",
              " 'Casual,Free to Play,Indie,Racing',\n",
              " 'Casual,Free to Play,Indie,Massively Multiplayer,RPG,Simulation,Strategy,Early Access',\n",
              " 'Violent,Action,Massively Multiplayer',\n",
              " 'RPG,Simulation,Strategy',\n",
              " 'Casual,Free to Play,Massively Multiplayer,Sports,Strategy',\n",
              " 'Sexual Content,Nudity,Adventure,Indie,Simulation,Strategy',\n",
              " 'Action,Free to Play,Indie,RPG,Sports,Strategy',\n",
              " 'Action,Adventure,Casual,Simulation,Sports',\n",
              " 'Casual,Indie,Massively Multiplayer,RPG,Simulation',\n",
              " 'Sexual Content,Violent,Action',\n",
              " 'Adventure,Indie,Racing,RPG,Simulation',\n",
              " 'Adventure,Casual,Indie,RPG,Simulation,Early Access',\n",
              " 'Adventure,Indie,Massively Multiplayer,RPG,Early Access',\n",
              " 'Casual,Free to Play,Indie,RPG,Early Access',\n",
              " 'Software Training,Utilities',\n",
              " 'Action,Casual,Free to Play,Indie,Strategy,Early Access',\n",
              " 'Action,Adventure,Indie,Massively Multiplayer,RPG,Simulation',\n",
              " 'Utilities,Video Production',\n",
              " 'Adventure,Free to Play,Simulation',\n",
              " 'Free to Play,Indie,Massively Multiplayer,RPG,Strategy',\n",
              " 'Indie,Animation & Modeling,Video Production',\n",
              " 'Adventure,Indie,Massively Multiplayer,RPG,Simulation,Strategy,Early Access',\n",
              " 'Action,Adventure,Free to Play,Indie,Massively Multiplayer,RPG,Simulation,Strategy',\n",
              " 'Action,Casual,Free to Play,Indie,Simulation,Sports',\n",
              " 'Action,Adventure,Casual,Free to Play,Indie,RPG,Simulation',\n",
              " 'Animation & Modeling,Design & Illustration,Education,Utilities,Game Development',\n",
              " 'Sexual Content,Nudity,Violent,Gore,Action,Adventure,Indie,RPG',\n",
              " 'Casual,Free to Play,Indie,Massively Multiplayer,Sports',\n",
              " 'Adventure,RPG,Strategy,Early Access',\n",
              " 'Sexual Content,Adventure,Indie,RPG',\n",
              " 'Adventure,Casual,Indie,Racing,Simulation,Early Access',\n",
              " 'Massively Multiplayer,Strategy',\n",
              " 'Adventure,Casual,Free to Play,Sports',\n",
              " 'Animation & Modeling,Design & Illustration,Utilities,Early Access',\n",
              " 'Action,Casual,Indie,RPG,Simulation,Early Access',\n",
              " 'Nudity,Adventure,Casual,Indie,RPG',\n",
              " 'Adventure,Casual,Free to Play,Massively Multiplayer,Simulation',\n",
              " 'Action,Adventure,Casual,Free to Play,Indie,Strategy',\n",
              " 'Action,Massively Multiplayer,RPG,Simulation,Strategy',\n",
              " 'Action,Free to Play,Massively Multiplayer,RPG',\n",
              " 'Gore,Action,Adventure,Indie,RPG',\n",
              " 'Action,Casual,Indie,Racing,Sports,Early Access',\n",
              " 'Massively Multiplayer,Simulation',\n",
              " 'Action,Adventure,Free to Play,Indie,RPG,Strategy',\n",
              " 'Casual,Free to Play,Simulation,Early Access',\n",
              " 'Action,Casual,Massively Multiplayer,Simulation,Sports',\n",
              " 'Action,Racing,Early Access',\n",
              " 'Casual,Free to Play,Indie,Racing,Simulation',\n",
              " 'Racing,Simulation,Sports,Early Access',\n",
              " 'Action,Casual,RPG,Sports',\n",
              " 'Action,Adventure,Free to Play,Massively Multiplayer,Racing,Sports,Strategy',\n",
              " 'Action,Casual,RPG',\n",
              " 'Audio Production,Utilities,Early Access',\n",
              " 'Action,Adventure,Casual,Racing,Simulation,Sports,Early Access',\n",
              " 'Indie,RPG,Simulation,Sports',\n",
              " 'Adventure,Casual,Indie,Massively Multiplayer,RPG,Strategy,Early Access',\n",
              " 'Action,Racing,Simulation,Sports,Early Access',\n",
              " 'Action,Racing,Sports,Early Access',\n",
              " 'Violent,Gore,Action,Indie,Simulation,Sports,Strategy',\n",
              " 'Action,Adventure,Casual,Indie,Sports,Early Access',\n",
              " 'Action,Massively Multiplayer,RPG',\n",
              " 'Violent,Gore,Action,Indie,RPG,Early Access',\n",
              " 'Action,Casual,RPG,Simulation,Sports,Strategy,Early Access',\n",
              " 'Action,Adventure,Racing,Early Access',\n",
              " 'Animation & Modeling,Utilities,Early Access',\n",
              " 'Action,Casual,Indie,Racing,Sports',\n",
              " 'Adventure,Casual,Free to Play,Indie,Massively Multiplayer,RPG,Simulation',\n",
              " 'Nudity,Gore,Adventure,Casual,Indie',\n",
              " 'Action,Massively Multiplayer,Simulation',\n",
              " 'Adventure,Casual,Free to Play,RPG,Strategy',\n",
              " 'Adventure,Casual,Indie,RPG,Simulation,Strategy,Early Access',\n",
              " 'Action,Adventure,Indie,Massively Multiplayer,RPG,Simulation,Strategy,Early Access',\n",
              " 'Action,Adventure,Casual,Indie,Simulation,Sports,Strategy',\n",
              " 'Violent,Gore,Action,Adventure,Indie,RPG',\n",
              " 'Adventure,Strategy,Early Access',\n",
              " 'Violent,Action,Casual,Indie,Early Access',\n",
              " 'Action,Free to Play,Indie,Strategy,Early Access',\n",
              " 'Casual,Free to Play,Massively Multiplayer,Strategy',\n",
              " 'Action,Casual,Early Access',\n",
              " 'Action,Adventure,RPG,Simulation',\n",
              " 'Casual,Free to Play,Massively Multiplayer,RPG,Strategy',\n",
              " 'Adventure,Casual,Indie,Massively Multiplayer',\n",
              " 'Casual,Free to Play,Massively Multiplayer,Racing,Simulation',\n",
              " 'Free to Play,Massively Multiplayer,Simulation,Sports',\n",
              " 'Adventure,Casual,Free to Play,Indie,RPG,Early Access',\n",
              " 'Casual,Indie,Massively Multiplayer,Strategy,Early Access',\n",
              " 'Education,Utilities',\n",
              " 'Free to Play,Massively Multiplayer,Simulation,Strategy',\n",
              " 'Action,Free to Play,Indie,Racing,Sports',\n",
              " 'Gore,Adventure,Casual,Indie',\n",
              " 'Casual,Indie,Racing,Simulation,Early Access',\n",
              " 'Violent,Gore,Action,Free to Play,Indie',\n",
              " 'Web Publishing',\n",
              " 'Action,Casual,Free to Play,Massively Multiplayer,Strategy,Early Access',\n",
              " 'Action,Adventure,Free to Play,Indie,Massively Multiplayer,Racing,RPG,Strategy,Early Access',\n",
              " 'Racing,Sports,Strategy',\n",
              " 'Action,Adventure,Free to Play,Massively Multiplayer,RPG,Simulation,Strategy',\n",
              " 'Action,Free to Play,Indie,Racing,Simulation,Sports',\n",
              " 'Action,Casual,Indie,Racing,Strategy',\n",
              " 'Action,Adventure,Indie,Racing,Sports',\n",
              " 'Casual,Indie,Utilities',\n",
              " 'Action,Adventure,Free to Play,Massively Multiplayer,RPG,Simulation',\n",
              " 'Sexual Content,Casual,Indie',\n",
              " 'Nudity,Indie',\n",
              " 'Action,Free to Play,Indie,RPG,Early Access',\n",
              " 'Action,Casual,Indie,Massively Multiplayer,Racing',\n",
              " 'Animation & Modeling,Photo Editing,Video Production',\n",
              " 'Casual,Indie,Audio Production',\n",
              " 'Gore,Action',\n",
              " 'Action,Free to Play,Strategy,Early Access',\n",
              " 'Action,Adventure,Casual,RPG',\n",
              " 'Audio Production',\n",
              " 'Indie,Simulation,Web Publishing',\n",
              " 'Indie,Massively Multiplayer,RPG,Early Access',\n",
              " 'Action,Adventure,Free to Play,Indie,Massively Multiplayer,Simulation,Strategy',\n",
              " 'Free to Play,Massively Multiplayer,Simulation,Strategy,Early Access',\n",
              " 'Action,Adventure,Casual,Free to Play,RPG',\n",
              " 'Sexual Content,Violent,Action,Casual,Indie',\n",
              " 'Casual,Massively Multiplayer,RPG,Simulation,Early Access',\n",
              " 'Action,Free to Play,Massively Multiplayer,Simulation',\n",
              " 'Action,Adventure,RPG,Sports',\n",
              " 'Adventure,Free to Play,RPG,Strategy',\n",
              " 'Action,Casual,Free to Play,Massively Multiplayer,Sports',\n",
              " 'Action,Massively Multiplayer,Racing,Sports',\n",
              " 'Action,Indie,Racing,Strategy',\n",
              " 'Action,Adventure,Free to Play,Simulation',\n",
              " 'Adventure,Free to Play,Indie,Simulation,Strategy',\n",
              " 'Casual,Massively Multiplayer,Simulation,Strategy',\n",
              " 'Indie,Sports,Strategy',\n",
              " 'Action,Adventure,Casual,Simulation,Strategy,Early Access',\n",
              " 'Casual,Indie,Massively Multiplayer,Simulation,Strategy',\n",
              " 'Massively Multiplayer,Early Access',\n",
              " 'Violent,Action,Indie,Strategy',\n",
              " 'Violent,Action,Adventure,Indie,RPG',\n",
              " 'Free to Play,Utilities',\n",
              " 'Adventure,Casual,Indie,RPG,Sports',\n",
              " 'Casual,Massively Multiplayer,Early Access',\n",
              " 'Action,Indie,Simulation,Sports,Strategy,Early Access',\n",
              " 'Violent,Adventure,Casual',\n",
              " 'Casual,RPG,Strategy',\n",
              " 'Action,Adventure,Casual,Free to Play,Indie,Sports,Early Access',\n",
              " 'Action,Casual,Free to Play,RPG',\n",
              " 'Casual,Animation & Modeling,Design & Illustration,Game Development',\n",
              " 'Adventure,Casual,Racing,Early Access',\n",
              " 'Design & Illustration,Education,Photo Editing,Software Training,Game Development',\n",
              " 'Action,Adventure,Casual,Indie,Massively Multiplayer',\n",
              " 'Action,Adventure,Massively Multiplayer',\n",
              " 'Adventure,Casual,Free to Play,RPG,Simulation,Strategy',\n",
              " 'Action,Adventure,Casual,Free to Play,Indie,Racing,RPG,Simulation,Strategy',\n",
              " 'Violent,Adventure,Free to Play,Indie,RPG',\n",
              " 'Action,Sports,Strategy',\n",
              " 'Action,Adventure,Casual,Massively Multiplayer',\n",
              " 'Free to Play,Massively Multiplayer,Racing,Sports',\n",
              " 'Action,Adventure,Racing,Sports',\n",
              " 'Action,Adventure,Indie,Racing,Simulation,Sports',\n",
              " 'Casual,Indie,Racing,Sports,Early Access',\n",
              " 'Violent,Adventure,Indie,Simulation,Strategy,Early Access',\n",
              " 'Action,Casual,Free to Play,Indie,Massively Multiplayer,RPG,Simulation,Strategy,Early Access',\n",
              " 'Action,Adventure,Free to Play,Indie,Massively Multiplayer,Simulation,Early Access',\n",
              " 'Animation & Modeling,Design & Illustration,Education,Software Training,Utilities,Game Development',\n",
              " 'Action,Adventure,Indie,RPG,Simulation,Sports',\n",
              " 'Action,Free to Play,Massively Multiplayer,RPG,Strategy',\n",
              " 'Action,Free to Play,Indie,Simulation,Strategy',\n",
              " 'Violent,RPG',\n",
              " 'Casual,Free to Play,Massively Multiplayer,RPG,Simulation,Strategy',\n",
              " 'Adventure,Casual,Racing',\n",
              " 'Action,Casual,Free to Play,Indie,Massively Multiplayer,Simulation',\n",
              " 'Adventure,Free to Play,Indie,Simulation,Early Access',\n",
              " 'Violent,Gore,Action,Casual,RPG',\n",
              " 'Casual,Indie,Massively Multiplayer',\n",
              " 'Action,Adventure,Casual,Indie,Massively Multiplayer,RPG,Simulation,Strategy,Early Access',\n",
              " 'Adventure,Free to Play,Indie,RPG,Simulation,Strategy,Early Access',\n",
              " 'Adventure,Casual,Simulation,Early Access',\n",
              " 'Action,Adventure,Indie,Massively Multiplayer,Simulation,Strategy',\n",
              " 'Action,Adventure,Indie,Massively Multiplayer,RPG,Simulation,Strategy',\n",
              " 'Nudity,Violent,Action,Adventure,Indie,Racing,Simulation,Early Access',\n",
              " 'Action,Racing,Simulation',\n",
              " 'Action,Indie,Racing,Simulation,Strategy',\n",
              " 'Indie,Simulation,Animation & Modeling,Video Production,Early Access',\n",
              " 'Sexual Content,Nudity,Casual,Indie,RPG',\n",
              " 'Violent,Action,Indie,Simulation,Strategy,Early Access',\n",
              " 'Adventure,Casual,Racing,Simulation',\n",
              " 'Action,Adventure,Casual,RPG,Simulation',\n",
              " 'Sexual Content,Nudity,Violent,Action,Casual,Indie',\n",
              " 'Action,Adventure,Casual,RPG,Strategy,Early Access',\n",
              " 'Action,Adventure,Indie,Racing,RPG,Sports',\n",
              " 'Action,Indie,Massively Multiplayer,Simulation,Strategy',\n",
              " 'Action,Free to Play,Indie,Massively Multiplayer,Simulation',\n",
              " 'Nudity,Violent,Adventure,Casual,Indie,Simulation',\n",
              " 'Action,Indie,Racing,Simulation,Sports,Early Access',\n",
              " 'Violent,Adventure,Casual,Simulation',\n",
              " 'Animation & Modeling,Design & Illustration,Photo Editing,Software Training,Utilities,Video Production',\n",
              " 'Adventure,Casual,Indie,Massively Multiplayer,Simulation,Early Access',\n",
              " 'Violent,Gore',\n",
              " 'Action,Adventure,Casual,Free to Play,Indie,Racing,RPG,Simulation,Sports',\n",
              " 'Action,Casual,Indie,Massively Multiplayer,Early Access',\n",
              " 'Action,Adventure,Casual,Simulation,Strategy',\n",
              " 'Adventure,Casual,Free to Play,Indie,RPG,Strategy',\n",
              " 'Action,Free to Play,Sports,Early Access',\n",
              " 'Free to Play,RPG,Strategy,Early Access',\n",
              " 'Sexual Content,Adventure,Casual,Indie',\n",
              " 'Design & Illustration,Education,Utilities,Game Development',\n",
              " 'Action,Casual,Free to Play,Indie,Racing,Simulation',\n",
              " 'Action,Casual,Indie,RPG,Simulation,Strategy,Early Access',\n",
              " 'Action,Adventure,Casual,RPG,Early Access',\n",
              " 'Action,Adventure,Indie,Racing,Early Access',\n",
              " 'Free to Play,Indie,RPG,Simulation',\n",
              " 'Action,Adventure,Casual,Simulation,Sports,Strategy,Early Access',\n",
              " 'Audio Production,Utilities',\n",
              " 'Action,Adventure,Casual,Indie,Simulation,Sports,Early Access',\n",
              " 'Action,Adventure,Casual,Free to Play,Indie,Racing,Simulation,Sports',\n",
              " 'Action,Casual,Free to Play,Indie,Sports,Strategy,Early Access',\n",
              " 'Animation & Modeling,Utilities,Video Production',\n",
              " 'Sexual Content,Violent,RPG',\n",
              " 'Simulation,Sports,Early Access',\n",
              " 'Action,Casual,Free to Play,Indie,Sports,Early Access',\n",
              " 'Action,Adventure,Casual,Free to Play,Indie,Simulation,Early Access',\n",
              " 'Casual,Indie,Massively Multiplayer,RPG,Simulation,Strategy',\n",
              " 'Violent,Gore,Adventure,Indie,Strategy',\n",
              " 'Casual,Free to Play,Racing,Simulation,Sports',\n",
              " 'Casual,Racing,Strategy',\n",
              " 'Action,Casual,Design & Illustration,Education,Utilities,Web Publishing,Game Development',\n",
              " 'Action,Casual,Indie,Massively Multiplayer,Simulation',\n",
              " 'Action,Free to Play,Massively Multiplayer,Simulation,Early Access',\n",
              " 'Casual,Education,Software Training,Early Access',\n",
              " 'Action,Free to Play,Indie,Simulation,Sports,Early Access',\n",
              " 'Free to Play,Indie,RPG,Strategy,Early Access',\n",
              " 'Action,Casual,Indie,Massively Multiplayer,Strategy',\n",
              " 'Casual,Free to Play,Indie,RPG,Simulation,Strategy',\n",
              " 'Indie,RPG,Simulation,Sports,Strategy',\n",
              " 'Casual,Indie,Simulation,Animation & Modeling,Audio Production,Design & Illustration,Utilities',\n",
              " 'Adventure,Indie,Racing,Simulation,Sports',\n",
              " 'Casual,Indie,RPG,Simulation,Sports,Strategy',\n",
              " 'Gore,Action,Adventure,RPG,Early Access',\n",
              " 'Action,Casual,Indie,Simulation,Sports,Strategy',\n",
              " 'Adventure,Racing,Early Access',\n",
              " 'Action,Adventure,Free to Play,Racing,Sports,Early Access',\n",
              " 'Free to Play,Indie,Massively Multiplayer,RPG,Simulation,Strategy,Early Access',\n",
              " 'Nudity,Casual,Indie,Sports',\n",
              " 'Free to Play,Massively Multiplayer,RPG,Simulation,Strategy,Early Access',\n",
              " 'Action,Adventure,Indie,Sports,Strategy',\n",
              " 'Casual,Indie,Racing,RPG,Simulation,Sports,Early Access',\n",
              " 'Action,Adventure,Free to Play,Indie,RPG,Simulation,Early Access',\n",
              " 'Violent,Gore,Action,Adventure,Indie,RPG,Strategy',\n",
              " 'Action,Adventure,Casual,Indie,Massively Multiplayer,Racing,RPG,Simulation',\n",
              " 'Action,Adventure,Casual,Racing',\n",
              " 'Education,Early Access',\n",
              " 'Action,Casual,Simulation,Early Access',\n",
              " 'Violent,Gore,Action,Massively Multiplayer,RPG,Simulation',\n",
              " 'Action,Free to Play,Indie,Racing,Simulation,Sports,Early Access',\n",
              " 'Adventure,Massively Multiplayer,Racing,Strategy,Early Access',\n",
              " 'Action,Adventure,Casual,Free to Play,Massively Multiplayer,RPG',\n",
              " 'Action,Casual,Indie,Massively Multiplayer,Sports',\n",
              " 'Violent,Action,Adventure,Indie,Simulation,Strategy',\n",
              " 'Action,Adventure,Casual,Free to Play,Indie,Racing,RPG,Strategy',\n",
              " 'Action,Free to Play,Indie,Racing,Simulation',\n",
              " 'Nudity,Violent,Gore,Action,Indie',\n",
              " 'Action,Free to Play,Massively Multiplayer,Racing',\n",
              " 'Violent,Gore,Action,Indie,RPG,Simulation,Early Access',\n",
              " 'Action,Free to Play,Massively Multiplayer,Strategy',\n",
              " 'Action,Massively Multiplayer,Racing,RPG,Simulation,Early Access',\n",
              " 'Violent,Action,Casual,Racing',\n",
              " 'Action,Adventure,Massively Multiplayer,RPG,Simulation',\n",
              " 'Casual,Indie,Massively Multiplayer,RPG,Sports',\n",
              " 'Indie,Audio Production,Education,Video Production,Early Access',\n",
              " 'Action,Casual,Simulation,Sports,Strategy',\n",
              " 'Indie,Massively Multiplayer,Racing,Simulation,Sports,Early Access',\n",
              " ...]"
            ]
          },
          "execution_count": 22,
          "metadata": {},
          "output_type": "execute_result"
        }
      ],
      "source": [
        "g"
      ]
    },
    {
      "cell_type": "code",
      "execution_count": 23,
      "id": "31e1fa64",
      "metadata": {
        "colab": {
          "base_uri": "https://localhost:8080/"
        },
        "id": "31e1fa64",
        "outputId": "467cb7e7-5b77-4a11-e5b8-bfa8b235ee3f"
      },
      "outputs": [
        {
          "data": {
            "text/plain": [
              "np.int64(0)"
            ]
          },
          "execution_count": 23,
          "metadata": {},
          "output_type": "execute_result"
        }
      ],
      "source": [
        "game_df['Genres'].isna().sum()"
      ]
    },
    {
      "cell_type": "code",
      "execution_count": 24,
      "id": "d6681dd1",
      "metadata": {
        "colab": {
          "base_uri": "https://localhost:8080/"
        },
        "id": "d6681dd1",
        "outputId": "af6a74ab-73eb-46a1-a74b-7f070abc3a6c"
      },
      "outputs": [
        {
          "name": "stdout",
          "output_type": "stream",
          "text": [
            "['360 Video', 'Accounting', 'Action', 'Adventure', 'Animation & Modeling', 'Audio Production', 'Casual', 'Design & Illustration', 'Documentary', 'Early Access', 'Education', 'Episodic', 'Free to Play', 'Game Development', 'Gore', 'Indie', 'Massively Multiplayer', 'Movie', 'Nudity', 'Photo Editing', 'RPG', 'Racing', 'Sexual Content', 'Short', 'Simulation', 'Software Training', 'Sports', 'Strategy', 'Tutorial', 'Utilities', 'Video Production', 'Violent', 'Web Publishing']\n"
          ]
        },
        {
          "data": {
            "text/plain": [
              "33"
            ]
          },
          "execution_count": 24,
          "metadata": {},
          "output_type": "execute_result"
        }
      ],
      "source": [
        "genres_split = game_df['Genres'].str.split(',')\n",
        "\n",
        "\n",
        "all_genres = [genre.strip() for sublist in genres_split for genre in sublist]\n",
        "\n",
        "\n",
        "unique_genres = sorted(set(all_genres))\n",
        "print(unique_genres)\n",
        "len(unique_genres)"
      ]
    },
    {
      "cell_type": "code",
      "execution_count": 25,
      "id": "3fb07fb8",
      "metadata": {
        "colab": {
          "base_uri": "https://localhost:8080/"
        },
        "id": "3fb07fb8",
        "outputId": "3ed2e618-4f17-44e9-c24f-f95c89dff821"
      },
      "outputs": [
        {
          "name": "stdout",
          "output_type": "stream",
          "text": [
            "{'Indie': 47247, 'Action': 27703, 'Casual': 27631, 'Adventure': 25658, 'Simulation': 12999, 'Strategy': 12537, 'RPG': 11464, 'Early Access': 7978, 'Free to Play': 5406, 'Sports': 3074, 'Racing': 2430, 'Massively Multiplayer': 1697, 'Violent': 485, 'Gore': 295, 'Utilities': 240, 'Design & Illustration': 140, 'Animation & Modeling': 117, 'Nudity': 110, 'Sexual Content': 99, 'Education': 92, 'Video Production': 68, 'Game Development': 59, 'Audio Production': 55, 'Software Training': 46, 'Web Publishing': 33, 'Photo Editing': 26, 'Accounting': 5, 'Movie': 2, 'Documentary': 1, 'Episodic': 1, 'Short': 1, 'Tutorial': 1, '360 Video': 1}\n"
          ]
        }
      ],
      "source": [
        "from collections import Counter\n",
        "\n",
        "genre_counts = Counter(all_genres)\n",
        "genre_counts = dict(sorted(genre_counts.items(), key=lambda x: x[1], reverse=True))\n",
        "print(genre_counts)\n"
      ]
    },
    {
      "cell_type": "code",
      "execution_count": null,
      "id": "0bcfd045",
      "metadata": {
        "id": "0bcfd045"
      },
      "outputs": [],
      "source": []
    },
    {
      "cell_type": "code",
      "execution_count": 26,
      "id": "4c44d8db",
      "metadata": {
        "colab": {
          "base_uri": "https://localhost:8080/",
          "height": 1000
        },
        "id": "4c44d8db",
        "outputId": "ab9572fa-f283-4a3b-be8e-493ad5b37ef1"
      },
      "outputs": [
        {
          "data": {
            "text/html": [
              "<div>\n",
              "<style scoped>\n",
              "    .dataframe tbody tr th:only-of-type {\n",
              "        vertical-align: middle;\n",
              "    }\n",
              "\n",
              "    .dataframe tbody tr th {\n",
              "        vertical-align: top;\n",
              "    }\n",
              "\n",
              "    .dataframe thead th {\n",
              "        text-align: right;\n",
              "    }\n",
              "</style>\n",
              "<table border=\"1\" class=\"dataframe\">\n",
              "  <thead>\n",
              "    <tr style=\"text-align: right;\">\n",
              "      <th></th>\n",
              "      <th>AppID</th>\n",
              "      <th>Name</th>\n",
              "      <th>Release date</th>\n",
              "      <th>Estimated owners</th>\n",
              "      <th>Price</th>\n",
              "      <th>About the game</th>\n",
              "      <th>Supported languages</th>\n",
              "      <th>Header image</th>\n",
              "      <th>Windows</th>\n",
              "      <th>Mac</th>\n",
              "      <th>Developers</th>\n",
              "      <th>Publishers</th>\n",
              "      <th>Categories</th>\n",
              "      <th>Genres</th>\n",
              "      <th>Screenshots</th>\n",
              "      <th>Movies</th>\n",
              "    </tr>\n",
              "  </thead>\n",
              "  <tbody>\n",
              "    <tr>\n",
              "      <th>0</th>\n",
              "      <td>20200</td>\n",
              "      <td>Galactic Bowling</td>\n",
              "      <td>Oct 21, 2008</td>\n",
              "      <td>0 - 20000</td>\n",
              "      <td>19.99</td>\n",
              "      <td>Galactic Bowling is an exaggerated and stylized bowling game with an intergalactic twist. Player...</td>\n",
              "      <td>['English']</td>\n",
              "      <td>https://cdn.akamai.steamstatic.com/steam/apps/20200/header.jpg?t=1640121033</td>\n",
              "      <td>True</td>\n",
              "      <td>False</td>\n",
              "      <td>Perpetual FX Creative</td>\n",
              "      <td>Perpetual FX Creative</td>\n",
              "      <td>Single-player,Multi-player,Steam Achievements,Partial Controller Support</td>\n",
              "      <td>Casual,Indie,Sports</td>\n",
              "      <td>https://cdn.akamai.steamstatic.com/steam/apps/20200/0000005994.1920x1080.jpg?t=1640121033,https:...</td>\n",
              "      <td>http://cdn.akamai.steamstatic.com/steam/apps/256863704/movie_max.mp4?t=1638854607</td>\n",
              "    </tr>\n",
              "    <tr>\n",
              "      <th>1</th>\n",
              "      <td>655370</td>\n",
              "      <td>Train Bandit</td>\n",
              "      <td>Oct 12, 2017</td>\n",
              "      <td>0 - 20000</td>\n",
              "      <td>0.99</td>\n",
              "      <td>THE LAW!! Looks to be a showdown atop a train. This will be your last fight. Good luck, Train Ba...</td>\n",
              "      <td>['English', 'French', 'Italian', 'German', 'Spanish - Spain', 'Japanese', 'Portuguese - Brazil',...</td>\n",
              "      <td>https://cdn.akamai.steamstatic.com/steam/apps/655370/header.jpg?t=1617500526</td>\n",
              "      <td>True</td>\n",
              "      <td>True</td>\n",
              "      <td>Rusty Moyher</td>\n",
              "      <td>Wild Rooster</td>\n",
              "      <td>Single-player,Steam Achievements,Full controller support,Steam Leaderboards,Remote Play on Phone...</td>\n",
              "      <td>Action,Indie</td>\n",
              "      <td>https://cdn.akamai.steamstatic.com/steam/apps/655370/ss_16785eac54b29db688870e832f6997c89cd7804b...</td>\n",
              "      <td>http://cdn.akamai.steamstatic.com/steam/apps/256691108/movie_max.mp4?t=1506089586</td>\n",
              "    </tr>\n",
              "    <tr>\n",
              "      <th>2</th>\n",
              "      <td>1732930</td>\n",
              "      <td>Jolt Project</td>\n",
              "      <td>Nov 17, 2021</td>\n",
              "      <td>0 - 20000</td>\n",
              "      <td>4.99</td>\n",
              "      <td>Jolt Project: The army now has a new robotics project, jolt. It's up to you to control it and en...</td>\n",
              "      <td>['English', 'Portuguese - Brazil']</td>\n",
              "      <td>https://cdn.akamai.steamstatic.com/steam/apps/1732930/header.jpg?t=1637149386</td>\n",
              "      <td>True</td>\n",
              "      <td>False</td>\n",
              "      <td>Campião Games</td>\n",
              "      <td>Campião Games</td>\n",
              "      <td>Single-player</td>\n",
              "      <td>Action,Adventure,Indie,Strategy</td>\n",
              "      <td>https://cdn.akamai.steamstatic.com/steam/apps/1732930/ss_09d67dec0607be7c4ead80289763033a47c86d8...</td>\n",
              "      <td>http://cdn.akamai.steamstatic.com/steam/apps/256847488/movie_max.mp4?t=1635980739,http://cdn.aka...</td>\n",
              "    </tr>\n",
              "    <tr>\n",
              "      <th>3</th>\n",
              "      <td>1355720</td>\n",
              "      <td>Henosis™</td>\n",
              "      <td>Jul 23, 2020</td>\n",
              "      <td>0 - 20000</td>\n",
              "      <td>5.99</td>\n",
              "      <td>HENOSIS™ is a mysterious 2D Platform Puzzler where players are propelled into weird and visceral...</td>\n",
              "      <td>['English', 'French', 'Italian', 'German', 'Spanish - Spain', 'Japanese', 'Korean', 'Portuguese'...</td>\n",
              "      <td>https://cdn.akamai.steamstatic.com/steam/apps/1355720/header.jpg?t=1639875115</td>\n",
              "      <td>True</td>\n",
              "      <td>True</td>\n",
              "      <td>Odd Critter Games</td>\n",
              "      <td>Odd Critter Games</td>\n",
              "      <td>Single-player,Full controller support</td>\n",
              "      <td>Adventure,Casual,Indie</td>\n",
              "      <td>https://cdn.akamai.steamstatic.com/steam/apps/1355720/ss_20bbae2d9d5aaa2f043f372a551faabc0c47b0b...</td>\n",
              "      <td>http://cdn.akamai.steamstatic.com/steam/apps/256819153/movie_max.mp4?t=1611314333</td>\n",
              "    </tr>\n",
              "    <tr>\n",
              "      <th>4</th>\n",
              "      <td>1139950</td>\n",
              "      <td>Two Weeks in Painland</td>\n",
              "      <td>Feb 3, 2020</td>\n",
              "      <td>0 - 20000</td>\n",
              "      <td>0.00</td>\n",
              "      <td>ABOUT THE GAME Play as a hacker who has arranged a deal with a gangster. That’s how the protagon...</td>\n",
              "      <td>['English', 'Spanish - Spain']</td>\n",
              "      <td>https://cdn.akamai.steamstatic.com/steam/apps/1139950/header.jpg?t=1595003825</td>\n",
              "      <td>True</td>\n",
              "      <td>True</td>\n",
              "      <td>Unusual Games</td>\n",
              "      <td>Unusual Games</td>\n",
              "      <td>Single-player,Steam Achievements</td>\n",
              "      <td>Adventure,Indie</td>\n",
              "      <td>https://cdn.akamai.steamstatic.com/steam/apps/1139950/ss_cb94604e43f910a3b994f120412bdc5a576222a...</td>\n",
              "      <td>http://cdn.akamai.steamstatic.com/steam/apps/256764430/movie_max.mp4?t=1580660973</td>\n",
              "    </tr>\n",
              "    <tr>\n",
              "      <th>...</th>\n",
              "      <td>...</td>\n",
              "      <td>...</td>\n",
              "      <td>...</td>\n",
              "      <td>...</td>\n",
              "      <td>...</td>\n",
              "      <td>...</td>\n",
              "      <td>...</td>\n",
              "      <td>...</td>\n",
              "      <td>...</td>\n",
              "      <td>...</td>\n",
              "      <td>...</td>\n",
              "      <td>...</td>\n",
              "      <td>...</td>\n",
              "      <td>...</td>\n",
              "      <td>...</td>\n",
              "      <td>...</td>\n",
              "    </tr>\n",
              "    <tr>\n",
              "      <th>71711</th>\n",
              "      <td>2159120</td>\n",
              "      <td>SUR5</td>\n",
              "      <td>Apr 1, 2023</td>\n",
              "      <td>0 - 0</td>\n",
              "      <td>0.00</td>\n",
              "      <td>Innovative Gameplay SUR5 brings a brand new, fun experience that is easy to understand, but has ...</td>\n",
              "      <td>['English', 'Polish', 'Spanish - Latin America']</td>\n",
              "      <td>https://cdn.akamai.steamstatic.com/steam/apps/2159120/header.jpg?t=1680362161</td>\n",
              "      <td>True</td>\n",
              "      <td>False</td>\n",
              "      <td>Katharsis</td>\n",
              "      <td>Katharsis</td>\n",
              "      <td>Single-player,Multi-player,PvP,Online PvP,Steam Achievements,In-App Purchases</td>\n",
              "      <td>Free to Play,Indie,Massively Multiplayer,Strategy,Early Access</td>\n",
              "      <td>https://cdn.akamai.steamstatic.com/steam/apps/2159120/ss_f543d50c34d556d854f5ce0f2fc6c18d5f0e29f...</td>\n",
              "      <td>http://cdn.akamai.steamstatic.com/steam/apps/256917525/movie_max.mp4?t=1669321904</td>\n",
              "    </tr>\n",
              "    <tr>\n",
              "      <th>71712</th>\n",
              "      <td>2125160</td>\n",
              "      <td>Prison Life 2</td>\n",
              "      <td>Mar 30, 2023</td>\n",
              "      <td>0 - 20000</td>\n",
              "      <td>10.79</td>\n",
              "      <td>Core Features Real players only! All Guards and Prisoners are human players. 3 Maps - Bricksfiel...</td>\n",
              "      <td>['English', 'French', 'Italian', 'German', 'Spanish - Spain', 'Bulgarian', 'Czech', 'Danish', 'D...</td>\n",
              "      <td>https://cdn.akamai.steamstatic.com/steam/apps/2125160/header.jpg?t=1680181218</td>\n",
              "      <td>True</td>\n",
              "      <td>False</td>\n",
              "      <td>AO Games</td>\n",
              "      <td>AO Games</td>\n",
              "      <td>Single-player,Multi-player,PvP,Online PvP,Co-op,Online Co-op,Steam Achievements,In-App Purchases...</td>\n",
              "      <td>Casual,Indie,RPG,Simulation,Strategy</td>\n",
              "      <td>https://cdn.akamai.steamstatic.com/steam/apps/2125160/ss_690f64addb4304216fadc4c41816a48c62e7d98...</td>\n",
              "      <td>http://cdn.akamai.steamstatic.com/steam/apps/256932700/movie_max.mp4?t=1677424140</td>\n",
              "    </tr>\n",
              "    <tr>\n",
              "      <th>71713</th>\n",
              "      <td>2318860</td>\n",
              "      <td>Architecture Zeitgeist</td>\n",
              "      <td>Mar 27, 2023</td>\n",
              "      <td>0 - 20000</td>\n",
              "      <td>5.99</td>\n",
              "      <td>Architecture Zeitgeist is a game created with great care by a student at the University of Brasí...</td>\n",
              "      <td>['English', 'Japanese', 'Portuguese - Brazil', 'French', 'Spanish - Latin America', 'Spanish - S...</td>\n",
              "      <td>https://cdn.akamai.steamstatic.com/steam/apps/2318860/header.jpg?t=1680464241</td>\n",
              "      <td>True</td>\n",
              "      <td>False</td>\n",
              "      <td>Matheus Rudo</td>\n",
              "      <td>Rudo Studios</td>\n",
              "      <td>Single-player</td>\n",
              "      <td>Casual,Simulation,Early Access</td>\n",
              "      <td>https://cdn.akamai.steamstatic.com/steam/apps/2318860/ss_40e33a9fab6ec745df518589f3b511f4b231177...</td>\n",
              "      <td>http://cdn.akamai.steamstatic.com/steam/apps/256933896/movie_max.mp4?t=1678721580</td>\n",
              "    </tr>\n",
              "    <tr>\n",
              "      <th>71714</th>\n",
              "      <td>2180330</td>\n",
              "      <td>Girl's Way to Survive 2: Bloody Museum</td>\n",
              "      <td>Apr 2, 2023</td>\n",
              "      <td>0 - 0</td>\n",
              "      <td>2.39</td>\n",
              "      <td>Development progress: prologue map (finished), sewer map (finished), Yangguan 1f and BOSS battle...</td>\n",
              "      <td>['Simplified Chinese']</td>\n",
              "      <td>https://cdn.akamai.steamstatic.com/steam/apps/2180330/header.jpg?t=1680505331</td>\n",
              "      <td>True</td>\n",
              "      <td>False</td>\n",
              "      <td>绅士游戏工坊</td>\n",
              "      <td>绅士游戏工坊</td>\n",
              "      <td>Single-player</td>\n",
              "      <td>Action,Casual,Indie,RPG,Early Access</td>\n",
              "      <td>https://cdn.akamai.steamstatic.com/steam/apps/2180330/ss_965ebe4f2b4d9c83371fce8129f1527be5c0e26...</td>\n",
              "      <td>http://cdn.akamai.steamstatic.com/steam/apps/256917081/movie_max.mp4?t=1675903550</td>\n",
              "    </tr>\n",
              "    <tr>\n",
              "      <th>71715</th>\n",
              "      <td>2352890</td>\n",
              "      <td>Hentai Ariel</td>\n",
              "      <td>Mar 30, 2023</td>\n",
              "      <td>0 - 20000</td>\n",
              "      <td>0.74</td>\n",
              "      <td>'Hentai Ariel' is a unique puzzle in which the image is divided into 8 pieces and the player sho...</td>\n",
              "      <td>['English', 'French', 'Italian', 'German', 'Spanish - Spain', 'Arabic', 'Bulgarian', 'Portuguese...</td>\n",
              "      <td>https://cdn.akamai.steamstatic.com/steam/apps/2352890/header.jpg?t=1680166728</td>\n",
              "      <td>True</td>\n",
              "      <td>False</td>\n",
              "      <td>Cyber Keks</td>\n",
              "      <td>Cyber Keks</td>\n",
              "      <td>Single-player,Steam Achievements</td>\n",
              "      <td>Casual,Indie</td>\n",
              "      <td>https://cdn.akamai.steamstatic.com/steam/apps/2352890/ss_fe803e05050467517bcb4955b3f96afc68aab87...</td>\n",
              "      <td>http://cdn.akamai.steamstatic.com/steam/apps/256935159/movie_max.mp4?t=1678705451</td>\n",
              "    </tr>\n",
              "  </tbody>\n",
              "</table>\n",
              "<p>65206 rows × 16 columns</p>\n",
              "</div>"
            ],
            "text/plain": [
              "         AppID                                    Name  Release date  \\\n",
              "0        20200                        Galactic Bowling  Oct 21, 2008   \n",
              "1       655370                            Train Bandit  Oct 12, 2017   \n",
              "2      1732930                            Jolt Project  Nov 17, 2021   \n",
              "3      1355720                                Henosis™  Jul 23, 2020   \n",
              "4      1139950                   Two Weeks in Painland   Feb 3, 2020   \n",
              "...        ...                                     ...           ...   \n",
              "71711  2159120                                    SUR5   Apr 1, 2023   \n",
              "71712  2125160                           Prison Life 2  Mar 30, 2023   \n",
              "71713  2318860                  Architecture Zeitgeist  Mar 27, 2023   \n",
              "71714  2180330  Girl's Way to Survive 2: Bloody Museum   Apr 2, 2023   \n",
              "71715  2352890                            Hentai Ariel  Mar 30, 2023   \n",
              "\n",
              "      Estimated owners  Price  \\\n",
              "0            0 - 20000  19.99   \n",
              "1            0 - 20000   0.99   \n",
              "2            0 - 20000   4.99   \n",
              "3            0 - 20000   5.99   \n",
              "4            0 - 20000   0.00   \n",
              "...                ...    ...   \n",
              "71711            0 - 0   0.00   \n",
              "71712        0 - 20000  10.79   \n",
              "71713        0 - 20000   5.99   \n",
              "71714            0 - 0   2.39   \n",
              "71715        0 - 20000   0.74   \n",
              "\n",
              "                                                                                            About the game  \\\n",
              "0      Galactic Bowling is an exaggerated and stylized bowling game with an intergalactic twist. Player...   \n",
              "1      THE LAW!! Looks to be a showdown atop a train. This will be your last fight. Good luck, Train Ba...   \n",
              "2      Jolt Project: The army now has a new robotics project, jolt. It's up to you to control it and en...   \n",
              "3      HENOSIS™ is a mysterious 2D Platform Puzzler where players are propelled into weird and visceral...   \n",
              "4      ABOUT THE GAME Play as a hacker who has arranged a deal with a gangster. That’s how the protagon...   \n",
              "...                                                                                                    ...   \n",
              "71711  Innovative Gameplay SUR5 brings a brand new, fun experience that is easy to understand, but has ...   \n",
              "71712  Core Features Real players only! All Guards and Prisoners are human players. 3 Maps - Bricksfiel...   \n",
              "71713  Architecture Zeitgeist is a game created with great care by a student at the University of Brasí...   \n",
              "71714  Development progress: prologue map (finished), sewer map (finished), Yangguan 1f and BOSS battle...   \n",
              "71715  'Hentai Ariel' is a unique puzzle in which the image is divided into 8 pieces and the player sho...   \n",
              "\n",
              "                                                                                       Supported languages  \\\n",
              "0                                                                                              ['English']   \n",
              "1      ['English', 'French', 'Italian', 'German', 'Spanish - Spain', 'Japanese', 'Portuguese - Brazil',...   \n",
              "2                                                                       ['English', 'Portuguese - Brazil']   \n",
              "3      ['English', 'French', 'Italian', 'German', 'Spanish - Spain', 'Japanese', 'Korean', 'Portuguese'...   \n",
              "4                                                                           ['English', 'Spanish - Spain']   \n",
              "...                                                                                                    ...   \n",
              "71711                                                     ['English', 'Polish', 'Spanish - Latin America']   \n",
              "71712  ['English', 'French', 'Italian', 'German', 'Spanish - Spain', 'Bulgarian', 'Czech', 'Danish', 'D...   \n",
              "71713  ['English', 'Japanese', 'Portuguese - Brazil', 'French', 'Spanish - Latin America', 'Spanish - S...   \n",
              "71714                                                                               ['Simplified Chinese']   \n",
              "71715  ['English', 'French', 'Italian', 'German', 'Spanish - Spain', 'Arabic', 'Bulgarian', 'Portuguese...   \n",
              "\n",
              "                                                                        Header image  \\\n",
              "0        https://cdn.akamai.steamstatic.com/steam/apps/20200/header.jpg?t=1640121033   \n",
              "1       https://cdn.akamai.steamstatic.com/steam/apps/655370/header.jpg?t=1617500526   \n",
              "2      https://cdn.akamai.steamstatic.com/steam/apps/1732930/header.jpg?t=1637149386   \n",
              "3      https://cdn.akamai.steamstatic.com/steam/apps/1355720/header.jpg?t=1639875115   \n",
              "4      https://cdn.akamai.steamstatic.com/steam/apps/1139950/header.jpg?t=1595003825   \n",
              "...                                                                              ...   \n",
              "71711  https://cdn.akamai.steamstatic.com/steam/apps/2159120/header.jpg?t=1680362161   \n",
              "71712  https://cdn.akamai.steamstatic.com/steam/apps/2125160/header.jpg?t=1680181218   \n",
              "71713  https://cdn.akamai.steamstatic.com/steam/apps/2318860/header.jpg?t=1680464241   \n",
              "71714  https://cdn.akamai.steamstatic.com/steam/apps/2180330/header.jpg?t=1680505331   \n",
              "71715  https://cdn.akamai.steamstatic.com/steam/apps/2352890/header.jpg?t=1680166728   \n",
              "\n",
              "       Windows    Mac             Developers             Publishers  \\\n",
              "0         True  False  Perpetual FX Creative  Perpetual FX Creative   \n",
              "1         True   True           Rusty Moyher           Wild Rooster   \n",
              "2         True  False          Campião Games          Campião Games   \n",
              "3         True   True      Odd Critter Games      Odd Critter Games   \n",
              "4         True   True          Unusual Games          Unusual Games   \n",
              "...        ...    ...                    ...                    ...   \n",
              "71711     True  False              Katharsis              Katharsis   \n",
              "71712     True  False               AO Games               AO Games   \n",
              "71713     True  False           Matheus Rudo           Rudo Studios   \n",
              "71714     True  False                 绅士游戏工坊                 绅士游戏工坊   \n",
              "71715     True  False             Cyber Keks             Cyber Keks   \n",
              "\n",
              "                                                                                                Categories  \\\n",
              "0                                 Single-player,Multi-player,Steam Achievements,Partial Controller Support   \n",
              "1      Single-player,Steam Achievements,Full controller support,Steam Leaderboards,Remote Play on Phone...   \n",
              "2                                                                                            Single-player   \n",
              "3                                                                    Single-player,Full controller support   \n",
              "4                                                                         Single-player,Steam Achievements   \n",
              "...                                                                                                    ...   \n",
              "71711                        Single-player,Multi-player,PvP,Online PvP,Steam Achievements,In-App Purchases   \n",
              "71712  Single-player,Multi-player,PvP,Online PvP,Co-op,Online Co-op,Steam Achievements,In-App Purchases...   \n",
              "71713                                                                                        Single-player   \n",
              "71714                                                                                        Single-player   \n",
              "71715                                                                     Single-player,Steam Achievements   \n",
              "\n",
              "                                                               Genres  \\\n",
              "0                                                 Casual,Indie,Sports   \n",
              "1                                                        Action,Indie   \n",
              "2                                     Action,Adventure,Indie,Strategy   \n",
              "3                                              Adventure,Casual,Indie   \n",
              "4                                                     Adventure,Indie   \n",
              "...                                                               ...   \n",
              "71711  Free to Play,Indie,Massively Multiplayer,Strategy,Early Access   \n",
              "71712                            Casual,Indie,RPG,Simulation,Strategy   \n",
              "71713                                  Casual,Simulation,Early Access   \n",
              "71714                            Action,Casual,Indie,RPG,Early Access   \n",
              "71715                                                    Casual,Indie   \n",
              "\n",
              "                                                                                               Screenshots  \\\n",
              "0      https://cdn.akamai.steamstatic.com/steam/apps/20200/0000005994.1920x1080.jpg?t=1640121033,https:...   \n",
              "1      https://cdn.akamai.steamstatic.com/steam/apps/655370/ss_16785eac54b29db688870e832f6997c89cd7804b...   \n",
              "2      https://cdn.akamai.steamstatic.com/steam/apps/1732930/ss_09d67dec0607be7c4ead80289763033a47c86d8...   \n",
              "3      https://cdn.akamai.steamstatic.com/steam/apps/1355720/ss_20bbae2d9d5aaa2f043f372a551faabc0c47b0b...   \n",
              "4      https://cdn.akamai.steamstatic.com/steam/apps/1139950/ss_cb94604e43f910a3b994f120412bdc5a576222a...   \n",
              "...                                                                                                    ...   \n",
              "71711  https://cdn.akamai.steamstatic.com/steam/apps/2159120/ss_f543d50c34d556d854f5ce0f2fc6c18d5f0e29f...   \n",
              "71712  https://cdn.akamai.steamstatic.com/steam/apps/2125160/ss_690f64addb4304216fadc4c41816a48c62e7d98...   \n",
              "71713  https://cdn.akamai.steamstatic.com/steam/apps/2318860/ss_40e33a9fab6ec745df518589f3b511f4b231177...   \n",
              "71714  https://cdn.akamai.steamstatic.com/steam/apps/2180330/ss_965ebe4f2b4d9c83371fce8129f1527be5c0e26...   \n",
              "71715  https://cdn.akamai.steamstatic.com/steam/apps/2352890/ss_fe803e05050467517bcb4955b3f96afc68aab87...   \n",
              "\n",
              "                                                                                                    Movies  \n",
              "0                        http://cdn.akamai.steamstatic.com/steam/apps/256863704/movie_max.mp4?t=1638854607  \n",
              "1                        http://cdn.akamai.steamstatic.com/steam/apps/256691108/movie_max.mp4?t=1506089586  \n",
              "2      http://cdn.akamai.steamstatic.com/steam/apps/256847488/movie_max.mp4?t=1635980739,http://cdn.aka...  \n",
              "3                        http://cdn.akamai.steamstatic.com/steam/apps/256819153/movie_max.mp4?t=1611314333  \n",
              "4                        http://cdn.akamai.steamstatic.com/steam/apps/256764430/movie_max.mp4?t=1580660973  \n",
              "...                                                                                                    ...  \n",
              "71711                    http://cdn.akamai.steamstatic.com/steam/apps/256917525/movie_max.mp4?t=1669321904  \n",
              "71712                    http://cdn.akamai.steamstatic.com/steam/apps/256932700/movie_max.mp4?t=1677424140  \n",
              "71713                    http://cdn.akamai.steamstatic.com/steam/apps/256933896/movie_max.mp4?t=1678721580  \n",
              "71714                    http://cdn.akamai.steamstatic.com/steam/apps/256917081/movie_max.mp4?t=1675903550  \n",
              "71715                    http://cdn.akamai.steamstatic.com/steam/apps/256935159/movie_max.mp4?t=1678705451  \n",
              "\n",
              "[65206 rows x 16 columns]"
            ]
          },
          "execution_count": 26,
          "metadata": {},
          "output_type": "execute_result"
        }
      ],
      "source": [
        "game_df"
      ]
    },
    {
      "cell_type": "code",
      "execution_count": null,
      "id": "ab45ad69",
      "metadata": {
        "id": "ab45ad69"
      },
      "outputs": [],
      "source": []
    },
    {
      "cell_type": "code",
      "execution_count": 27,
      "id": "2061e458",
      "metadata": {
        "id": "2061e458"
      },
      "outputs": [],
      "source": [
        "\n",
        "genre_to_category = {\n",
        "    'Nudity': 'Adult', 'Sexual Content': 'Adult', 'Violent': 'Adult', 'Gore': 'Adult',\n",
        "    'Utilities': 'Software', 'Design & Illustration': 'Software', 'Animation & Modeling': 'Software',\n",
        "    'Video Production': 'Software', 'Game Development': 'Software', 'Audio Production': 'Software',\n",
        "    'Software Training': 'Software', 'Web Publishing': 'Software', 'Photo Editing': 'Software',\n",
        "    'Accounting': 'Software', 'Movie': 'Media', 'Documentary': 'Media', 'Episodic': 'Media',\n",
        "    'Short': 'Media', 'Tutorial': 'Media', '360 Video': 'Media', 'Education': 'Education'\n",
        "}\n",
        "\n",
        "game_genres = [\n",
        "    'Indie', 'Action', 'Casual', 'Adventure', 'Simulation',\n",
        "    'Strategy', 'RPG', 'Early Access', 'Free to Play',\n",
        "    'Sports', 'Racing', 'Massively Multiplayer'\n",
        "]\n",
        "\n",
        "\n",
        "def map_genres(genre_str):\n",
        "    if pd.isna(genre_str):\n",
        "        return genre_str\n",
        "    genres = [g.strip() for g in genre_str.split(',')]\n",
        "    mapped = []\n",
        "\n",
        "    for g in genres:\n",
        "        if g in game_genres:\n",
        "            mapped.append(g)\n",
        "        elif g in genre_to_category:\n",
        "            mapped.append(genre_to_category[g])\n",
        "        else:\n",
        "            mapped.append(g)\n",
        "    return ','.join(sorted(set(mapped)))\n",
        "\n",
        "\n",
        "game_df['Genres'] = game_df['Genres'].apply(map_genres)\n"
      ]
    },
    {
      "cell_type": "code",
      "execution_count": null,
      "id": "8OSxWCyTFnzT",
      "metadata": {
        "id": "8OSxWCyTFnzT"
      },
      "outputs": [],
      "source": []
    },
    {
      "cell_type": "code",
      "execution_count": 28,
      "id": "D3mm6ezLASzr",
      "metadata": {
        "colab": {
          "base_uri": "https://localhost:8080/",
          "height": 1000
        },
        "id": "D3mm6ezLASzr",
        "outputId": "65bdb400-88df-4127-8f85-eba480936061"
      },
      "outputs": [
        {
          "data": {
            "text/html": [
              "<div>\n",
              "<style scoped>\n",
              "    .dataframe tbody tr th:only-of-type {\n",
              "        vertical-align: middle;\n",
              "    }\n",
              "\n",
              "    .dataframe tbody tr th {\n",
              "        vertical-align: top;\n",
              "    }\n",
              "\n",
              "    .dataframe thead th {\n",
              "        text-align: right;\n",
              "    }\n",
              "</style>\n",
              "<table border=\"1\" class=\"dataframe\">\n",
              "  <thead>\n",
              "    <tr style=\"text-align: right;\">\n",
              "      <th></th>\n",
              "      <th>AppID</th>\n",
              "      <th>Name</th>\n",
              "      <th>Release date</th>\n",
              "      <th>Estimated owners</th>\n",
              "      <th>Price</th>\n",
              "      <th>About the game</th>\n",
              "      <th>Supported languages</th>\n",
              "      <th>Header image</th>\n",
              "      <th>Windows</th>\n",
              "      <th>Mac</th>\n",
              "      <th>Developers</th>\n",
              "      <th>Publishers</th>\n",
              "      <th>Categories</th>\n",
              "      <th>Genres</th>\n",
              "      <th>Screenshots</th>\n",
              "      <th>Movies</th>\n",
              "    </tr>\n",
              "  </thead>\n",
              "  <tbody>\n",
              "    <tr>\n",
              "      <th>0</th>\n",
              "      <td>20200</td>\n",
              "      <td>Galactic Bowling</td>\n",
              "      <td>Oct 21, 2008</td>\n",
              "      <td>0 - 20000</td>\n",
              "      <td>19.99</td>\n",
              "      <td>Galactic Bowling is an exaggerated and stylized bowling game with an intergalactic twist. Player...</td>\n",
              "      <td>['English']</td>\n",
              "      <td>https://cdn.akamai.steamstatic.com/steam/apps/20200/header.jpg?t=1640121033</td>\n",
              "      <td>True</td>\n",
              "      <td>False</td>\n",
              "      <td>Perpetual FX Creative</td>\n",
              "      <td>Perpetual FX Creative</td>\n",
              "      <td>Single-player,Multi-player,Steam Achievements,Partial Controller Support</td>\n",
              "      <td>Casual,Indie,Sports</td>\n",
              "      <td>https://cdn.akamai.steamstatic.com/steam/apps/20200/0000005994.1920x1080.jpg?t=1640121033,https:...</td>\n",
              "      <td>http://cdn.akamai.steamstatic.com/steam/apps/256863704/movie_max.mp4?t=1638854607</td>\n",
              "    </tr>\n",
              "    <tr>\n",
              "      <th>1</th>\n",
              "      <td>655370</td>\n",
              "      <td>Train Bandit</td>\n",
              "      <td>Oct 12, 2017</td>\n",
              "      <td>0 - 20000</td>\n",
              "      <td>0.99</td>\n",
              "      <td>THE LAW!! Looks to be a showdown atop a train. This will be your last fight. Good luck, Train Ba...</td>\n",
              "      <td>['English', 'French', 'Italian', 'German', 'Spanish - Spain', 'Japanese', 'Portuguese - Brazil',...</td>\n",
              "      <td>https://cdn.akamai.steamstatic.com/steam/apps/655370/header.jpg?t=1617500526</td>\n",
              "      <td>True</td>\n",
              "      <td>True</td>\n",
              "      <td>Rusty Moyher</td>\n",
              "      <td>Wild Rooster</td>\n",
              "      <td>Single-player,Steam Achievements,Full controller support,Steam Leaderboards,Remote Play on Phone...</td>\n",
              "      <td>Action,Indie</td>\n",
              "      <td>https://cdn.akamai.steamstatic.com/steam/apps/655370/ss_16785eac54b29db688870e832f6997c89cd7804b...</td>\n",
              "      <td>http://cdn.akamai.steamstatic.com/steam/apps/256691108/movie_max.mp4?t=1506089586</td>\n",
              "    </tr>\n",
              "    <tr>\n",
              "      <th>2</th>\n",
              "      <td>1732930</td>\n",
              "      <td>Jolt Project</td>\n",
              "      <td>Nov 17, 2021</td>\n",
              "      <td>0 - 20000</td>\n",
              "      <td>4.99</td>\n",
              "      <td>Jolt Project: The army now has a new robotics project, jolt. It's up to you to control it and en...</td>\n",
              "      <td>['English', 'Portuguese - Brazil']</td>\n",
              "      <td>https://cdn.akamai.steamstatic.com/steam/apps/1732930/header.jpg?t=1637149386</td>\n",
              "      <td>True</td>\n",
              "      <td>False</td>\n",
              "      <td>Campião Games</td>\n",
              "      <td>Campião Games</td>\n",
              "      <td>Single-player</td>\n",
              "      <td>Action,Adventure,Indie,Strategy</td>\n",
              "      <td>https://cdn.akamai.steamstatic.com/steam/apps/1732930/ss_09d67dec0607be7c4ead80289763033a47c86d8...</td>\n",
              "      <td>http://cdn.akamai.steamstatic.com/steam/apps/256847488/movie_max.mp4?t=1635980739,http://cdn.aka...</td>\n",
              "    </tr>\n",
              "    <tr>\n",
              "      <th>3</th>\n",
              "      <td>1355720</td>\n",
              "      <td>Henosis™</td>\n",
              "      <td>Jul 23, 2020</td>\n",
              "      <td>0 - 20000</td>\n",
              "      <td>5.99</td>\n",
              "      <td>HENOSIS™ is a mysterious 2D Platform Puzzler where players are propelled into weird and visceral...</td>\n",
              "      <td>['English', 'French', 'Italian', 'German', 'Spanish - Spain', 'Japanese', 'Korean', 'Portuguese'...</td>\n",
              "      <td>https://cdn.akamai.steamstatic.com/steam/apps/1355720/header.jpg?t=1639875115</td>\n",
              "      <td>True</td>\n",
              "      <td>True</td>\n",
              "      <td>Odd Critter Games</td>\n",
              "      <td>Odd Critter Games</td>\n",
              "      <td>Single-player,Full controller support</td>\n",
              "      <td>Adventure,Casual,Indie</td>\n",
              "      <td>https://cdn.akamai.steamstatic.com/steam/apps/1355720/ss_20bbae2d9d5aaa2f043f372a551faabc0c47b0b...</td>\n",
              "      <td>http://cdn.akamai.steamstatic.com/steam/apps/256819153/movie_max.mp4?t=1611314333</td>\n",
              "    </tr>\n",
              "    <tr>\n",
              "      <th>4</th>\n",
              "      <td>1139950</td>\n",
              "      <td>Two Weeks in Painland</td>\n",
              "      <td>Feb 3, 2020</td>\n",
              "      <td>0 - 20000</td>\n",
              "      <td>0.00</td>\n",
              "      <td>ABOUT THE GAME Play as a hacker who has arranged a deal with a gangster. That’s how the protagon...</td>\n",
              "      <td>['English', 'Spanish - Spain']</td>\n",
              "      <td>https://cdn.akamai.steamstatic.com/steam/apps/1139950/header.jpg?t=1595003825</td>\n",
              "      <td>True</td>\n",
              "      <td>True</td>\n",
              "      <td>Unusual Games</td>\n",
              "      <td>Unusual Games</td>\n",
              "      <td>Single-player,Steam Achievements</td>\n",
              "      <td>Adventure,Indie</td>\n",
              "      <td>https://cdn.akamai.steamstatic.com/steam/apps/1139950/ss_cb94604e43f910a3b994f120412bdc5a576222a...</td>\n",
              "      <td>http://cdn.akamai.steamstatic.com/steam/apps/256764430/movie_max.mp4?t=1580660973</td>\n",
              "    </tr>\n",
              "  </tbody>\n",
              "</table>\n",
              "</div>"
            ],
            "text/plain": [
              "     AppID                   Name  Release date Estimated owners  Price  \\\n",
              "0    20200       Galactic Bowling  Oct 21, 2008        0 - 20000  19.99   \n",
              "1   655370           Train Bandit  Oct 12, 2017        0 - 20000   0.99   \n",
              "2  1732930           Jolt Project  Nov 17, 2021        0 - 20000   4.99   \n",
              "3  1355720               Henosis™  Jul 23, 2020        0 - 20000   5.99   \n",
              "4  1139950  Two Weeks in Painland   Feb 3, 2020        0 - 20000   0.00   \n",
              "\n",
              "                                                                                        About the game  \\\n",
              "0  Galactic Bowling is an exaggerated and stylized bowling game with an intergalactic twist. Player...   \n",
              "1  THE LAW!! Looks to be a showdown atop a train. This will be your last fight. Good luck, Train Ba...   \n",
              "2  Jolt Project: The army now has a new robotics project, jolt. It's up to you to control it and en...   \n",
              "3  HENOSIS™ is a mysterious 2D Platform Puzzler where players are propelled into weird and visceral...   \n",
              "4  ABOUT THE GAME Play as a hacker who has arranged a deal with a gangster. That’s how the protagon...   \n",
              "\n",
              "                                                                                   Supported languages  \\\n",
              "0                                                                                          ['English']   \n",
              "1  ['English', 'French', 'Italian', 'German', 'Spanish - Spain', 'Japanese', 'Portuguese - Brazil',...   \n",
              "2                                                                   ['English', 'Portuguese - Brazil']   \n",
              "3  ['English', 'French', 'Italian', 'German', 'Spanish - Spain', 'Japanese', 'Korean', 'Portuguese'...   \n",
              "4                                                                       ['English', 'Spanish - Spain']   \n",
              "\n",
              "                                                                    Header image  \\\n",
              "0    https://cdn.akamai.steamstatic.com/steam/apps/20200/header.jpg?t=1640121033   \n",
              "1   https://cdn.akamai.steamstatic.com/steam/apps/655370/header.jpg?t=1617500526   \n",
              "2  https://cdn.akamai.steamstatic.com/steam/apps/1732930/header.jpg?t=1637149386   \n",
              "3  https://cdn.akamai.steamstatic.com/steam/apps/1355720/header.jpg?t=1639875115   \n",
              "4  https://cdn.akamai.steamstatic.com/steam/apps/1139950/header.jpg?t=1595003825   \n",
              "\n",
              "   Windows    Mac             Developers             Publishers  \\\n",
              "0     True  False  Perpetual FX Creative  Perpetual FX Creative   \n",
              "1     True   True           Rusty Moyher           Wild Rooster   \n",
              "2     True  False          Campião Games          Campião Games   \n",
              "3     True   True      Odd Critter Games      Odd Critter Games   \n",
              "4     True   True          Unusual Games          Unusual Games   \n",
              "\n",
              "                                                                                            Categories  \\\n",
              "0                             Single-player,Multi-player,Steam Achievements,Partial Controller Support   \n",
              "1  Single-player,Steam Achievements,Full controller support,Steam Leaderboards,Remote Play on Phone...   \n",
              "2                                                                                        Single-player   \n",
              "3                                                                Single-player,Full controller support   \n",
              "4                                                                     Single-player,Steam Achievements   \n",
              "\n",
              "                            Genres  \\\n",
              "0              Casual,Indie,Sports   \n",
              "1                     Action,Indie   \n",
              "2  Action,Adventure,Indie,Strategy   \n",
              "3           Adventure,Casual,Indie   \n",
              "4                  Adventure,Indie   \n",
              "\n",
              "                                                                                           Screenshots  \\\n",
              "0  https://cdn.akamai.steamstatic.com/steam/apps/20200/0000005994.1920x1080.jpg?t=1640121033,https:...   \n",
              "1  https://cdn.akamai.steamstatic.com/steam/apps/655370/ss_16785eac54b29db688870e832f6997c89cd7804b...   \n",
              "2  https://cdn.akamai.steamstatic.com/steam/apps/1732930/ss_09d67dec0607be7c4ead80289763033a47c86d8...   \n",
              "3  https://cdn.akamai.steamstatic.com/steam/apps/1355720/ss_20bbae2d9d5aaa2f043f372a551faabc0c47b0b...   \n",
              "4  https://cdn.akamai.steamstatic.com/steam/apps/1139950/ss_cb94604e43f910a3b994f120412bdc5a576222a...   \n",
              "\n",
              "                                                                                                Movies  \n",
              "0                    http://cdn.akamai.steamstatic.com/steam/apps/256863704/movie_max.mp4?t=1638854607  \n",
              "1                    http://cdn.akamai.steamstatic.com/steam/apps/256691108/movie_max.mp4?t=1506089586  \n",
              "2  http://cdn.akamai.steamstatic.com/steam/apps/256847488/movie_max.mp4?t=1635980739,http://cdn.aka...  \n",
              "3                    http://cdn.akamai.steamstatic.com/steam/apps/256819153/movie_max.mp4?t=1611314333  \n",
              "4                    http://cdn.akamai.steamstatic.com/steam/apps/256764430/movie_max.mp4?t=1580660973  "
            ]
          },
          "execution_count": 28,
          "metadata": {},
          "output_type": "execute_result"
        }
      ],
      "source": [
        "game_df.head()"
      ]
    },
    {
      "cell_type": "code",
      "execution_count": 29,
      "id": "asqXVgYbF5F7",
      "metadata": {
        "colab": {
          "base_uri": "https://localhost:8080/"
        },
        "id": "asqXVgYbF5F7",
        "outputId": "476f2ef6-928e-4837-8fd4-9940361880d3"
      },
      "outputs": [
        {
          "name": "stdout",
          "output_type": "stream",
          "text": [
            "['Action', 'Adult', 'Adventure', 'Casual', 'Early Access', 'Education', 'Free to Play', 'Indie', 'Massively Multiplayer', 'Media', 'RPG', 'Racing', 'Simulation', 'Software', 'Sports', 'Strategy']\n"
          ]
        },
        {
          "data": {
            "text/plain": [
              "16"
            ]
          },
          "execution_count": 29,
          "metadata": {},
          "output_type": "execute_result"
        }
      ],
      "source": [
        "genres_split = game_df['Genres'].str.split(',')\n",
        "\n",
        "\n",
        "all_genres = [genre.strip() for sublist in genres_split for genre in sublist]\n",
        "\n",
        "\n",
        "unique_genres = sorted(set(all_genres))\n",
        "print(unique_genres)\n",
        "len(unique_genres)"
      ]
    },
    {
      "cell_type": "code",
      "execution_count": 30,
      "id": "uVFFvU5lG-F6",
      "metadata": {
        "id": "uVFFvU5lG-F6"
      },
      "outputs": [],
      "source": [
        "game_df['Released_date'] = pd.to_datetime(game_df['Release date'], errors='coerce')"
      ]
    },
    {
      "cell_type": "code",
      "execution_count": 31,
      "id": "Z6k_ihHBHPIs",
      "metadata": {
        "colab": {
          "base_uri": "https://localhost:8080/"
        },
        "id": "Z6k_ihHBHPIs",
        "outputId": "5f6817ea-a369-4da7-abf2-4591433a98fb"
      },
      "outputs": [
        {
          "data": {
            "text/plain": [
              "Index(['AppID', 'Name', 'Release date', 'Estimated owners', 'Price',\n",
              "       'About the game', 'Supported languages', 'Header image', 'Windows',\n",
              "       'Mac', 'Developers', 'Publishers', 'Categories', 'Genres',\n",
              "       'Screenshots', 'Movies', 'Released_date'],\n",
              "      dtype='object')"
            ]
          },
          "execution_count": 31,
          "metadata": {},
          "output_type": "execute_result"
        }
      ],
      "source": [
        "game_df.columns"
      ]
    },
    {
      "cell_type": "code",
      "execution_count": 32,
      "id": "qGaaG4hlHSF5",
      "metadata": {
        "colab": {
          "base_uri": "https://localhost:8080/",
          "height": 458
        },
        "id": "qGaaG4hlHSF5",
        "outputId": "ea38585c-0966-4312-9da3-9af4c32e25c3"
      },
      "outputs": [
        {
          "data": {
            "text/plain": [
              "0       2008-10-21\n",
              "1       2017-10-12\n",
              "2       2021-11-17\n",
              "3       2020-07-23\n",
              "4       2020-02-03\n",
              "           ...    \n",
              "71711   2023-04-01\n",
              "71712   2023-03-30\n",
              "71713   2023-03-27\n",
              "71714   2023-04-02\n",
              "71715   2023-03-30\n",
              "Name: Released_date, Length: 65206, dtype: datetime64[ns]"
            ]
          },
          "execution_count": 32,
          "metadata": {},
          "output_type": "execute_result"
        }
      ],
      "source": [
        "game_df['Released_date']"
      ]
    },
    {
      "cell_type": "markdown",
      "id": "cn4crJAmHMqg",
      "metadata": {
        "id": "cn4crJAmHMqg"
      },
      "source": []
    },
    {
      "cell_type": "code",
      "execution_count": 33,
      "id": "Vvz0jWLnHbA5",
      "metadata": {
        "id": "Vvz0jWLnHbA5"
      },
      "outputs": [],
      "source": [
        "game_df['Release_year'] = game_df['Released_date'].dt.year.astype('Int64')\n",
        "game_df['Release_month'] = game_df['Released_date'].dt.month.astype('Int64')\n",
        "game_df['Release_day'] = game_df['Released_date'].dt.day.astype('Int64')"
      ]
    },
    {
      "cell_type": "code",
      "execution_count": 34,
      "id": "oepz3tPiRwNx",
      "metadata": {
        "colab": {
          "base_uri": "https://localhost:8080/",
          "height": 1000
        },
        "id": "oepz3tPiRwNx",
        "outputId": "7ab880ae-c38b-4fd8-f26c-aaa75c702ea6"
      },
      "outputs": [
        {
          "data": {
            "text/html": [
              "<div>\n",
              "<style scoped>\n",
              "    .dataframe tbody tr th:only-of-type {\n",
              "        vertical-align: middle;\n",
              "    }\n",
              "\n",
              "    .dataframe tbody tr th {\n",
              "        vertical-align: top;\n",
              "    }\n",
              "\n",
              "    .dataframe thead th {\n",
              "        text-align: right;\n",
              "    }\n",
              "</style>\n",
              "<table border=\"1\" class=\"dataframe\">\n",
              "  <thead>\n",
              "    <tr style=\"text-align: right;\">\n",
              "      <th></th>\n",
              "      <th>AppID</th>\n",
              "      <th>Name</th>\n",
              "      <th>Release date</th>\n",
              "      <th>Estimated owners</th>\n",
              "      <th>Price</th>\n",
              "      <th>About the game</th>\n",
              "      <th>Supported languages</th>\n",
              "      <th>Header image</th>\n",
              "      <th>Windows</th>\n",
              "      <th>Mac</th>\n",
              "      <th>Developers</th>\n",
              "      <th>Publishers</th>\n",
              "      <th>Categories</th>\n",
              "      <th>Genres</th>\n",
              "      <th>Screenshots</th>\n",
              "      <th>Movies</th>\n",
              "      <th>Released_date</th>\n",
              "      <th>Release_year</th>\n",
              "      <th>Release_month</th>\n",
              "      <th>Release_day</th>\n",
              "    </tr>\n",
              "  </thead>\n",
              "  <tbody>\n",
              "    <tr>\n",
              "      <th>0</th>\n",
              "      <td>20200</td>\n",
              "      <td>Galactic Bowling</td>\n",
              "      <td>Oct 21, 2008</td>\n",
              "      <td>0 - 20000</td>\n",
              "      <td>19.99</td>\n",
              "      <td>Galactic Bowling is an exaggerated and stylized bowling game with an intergalactic twist. Player...</td>\n",
              "      <td>['English']</td>\n",
              "      <td>https://cdn.akamai.steamstatic.com/steam/apps/20200/header.jpg?t=1640121033</td>\n",
              "      <td>True</td>\n",
              "      <td>False</td>\n",
              "      <td>Perpetual FX Creative</td>\n",
              "      <td>Perpetual FX Creative</td>\n",
              "      <td>Single-player,Multi-player,Steam Achievements,Partial Controller Support</td>\n",
              "      <td>Casual,Indie,Sports</td>\n",
              "      <td>https://cdn.akamai.steamstatic.com/steam/apps/20200/0000005994.1920x1080.jpg?t=1640121033,https:...</td>\n",
              "      <td>http://cdn.akamai.steamstatic.com/steam/apps/256863704/movie_max.mp4?t=1638854607</td>\n",
              "      <td>2008-10-21</td>\n",
              "      <td>2008</td>\n",
              "      <td>10</td>\n",
              "      <td>21</td>\n",
              "    </tr>\n",
              "    <tr>\n",
              "      <th>1</th>\n",
              "      <td>655370</td>\n",
              "      <td>Train Bandit</td>\n",
              "      <td>Oct 12, 2017</td>\n",
              "      <td>0 - 20000</td>\n",
              "      <td>0.99</td>\n",
              "      <td>THE LAW!! Looks to be a showdown atop a train. This will be your last fight. Good luck, Train Ba...</td>\n",
              "      <td>['English', 'French', 'Italian', 'German', 'Spanish - Spain', 'Japanese', 'Portuguese - Brazil',...</td>\n",
              "      <td>https://cdn.akamai.steamstatic.com/steam/apps/655370/header.jpg?t=1617500526</td>\n",
              "      <td>True</td>\n",
              "      <td>True</td>\n",
              "      <td>Rusty Moyher</td>\n",
              "      <td>Wild Rooster</td>\n",
              "      <td>Single-player,Steam Achievements,Full controller support,Steam Leaderboards,Remote Play on Phone...</td>\n",
              "      <td>Action,Indie</td>\n",
              "      <td>https://cdn.akamai.steamstatic.com/steam/apps/655370/ss_16785eac54b29db688870e832f6997c89cd7804b...</td>\n",
              "      <td>http://cdn.akamai.steamstatic.com/steam/apps/256691108/movie_max.mp4?t=1506089586</td>\n",
              "      <td>2017-10-12</td>\n",
              "      <td>2017</td>\n",
              "      <td>10</td>\n",
              "      <td>12</td>\n",
              "    </tr>\n",
              "    <tr>\n",
              "      <th>2</th>\n",
              "      <td>1732930</td>\n",
              "      <td>Jolt Project</td>\n",
              "      <td>Nov 17, 2021</td>\n",
              "      <td>0 - 20000</td>\n",
              "      <td>4.99</td>\n",
              "      <td>Jolt Project: The army now has a new robotics project, jolt. It's up to you to control it and en...</td>\n",
              "      <td>['English', 'Portuguese - Brazil']</td>\n",
              "      <td>https://cdn.akamai.steamstatic.com/steam/apps/1732930/header.jpg?t=1637149386</td>\n",
              "      <td>True</td>\n",
              "      <td>False</td>\n",
              "      <td>Campião Games</td>\n",
              "      <td>Campião Games</td>\n",
              "      <td>Single-player</td>\n",
              "      <td>Action,Adventure,Indie,Strategy</td>\n",
              "      <td>https://cdn.akamai.steamstatic.com/steam/apps/1732930/ss_09d67dec0607be7c4ead80289763033a47c86d8...</td>\n",
              "      <td>http://cdn.akamai.steamstatic.com/steam/apps/256847488/movie_max.mp4?t=1635980739,http://cdn.aka...</td>\n",
              "      <td>2021-11-17</td>\n",
              "      <td>2021</td>\n",
              "      <td>11</td>\n",
              "      <td>17</td>\n",
              "    </tr>\n",
              "    <tr>\n",
              "      <th>3</th>\n",
              "      <td>1355720</td>\n",
              "      <td>Henosis™</td>\n",
              "      <td>Jul 23, 2020</td>\n",
              "      <td>0 - 20000</td>\n",
              "      <td>5.99</td>\n",
              "      <td>HENOSIS™ is a mysterious 2D Platform Puzzler where players are propelled into weird and visceral...</td>\n",
              "      <td>['English', 'French', 'Italian', 'German', 'Spanish - Spain', 'Japanese', 'Korean', 'Portuguese'...</td>\n",
              "      <td>https://cdn.akamai.steamstatic.com/steam/apps/1355720/header.jpg?t=1639875115</td>\n",
              "      <td>True</td>\n",
              "      <td>True</td>\n",
              "      <td>Odd Critter Games</td>\n",
              "      <td>Odd Critter Games</td>\n",
              "      <td>Single-player,Full controller support</td>\n",
              "      <td>Adventure,Casual,Indie</td>\n",
              "      <td>https://cdn.akamai.steamstatic.com/steam/apps/1355720/ss_20bbae2d9d5aaa2f043f372a551faabc0c47b0b...</td>\n",
              "      <td>http://cdn.akamai.steamstatic.com/steam/apps/256819153/movie_max.mp4?t=1611314333</td>\n",
              "      <td>2020-07-23</td>\n",
              "      <td>2020</td>\n",
              "      <td>7</td>\n",
              "      <td>23</td>\n",
              "    </tr>\n",
              "    <tr>\n",
              "      <th>4</th>\n",
              "      <td>1139950</td>\n",
              "      <td>Two Weeks in Painland</td>\n",
              "      <td>Feb 3, 2020</td>\n",
              "      <td>0 - 20000</td>\n",
              "      <td>0.00</td>\n",
              "      <td>ABOUT THE GAME Play as a hacker who has arranged a deal with a gangster. That’s how the protagon...</td>\n",
              "      <td>['English', 'Spanish - Spain']</td>\n",
              "      <td>https://cdn.akamai.steamstatic.com/steam/apps/1139950/header.jpg?t=1595003825</td>\n",
              "      <td>True</td>\n",
              "      <td>True</td>\n",
              "      <td>Unusual Games</td>\n",
              "      <td>Unusual Games</td>\n",
              "      <td>Single-player,Steam Achievements</td>\n",
              "      <td>Adventure,Indie</td>\n",
              "      <td>https://cdn.akamai.steamstatic.com/steam/apps/1139950/ss_cb94604e43f910a3b994f120412bdc5a576222a...</td>\n",
              "      <td>http://cdn.akamai.steamstatic.com/steam/apps/256764430/movie_max.mp4?t=1580660973</td>\n",
              "      <td>2020-02-03</td>\n",
              "      <td>2020</td>\n",
              "      <td>2</td>\n",
              "      <td>3</td>\n",
              "    </tr>\n",
              "  </tbody>\n",
              "</table>\n",
              "</div>"
            ],
            "text/plain": [
              "     AppID                   Name  Release date Estimated owners  Price  \\\n",
              "0    20200       Galactic Bowling  Oct 21, 2008        0 - 20000  19.99   \n",
              "1   655370           Train Bandit  Oct 12, 2017        0 - 20000   0.99   \n",
              "2  1732930           Jolt Project  Nov 17, 2021        0 - 20000   4.99   \n",
              "3  1355720               Henosis™  Jul 23, 2020        0 - 20000   5.99   \n",
              "4  1139950  Two Weeks in Painland   Feb 3, 2020        0 - 20000   0.00   \n",
              "\n",
              "                                                                                        About the game  \\\n",
              "0  Galactic Bowling is an exaggerated and stylized bowling game with an intergalactic twist. Player...   \n",
              "1  THE LAW!! Looks to be a showdown atop a train. This will be your last fight. Good luck, Train Ba...   \n",
              "2  Jolt Project: The army now has a new robotics project, jolt. It's up to you to control it and en...   \n",
              "3  HENOSIS™ is a mysterious 2D Platform Puzzler where players are propelled into weird and visceral...   \n",
              "4  ABOUT THE GAME Play as a hacker who has arranged a deal with a gangster. That’s how the protagon...   \n",
              "\n",
              "                                                                                   Supported languages  \\\n",
              "0                                                                                          ['English']   \n",
              "1  ['English', 'French', 'Italian', 'German', 'Spanish - Spain', 'Japanese', 'Portuguese - Brazil',...   \n",
              "2                                                                   ['English', 'Portuguese - Brazil']   \n",
              "3  ['English', 'French', 'Italian', 'German', 'Spanish - Spain', 'Japanese', 'Korean', 'Portuguese'...   \n",
              "4                                                                       ['English', 'Spanish - Spain']   \n",
              "\n",
              "                                                                    Header image  \\\n",
              "0    https://cdn.akamai.steamstatic.com/steam/apps/20200/header.jpg?t=1640121033   \n",
              "1   https://cdn.akamai.steamstatic.com/steam/apps/655370/header.jpg?t=1617500526   \n",
              "2  https://cdn.akamai.steamstatic.com/steam/apps/1732930/header.jpg?t=1637149386   \n",
              "3  https://cdn.akamai.steamstatic.com/steam/apps/1355720/header.jpg?t=1639875115   \n",
              "4  https://cdn.akamai.steamstatic.com/steam/apps/1139950/header.jpg?t=1595003825   \n",
              "\n",
              "   Windows    Mac             Developers             Publishers  \\\n",
              "0     True  False  Perpetual FX Creative  Perpetual FX Creative   \n",
              "1     True   True           Rusty Moyher           Wild Rooster   \n",
              "2     True  False          Campião Games          Campião Games   \n",
              "3     True   True      Odd Critter Games      Odd Critter Games   \n",
              "4     True   True          Unusual Games          Unusual Games   \n",
              "\n",
              "                                                                                            Categories  \\\n",
              "0                             Single-player,Multi-player,Steam Achievements,Partial Controller Support   \n",
              "1  Single-player,Steam Achievements,Full controller support,Steam Leaderboards,Remote Play on Phone...   \n",
              "2                                                                                        Single-player   \n",
              "3                                                                Single-player,Full controller support   \n",
              "4                                                                     Single-player,Steam Achievements   \n",
              "\n",
              "                            Genres  \\\n",
              "0              Casual,Indie,Sports   \n",
              "1                     Action,Indie   \n",
              "2  Action,Adventure,Indie,Strategy   \n",
              "3           Adventure,Casual,Indie   \n",
              "4                  Adventure,Indie   \n",
              "\n",
              "                                                                                           Screenshots  \\\n",
              "0  https://cdn.akamai.steamstatic.com/steam/apps/20200/0000005994.1920x1080.jpg?t=1640121033,https:...   \n",
              "1  https://cdn.akamai.steamstatic.com/steam/apps/655370/ss_16785eac54b29db688870e832f6997c89cd7804b...   \n",
              "2  https://cdn.akamai.steamstatic.com/steam/apps/1732930/ss_09d67dec0607be7c4ead80289763033a47c86d8...   \n",
              "3  https://cdn.akamai.steamstatic.com/steam/apps/1355720/ss_20bbae2d9d5aaa2f043f372a551faabc0c47b0b...   \n",
              "4  https://cdn.akamai.steamstatic.com/steam/apps/1139950/ss_cb94604e43f910a3b994f120412bdc5a576222a...   \n",
              "\n",
              "                                                                                                Movies  \\\n",
              "0                    http://cdn.akamai.steamstatic.com/steam/apps/256863704/movie_max.mp4?t=1638854607   \n",
              "1                    http://cdn.akamai.steamstatic.com/steam/apps/256691108/movie_max.mp4?t=1506089586   \n",
              "2  http://cdn.akamai.steamstatic.com/steam/apps/256847488/movie_max.mp4?t=1635980739,http://cdn.aka...   \n",
              "3                    http://cdn.akamai.steamstatic.com/steam/apps/256819153/movie_max.mp4?t=1611314333   \n",
              "4                    http://cdn.akamai.steamstatic.com/steam/apps/256764430/movie_max.mp4?t=1580660973   \n",
              "\n",
              "  Released_date  Release_year  Release_month  Release_day  \n",
              "0    2008-10-21          2008             10           21  \n",
              "1    2017-10-12          2017             10           12  \n",
              "2    2021-11-17          2021             11           17  \n",
              "3    2020-07-23          2020              7           23  \n",
              "4    2020-02-03          2020              2            3  "
            ]
          },
          "execution_count": 34,
          "metadata": {},
          "output_type": "execute_result"
        }
      ],
      "source": [
        "game_df.head()"
      ]
    },
    {
      "cell_type": "code",
      "execution_count": 35,
      "id": "Ef-Hj_HLSFW5",
      "metadata": {
        "id": "Ef-Hj_HLSFW5"
      },
      "outputs": [],
      "source": [
        "game_df.drop(columns=['Release date'], inplace=True)"
      ]
    },
    {
      "cell_type": "code",
      "execution_count": 36,
      "id": "r_fCCzjSITAi",
      "metadata": {
        "colab": {
          "base_uri": "https://localhost:8080/"
        },
        "id": "r_fCCzjSITAi",
        "outputId": "ac297aa6-baaa-4461-bdff-a11e4f41ebe5"
      },
      "outputs": [
        {
          "name": "stdout",
          "output_type": "stream",
          "text": [
            "0     True\n",
            "1    False\n",
            "2     True\n",
            "3     True\n",
            "4     True\n",
            "dtype: bool\n",
            "Number of rows where 'Developers' and 'Publishers' are the same: 44973\n"
          ]
        }
      ],
      "source": [
        "\n",
        "same_data = game_df['Developers'] == game_df['Publishers']\n",
        "print(same_data.head())\n",
        "matching_count = same_data.sum()\n",
        "print(f\"Number of rows where 'Developers' and 'Publishers' are the same: {matching_count}\")\n"
      ]
    },
    {
      "cell_type": "code",
      "execution_count": 37,
      "id": "cA0fJyieJaDh",
      "metadata": {
        "id": "cA0fJyieJaDh"
      },
      "outputs": [],
      "source": [
        "game_df['word_count'] = game_df['About the game'].apply(lambda x: len(str(x).split()))"
      ]
    },
    {
      "cell_type": "code",
      "execution_count": 38,
      "id": "kERFGmyEMRuQ",
      "metadata": {
        "colab": {
          "base_uri": "https://localhost:8080/"
        },
        "id": "kERFGmyEMRuQ",
        "outputId": "aa76429c-caa5-4ff1-84f6-50152f0d9a00"
      },
      "outputs": [
        {
          "data": {
            "text/plain": [
              "np.int64(4355)"
            ]
          },
          "execution_count": 38,
          "metadata": {},
          "output_type": "execute_result"
        }
      ],
      "source": [
        "game_df['word_count'].max()"
      ]
    },
    {
      "cell_type": "code",
      "execution_count": 39,
      "id": "mPKAQex-MUEg",
      "metadata": {
        "colab": {
          "base_uri": "https://localhost:8080/"
        },
        "id": "mPKAQex-MUEg",
        "outputId": "8b5be022-da24-41f7-f74b-8dfd1f95b061"
      },
      "outputs": [
        {
          "data": {
            "text/plain": [
              "np.float64(207.94261264300832)"
            ]
          },
          "execution_count": 39,
          "metadata": {},
          "output_type": "execute_result"
        }
      ],
      "source": [
        "game_df['word_count'].mean()"
      ]
    },
    {
      "cell_type": "code",
      "execution_count": 40,
      "id": "YRkukeyOMXcM",
      "metadata": {
        "id": "YRkukeyOMXcM"
      },
      "outputs": [],
      "source": [
        "game_df = game_df[game_df['word_count'] > 50]"
      ]
    },
    {
      "cell_type": "code",
      "execution_count": 41,
      "id": "CbrI43SaMn06",
      "metadata": {
        "colab": {
          "base_uri": "https://localhost:8080/",
          "height": 458
        },
        "id": "CbrI43SaMn06",
        "outputId": "e6017e48-9d99-4e0f-abf2-530ba82f7689"
      },
      "outputs": [
        {
          "data": {
            "text/plain": [
              "0        158\n",
              "1         87\n",
              "2        111\n",
              "3         92\n",
              "4        115\n",
              "        ... \n",
              "71711    130\n",
              "71712    337\n",
              "71713    265\n",
              "71714    363\n",
              "71715     87\n",
              "Name: word_count, Length: 62204, dtype: int64"
            ]
          },
          "execution_count": 41,
          "metadata": {},
          "output_type": "execute_result"
        }
      ],
      "source": [
        "game_df['word_count']"
      ]
    },
    {
      "cell_type": "code",
      "execution_count": 42,
      "id": "HmgLIogCMDwA",
      "metadata": {
        "id": "HmgLIogCMDwA"
      },
      "outputs": [],
      "source": [
        "import re\n",
        "def is_english(text):\n",
        "    if pd.isnull(text):\n",
        "        return False\n",
        "\n",
        "    return bool(re.match(r'^[\\x00-\\x7F]+$', text))\n",
        "game_df = game_df[game_df['About the game'].apply(is_english)]"
      ]
    },
    {
      "cell_type": "code",
      "execution_count": 43,
      "id": "oj6hdZjHNrn7",
      "metadata": {
        "colab": {
          "base_uri": "https://localhost:8080/"
        },
        "id": "oj6hdZjHNrn7",
        "outputId": "b50cffc9-6f44-4ec1-a20f-39d12482c9c3"
      },
      "outputs": [
        {
          "name": "stdout",
          "output_type": "stream",
          "text": [
            "                                                                                                                                                                                                                                                                                                                           About the game\n",
            "193  You decided to explore the area outside the city to find a suitable place for a birthday picnic with your friends. Suddenly you discover a forsaken house. And here your adventure starts. Key features: maximum simulation of real-life conditions screamers atmosphere only few hints hardcore you will die very often checkpoints\n",
            "600                                                     Chaos Starter is a fight simulator with realistic physics. You are going to find yourself in different life situations, and every time you will have to start a Chaos. No matter where are you and what you are doing, your only task is to spoil the event and initiate a brawl.\n",
            "812                                       Fight to restore the peace and justice in the world by thwarting the treacherous plans of the King, who turns the innocent into mindless skeletons to conquer the world. Sword of Destiny is a 2D platformer game where you fight an evil king's army to prevent him from conquering the world.\n"
          ]
        }
      ],
      "source": [
        "min_count = game_df['word_count'].min()\n",
        "min_word_count_data = game_df[game_df['word_count'] == min_count]\n",
        "pd.set_option('display.max_colwidth', None)\n",
        "print(min_word_count_data[['About the game']].head(3))\n",
        "\n"
      ]
    },
    {
      "cell_type": "code",
      "execution_count": 44,
      "id": "kdGfyFTrMrRA",
      "metadata": {
        "colab": {
          "base_uri": "https://localhost:8080/"
        },
        "id": "kdGfyFTrMrRA",
        "outputId": "088f9157-6a4f-47e0-97a0-77b1737c2c6d"
      },
      "outputs": [
        {
          "data": {
            "text/plain": [
              "(38158, 20)"
            ]
          },
          "execution_count": 44,
          "metadata": {},
          "output_type": "execute_result"
        }
      ],
      "source": [
        "game_df.shape"
      ]
    },
    {
      "cell_type": "markdown",
      "id": "ghWERHc3VUtY",
      "metadata": {
        "id": "ghWERHc3VUtY"
      },
      "source": [
        "creating require age column"
      ]
    },
    {
      "cell_type": "code",
      "execution_count": 45,
      "id": "3rGmhieGVUfx",
      "metadata": {
        "colab": {
          "base_uri": "https://localhost:8080/"
        },
        "id": "3rGmhieGVUfx",
        "outputId": "f2fab9bc-05b3-4e94-db8c-1eaac58f860b"
      },
      "outputs": [
        {
          "name": "stdout",
          "output_type": "stream",
          "text": [
            "                                                             Genres  \\\n",
            "0                                               Casual,Indie,Sports   \n",
            "1                                                      Action,Indie   \n",
            "2                                   Action,Adventure,Indie,Strategy   \n",
            "5  Adventure,Casual,Free to Play,Massively Multiplayer,RPG,Strategy   \n",
            "6                                                    Indie,Strategy   \n",
            "\n",
            "   Required_age  \n",
            "0             0  \n",
            "1             0  \n",
            "2             0  \n",
            "5             0  \n",
            "6             0  \n"
          ]
        }
      ],
      "source": [
        "def get_required_age(genres):\n",
        "\n",
        "    if 'Adult' in genres:\n",
        "        return 18\n",
        "    else:\n",
        "        return 0\n",
        "\n",
        "game_df['Required_age'] = game_df['Genres'].apply(lambda x: get_required_age(x.split(',')))\n",
        "print(game_df[['Genres', 'Required_age']].head())\n"
      ]
    },
    {
      "cell_type": "code",
      "execution_count": 46,
      "id": "yGempZqoWK-Q",
      "metadata": {
        "colab": {
          "base_uri": "https://localhost:8080/",
          "height": 178
        },
        "id": "yGempZqoWK-Q",
        "outputId": "27690b8c-6992-446d-e55f-96be2ee1b680"
      },
      "outputs": [
        {
          "data": {
            "text/plain": [
              "Required_age\n",
              "0     37796\n",
              "18      362\n",
              "Name: count, dtype: int64"
            ]
          },
          "execution_count": 46,
          "metadata": {},
          "output_type": "execute_result"
        }
      ],
      "source": [
        "game_df['Required_age'].value_counts()"
      ]
    },
    {
      "cell_type": "code",
      "execution_count": 47,
      "id": "NU-dpKgbdEDR",
      "metadata": {
        "id": "NU-dpKgbdEDR"
      },
      "outputs": [],
      "source": [
        "game_df['tagged_description']= game_df[['AppID','About the game']].astype(str).agg(\" \".join, axis=1)"
      ]
    },
    {
      "cell_type": "code",
      "execution_count": 48,
      "id": "TuDYeDVzdj0x",
      "metadata": {
        "colab": {
          "base_uri": "https://localhost:8080/",
          "height": 1000
        },
        "id": "TuDYeDVzdj0x",
        "outputId": "52e6880a-cff5-44b5-f6cc-0960820753ba"
      },
      "outputs": [
        {
          "data": {
            "text/plain": [
              "0                                                                                                                                                                                                                                                                                                                                                                                                                                                                                                                                                                                                                                                                                                                                                                                                                                                                                                                                                                                                                                                                                                                            20200 Galactic Bowling is an exaggerated and stylized bowling game with an intergalactic twist. Players will engage in fast-paced single and multi-player competition while being submerged in a unique new universe filled with over-the-top humor, wild characters, unique levels, and addictive game play. The title is aimed at players of all ages and skill sets. Through accessible and intuitive controls and game-play, Galactic Bowling allows you to jump right into the action. A single-player campaign and online play allow you to work your way up the ranks of the Galactic Bowling League! Whether you have hours to play or only a few minutes, Galactic Bowling is a fast paced and entertaining experience that will leave you wanting more! Full Single-player story campaign including 11 Characters and Environments. 2 Single-player play modes including Regular and Battle Modes. Head to Head Online Multiplayer play Modes. Super Powers, Special Balls, and Whammies. Unlockable Characters, Environments, and Minigames. Unlock all 30 Steam Achievements!\n",
              "1                                                                                                                                                                                                                                                                                                                                                                                                                                                                                                                                                                                                                                                                                                                                                                                                                                                                                                                                                                                                                                                                                                                                                                                                                                                                                                                                                                                                                                                                                                                                                                                                                                                                                                   655370 THE LAW!! Looks to be a showdown atop a train. This will be your last fight. Good luck, Train Bandit. WHAT IS THIS GAME? Train Bandit is a simple score attack game. The Law will attack you from both sides. Your weapon is your keyboard. You'll use those keys to kick the living shit out of the law. React quickly by attacking the correct direction. React...or you're dead. THE FEATURES Unlock new bandits Earn Achievements Become Steam's Most Wanted ? Battle elite officers Kick the law's ass\n",
              "2                                                                                                                                                                                                                                                                                                                                                                                                                                                                                                                                                                                                                                                                                                                                                                                                                                                                                                                                                                                                                                                                                                                                                                                                                                                                                                                                                                                                                                                                                                                                                         1732930 Jolt Project: The army now has a new robotics project, jolt. It's up to you to control it and ensure the success of the missions! There are 9 stages of taking the breath away with the right difficulty and good gameplay. Plus an insane way of survival! Fire missiles at cars, tanks, helicopters and turrets! The fun is guaranteed! Use your mouse to aim and shoot and take out the enemies! In this game you will have to be aware of the various enemies who will do everything to destroy your charges and prevent the success of your mission! Cartoon-style graphics are optimized and fun and generate an excellent gaming environment!\n",
              "5                                                                                                                                                                                                                                                                                                  1469160 Feel tired of auto-fight? Feel tired of boring numerical combinations? Let us try this amazing and exciting game! Right! Wartune Reborn is the super popular magic epic game as we know. Now, the magnificent magic epic game restarts, reminds you the classical plays and brings great experience. In Cloud City, you are going to maintains the Wartune movement, fighting the abyss monsters to protect the world from chaos. Don't be nervous! With protection of Dinah, Priestess of Light, you will have the power to absorb the chord, incorporate those forces without kings into your own ones, and make contract with and train apotheosis of Sylphs. You can improve yourself in a series of RPG adventures including instances battles, wild fighting, occupation and plunder. At the same time, you can run your own ligeance and castles and ally yourself with other players in the world who attack the Chaos. All of you are going to cooperate to protect the world from the control and destroy of Redoga Drake and bring the brightness back to Cloud City...... Enter Wartune Reborn to enjoy thinking of battles and playing the game! 1. RPG simulation, S- semi TBS battle, castles constructions, occupation &amp; expelling make you the best lords 2. Magical epic plots and original prominent symphony show the ancient and magnificent medieval chapter. 3. Military organization, runes and strategies contribute to super power. 4. Sylph awakening, skills and training, you will cooperate to beat BOSS. 5. Explore the magical world of the wild, jungles, deserts and snow mountains freely in the map of the vast outer city, to find mysterious ancient treasure. 6. Avatar system provides cool fashion, wings, mounts, weapon appearance with arbitrary combination. Wartune Reborn, Magical epic, Expect Heroes! Classical playing brings you amazing experience!\n",
              "6                                                                                                                                                                                                                                                                                                                                                                                                                                                                                                                                                                                                                                                                                                                                                                                                                                                                                                                                                                                                                                                                                                                                                                                                                                                                                                                                                                                           1659180 TD Worlds is a dynamic, highly strategical game that challenges your skill. Build an impenetrable defense and get ready to plunge into a new, unknown world to uncover its secrets. In this bizarre universe, each attempt will be unique in its own way, which provides many hours of fun to play. Clear three completely different worlds from darkness, spread your influence everywhere. unique conditions in each game; losing is an important part of game progress. Each defeat reveals something new for you; dynamic storytelling: the more you play, the more you learn about the world; get random rewards after each level; tired of playing? Feel free to leave the game, next time you will continue where you left; experiment with different tactics; Twitch integration - play with your viewers.\n",
              "                                                                                                                                                                                                                                                                                                                                                                                                                                                                                                                                                                                                                                                                                                                                                                                                                                                                                                                                                                                                                                                                                                             ...                                                                                                                                                                                                                                                                                                                                                                                                                                                                                                                                                                                                                                                                                                                                                                                                                                                                                                                                                                                                                                                                                                      \n",
              "71709                                                                                                                                                                                                                                                                                                                                                                                                                                                                                                                                                                                                                                                                                                                                                                                                                                                                                                                                                                                                                                                                                                                                                                                                                                                                                                                                                                                                                                                                                                                                                 2336310 King Mini? Today is nerd developer Zile's first day at the game company. As he runs the beta test of the game, he gets covered in a mysterious light... Explore the vast company with a smaller body, and go forward to a new space through the portal! Features Pass through various obstacles set in the office! Clear maps filled with mildly infuriating music and various traps! Our game has no save points! Show your extreme control ability! In the process of repeating death, you'll see your skills improving. Achieve clear time records and death count records! Why don't you recommend this game to your friends who live a boring life?\n",
              "71710                                                                                                                                                                                                                                                                                                                                                                                                                                                                                                                                                                                                                                                                                                                                                                                                                                                                                                                                                                                                                               2341640 This summer fair is bursting with activities! Check out the festival-themed games like Takoyaki Cooking, Whac-a-Mole, and Mikoshi Racing! Try your hand at all the games in order as part of the Festival Master Championship, build up your own Coin Collection, and challenge yourself to get your best score yet! Pick your favorite of the 8 characters and enjoy a total of 10 exciting games! - Goldfish Scooping - Scoop up as many goldfish as you can within the time limit! - Shooting Gallery - Take aim and shoot down your prizes! - Takoyaki Cooking - Make as many takoyaki as you can, but watch they don't burn! - Snow Cone Tower - Build the tallest tower of shaved ice the world's ever seen! - Whac-a-Mole - Use lightning speed to whack the moles as they pop up from their holes! - Mask Matching - Put your memory to the test by matching the pairs of masks! - Mini Bowling - Knock down the pins and get a strike! - Smart Ball - Let the balls fly and aim for a high score! - Ring Toss - Toss your rings around the prizes! - Mikoshi Racing - Overtake your rivals with breakneck speed! *A controller is required for local multiplayer.\n",
              "71711                                                                                                                                                                                                                                                                                                                                                                                                                                                                                                                                                                                                                                                                                                                                                                                                                                                                                                                                                                                                                                                                                                                                                                                                                                                                                                                                                               2159120 Innovative Gameplay SUR5 brings a brand new, fun experience that is easy to understand, but has surprising depth with many nuances to discover. Free to Play This game DOES NOT have packs that contain random playable cards. All players have an equal chance to have a good time. Freedom of Choice Explore thousands of combinations using 16 unique heroes. Many more are going to be released on a regular schedule. Satisfying Competition SUR5 respects fair gameplay that doesn't rely on crazy turnarounds to be exciting. Mechanics promote knowledge about the game features and taking calculated risks. Underdog Company This project is developed by a small, hard working team with big ambitions. Received support will be used for further game improvements. Survive the apocalypse and become a part of the Rebellion!\n",
              "71712    2125160 Core Features Real players only! All Guards and Prisoners are human players. 3 Maps - Bricksfield, Lost Island, Space with Underground Tunnels and Vents! Combat System with a variety of weapons such as slingshots, fists, tasers, batons, hammers, and more. Many ways to escape - underground tunnels, entrance doors, bombs, helicopters, jetskis, rafts, ships, spaceships, and escape pods. Proximity Voice Chat Customizable game settings with options like more days or better loot. Interactive Guides for Prisoners and Guards Extract from prison with diamonds to keep them to buy skins . Find loot inside the prison's restricted and unrestricted areas. Avoid being witnessed carrying illegal items or committing illegal actions. Dig underground to escape and get rare resources. Craft different items that will help you escape. Search up players for illegal items. Witness players doing illegal activities like being in restricted areas, going through metal detectors with metals, and more. Arrest wanted players and send them to solitary. Repair broken walls/fences outside the prison. Collaborates with prisoners to help them escape. Pretends to be a regular guard and avoid suspicion. Becomes a prisoner if revealed. Sabotages guard's efforts. Eliminates other guards if necessary. More Features Trading system where Prisoners can exchange items with each other, and store items in their cell's storage. Many areas to explore like Unique Rooms, Yard, Vents, Underground, Roof, Ship docks, and Abandoned City. Guard Equipment - Taser, Baton, Placeable Trap, Remote Camera, Radio, Sound Detector, and more. Guard Tasks - Guards can earn money by completing tasks to buy gear. Visitor - Prisoners can buy and sell items to a visitor that comes to the prison each day. Advanced Leveling System - You get a special reward for advancing each level. Daily Missions - Get crates by doing daily missions. Money Printer - Craft or buy it to generate large amounts of cash. Make sure to hide it well or the guards will find and destroy it. Ranked Mode - For players who want to play more seriously and compete for higher scores.\n",
              "71715                                                                                                                                                                                                                                                                                                                                                                                                                                                                                                                                                                                                                                                                                                                                                                                                                                                                                                                                                                                                                                                                                                                                                                                                                                                                                                                                                                                                                                                                                                                                                                                                                                                                                        2352890 'Hentai Ariel' is a unique puzzle in which the image is divided into 8 pieces and the player should move the puzzle pieces of the playing field to restore the original image. This is a simple, exciting game that requires logical thinking and the ability to plan your actions. Enjoy the game process to reproduce photos of beautiful girls and relax with relaxing music. The game also has a 'GOD' mode, try it if you tired of collecting puzzles. 30 levels 30 achievements Relaxing and romantic music\n",
              "Name: tagged_description, Length: 38158, dtype: object"
            ]
          },
          "execution_count": 48,
          "metadata": {},
          "output_type": "execute_result"
        }
      ],
      "source": [
        "game_df['tagged_description']"
      ]
    },
    {
      "cell_type": "markdown",
      "id": "9zNaB0-FGIBj",
      "metadata": {
        "id": "9zNaB0-FGIBj"
      },
      "source": [
        "# Quick EDA"
      ]
    },
    {
      "cell_type": "markdown",
      "id": "k4jAszN5GLNV",
      "metadata": {
        "id": "k4jAszN5GLNV"
      },
      "source": [
        "distribution plot"
      ]
    },
    {
      "cell_type": "code",
      "execution_count": 49,
      "id": "KAsNbw79ZEcR",
      "metadata": {
        "id": "KAsNbw79ZEcR"
      },
      "outputs": [],
      "source": [
        "import matplotlib.pyplot as plt\n",
        "import seaborn as sns"
      ]
    },
    {
      "cell_type": "code",
      "execution_count": 50,
      "id": "2m2VcfAuGB0a",
      "metadata": {
        "colab": {
          "base_uri": "https://localhost:8080/"
        },
        "id": "2m2VcfAuGB0a",
        "outputId": "9cf68102-dc10-4b79-9e8a-0cc6973e1514"
      },
      "outputs": [
        {
          "name": "stdout",
          "output_type": "stream",
          "text": [
            "<class 'pandas.core.frame.DataFrame'>\n",
            "Index: 38158 entries, 0 to 71715\n",
            "Data columns (total 22 columns):\n",
            " #   Column               Non-Null Count  Dtype         \n",
            "---  ------               --------------  -----         \n",
            " 0   AppID                38158 non-null  int64         \n",
            " 1   Name                 38158 non-null  object        \n",
            " 2   Estimated owners     38158 non-null  object        \n",
            " 3   Price                38158 non-null  float64       \n",
            " 4   About the game       38158 non-null  object        \n",
            " 5   Supported languages  38158 non-null  object        \n",
            " 6   Header image         38158 non-null  object        \n",
            " 7   Windows              38158 non-null  bool          \n",
            " 8   Mac                  38158 non-null  bool          \n",
            " 9   Developers           38158 non-null  object        \n",
            " 10  Publishers           38158 non-null  object        \n",
            " 11  Categories           38158 non-null  object        \n",
            " 12  Genres               38158 non-null  object        \n",
            " 13  Screenshots          38158 non-null  object        \n",
            " 14  Movies               38158 non-null  object        \n",
            " 15  Released_date        38113 non-null  datetime64[ns]\n",
            " 16  Release_year         38113 non-null  Int64         \n",
            " 17  Release_month        38113 non-null  Int64         \n",
            " 18  Release_day          38113 non-null  Int64         \n",
            " 19  word_count           38158 non-null  int64         \n",
            " 20  Required_age         38158 non-null  int64         \n",
            " 21  tagged_description   38158 non-null  object        \n",
            "dtypes: Int64(3), bool(2), datetime64[ns](1), float64(1), int64(3), object(12)\n",
            "memory usage: 6.3+ MB\n"
          ]
        }
      ],
      "source": [
        "game_df.info()"
      ]
    },
    {
      "cell_type": "code",
      "execution_count": 51,
      "id": "ZuOU4kaVaGw4",
      "metadata": {
        "colab": {
          "base_uri": "https://localhost:8080/",
          "height": 1000
        },
        "id": "ZuOU4kaVaGw4",
        "outputId": "4ef56d6a-16cd-4bfe-f1c6-12e72bcc7940"
      },
      "outputs": [
        {
          "data": {
            "image/png": "[encoded data removed]",
            "text/plain": [
              "<Figure size 1000x400 with 1 Axes>"
            ]
          },
          "metadata": {},
          "output_type": "display_data"
        },
        {
          "data": {
            "image/png": "[encoded data removed]",
            "text/plain": [
              "<Figure size 1000x400 with 1 Axes>"
            ]
          },
          "metadata": {},
          "output_type": "display_data"
        },
        {
          "data": {
            "image/png": "[encoded data removed]",
            "text/plain": [
              "<Figure size 1000x400 with 1 Axes>"
            ]
          },
          "metadata": {},
          "output_type": "display_data"
        },
        {
          "data": {
            "image/png": "[encoded data removed]",
            "text/plain": [
              "<Figure size 1000x400 with 1 Axes>"
            ]
          },
          "metadata": {},
          "output_type": "display_data"
        },
        {
          "data": {
            "image/png": "[encoded data removed]",
            "text/plain": [
              "<Figure size 1000x400 with 1 Axes>"
            ]
          },
          "metadata": {},
          "output_type": "display_data"
        },
        {
          "data": {
            "image/png": "[encoded data removed]",
            "text/plain": [
              "<Figure size 1000x400 with 1 Axes>"
            ]
          },
          "metadata": {},
          "output_type": "display_data"
        },
        {
          "data": {
            "image/png": "[encoded data removed]",
            "text/plain": [
              "<Figure size 1000x400 with 1 Axes>"
            ]
          },
          "metadata": {},
          "output_type": "display_data"
        },
        {
          "data": {
            "image/png": "[encoded data removed]",
            "text/plain": [
              "<Figure size 1000x400 with 1 Axes>"
            ]
          },
          "metadata": {},
          "output_type": "display_data"
        }
      ],
      "source": [
        "cols = {'Windows', 'Mac', 'Genres', 'Released_date', 'Release_year', 'Release_month', 'Release_day', 'word_count'}\n",
        "\n",
        "for col in cols:\n",
        "    plt.figure(figsize=(10, 4))\n",
        "    sns.histplot(game_df[col], color='navy')\n",
        "    plt.title(f'Distribution of {col}')\n",
        "    plt.tight_layout()\n",
        "    plt.show()\n"
      ]
    },
    {
      "cell_type": "code",
      "execution_count": 52,
      "id": "wryslfwsVBd5",
      "metadata": {
        "colab": {
          "base_uri": "https://localhost:8080/"
        },
        "id": "wryslfwsVBd5",
        "outputId": "ed6b6bfb-54bb-4b22-8a58-cc797ab33756"
      },
      "outputs": [
        {
          "data": {
            "text/plain": [
              "Index(['AppID', 'Name', 'Estimated owners', 'Price', 'About the game',\n",
              "       'Supported languages', 'Header image', 'Windows', 'Mac', 'Developers',\n",
              "       'Publishers', 'Categories', 'Genres', 'Screenshots', 'Movies',\n",
              "       'Released_date', 'Release_year', 'Release_month', 'Release_day',\n",
              "       'word_count', 'Required_age', 'tagged_description'],\n",
              "      dtype='object')"
            ]
          },
          "execution_count": 52,
          "metadata": {},
          "output_type": "execute_result"
        }
      ],
      "source": [
        "game_df.columns"
      ]
    },
    {
      "cell_type": "code",
      "execution_count": null,
      "id": "b52943e1",
      "metadata": {},
      "outputs": [],
      "source": [
        "game_df.isna().sum()"
      ]
    },
    {
      "cell_type": "code",
      "execution_count": 53,
      "id": "5572886f",
      "metadata": {},
      "outputs": [
        {
          "data": {
            "text/html": [
              "<div>\n",
              "<style scoped>\n",
              "    .dataframe tbody tr th:only-of-type {\n",
              "        vertical-align: middle;\n",
              "    }\n",
              "\n",
              "    .dataframe tbody tr th {\n",
              "        vertical-align: top;\n",
              "    }\n",
              "\n",
              "    .dataframe thead th {\n",
              "        text-align: right;\n",
              "    }\n",
              "</style>\n",
              "<table border=\"1\" class=\"dataframe\">\n",
              "  <thead>\n",
              "    <tr style=\"text-align: right;\">\n",
              "      <th></th>\n",
              "      <th>AppID</th>\n",
              "      <th>Name</th>\n",
              "      <th>Estimated owners</th>\n",
              "      <th>Price</th>\n",
              "      <th>About the game</th>\n",
              "      <th>Supported languages</th>\n",
              "      <th>Header image</th>\n",
              "      <th>Windows</th>\n",
              "      <th>Mac</th>\n",
              "      <th>Developers</th>\n",
              "      <th>Publishers</th>\n",
              "      <th>Categories</th>\n",
              "      <th>Genres</th>\n",
              "      <th>Screenshots</th>\n",
              "      <th>Movies</th>\n",
              "      <th>Released_date</th>\n",
              "      <th>Release_year</th>\n",
              "      <th>Release_month</th>\n",
              "      <th>Release_day</th>\n",
              "      <th>word_count</th>\n",
              "      <th>Required_age</th>\n",
              "      <th>tagged_description</th>\n",
              "    </tr>\n",
              "  </thead>\n",
              "  <tbody>\n",
              "    <tr>\n",
              "      <th>0</th>\n",
              "      <td>20200</td>\n",
              "      <td>Galactic Bowling</td>\n",
              "      <td>0 - 20000</td>\n",
              "      <td>19.99</td>\n",
              "      <td>Galactic Bowling is an exaggerated and stylized bowling game with an intergalactic twist. Players will engage in fast-paced single and multi-player competition while being submerged in a unique new universe filled with over-the-top humor, wild characters, unique levels, and addictive game play. The title is aimed at players of all ages and skill sets. Through accessible and intuitive controls and game-play, Galactic Bowling allows you to jump right into the action. A single-player campaign and online play allow you to work your way up the ranks of the Galactic Bowling League! Whether you have hours to play or only a few minutes, Galactic Bowling is a fast paced and entertaining experience that will leave you wanting more! Full Single-player story campaign including 11 Characters and Environments. 2 Single-player play modes including Regular and Battle Modes. Head to Head Online Multiplayer play Modes. Super Powers, Special Balls, and Whammies. Unlockable Characters, Environments, and Minigames. Unlock all 30 Steam Achievements!</td>\n",
              "      <td>['English']</td>\n",
              "      <td>https://cdn.akamai.steamstatic.com/steam/apps/20200/header.jpg?t=1640121033</td>\n",
              "      <td>True</td>\n",
              "      <td>False</td>\n",
              "      <td>Perpetual FX Creative</td>\n",
              "      <td>Perpetual FX Creative</td>\n",
              "      <td>Single-player,Multi-player,Steam Achievements,Partial Controller Support</td>\n",
              "      <td>Casual,Indie,Sports</td>\n",
              "      <td>https://cdn.akamai.steamstatic.com/steam/apps/20200/0000005994.1920x1080.jpg?t=1640121033,https://cdn.akamai.steamstatic.com/steam/apps/20200/0000005993.1920x1080.jpg?t=1640121033,https://cdn.akamai.steamstatic.com/steam/apps/20200/0000005992.1920x1080.jpg?t=1640121033,https://cdn.akamai.steamstatic.com/steam/apps/20200/0000006011.1920x1080.jpg?t=1640121033,https://cdn.akamai.steamstatic.com/steam/apps/20200/0000005685.1920x1080.jpg?t=1640121033,https://cdn.akamai.steamstatic.com/steam/apps/20200/0000005686.1920x1080.jpg?t=1640121033,https://cdn.akamai.steamstatic.com/steam/apps/20200/0000005995.1920x1080.jpg?t=1640121033,https://cdn.akamai.steamstatic.com/steam/apps/20200/0000005688.1920x1080.jpg?t=1640121033,https://cdn.akamai.steamstatic.com/steam/apps/20200/0000005689.1920x1080.jpg?t=1640121033,https://cdn.akamai.steamstatic.com/steam/apps/20200/0000005690.1920x1080.jpg?t=1640121033</td>\n",
              "      <td>http://cdn.akamai.steamstatic.com/steam/apps/256863704/movie_max.mp4?t=1638854607</td>\n",
              "      <td>2008-10-21</td>\n",
              "      <td>2008</td>\n",
              "      <td>10</td>\n",
              "      <td>21</td>\n",
              "      <td>158</td>\n",
              "      <td>0</td>\n",
              "      <td>20200 Galactic Bowling is an exaggerated and stylized bowling game with an intergalactic twist. Players will engage in fast-paced single and multi-player competition while being submerged in a unique new universe filled with over-the-top humor, wild characters, unique levels, and addictive game play. The title is aimed at players of all ages and skill sets. Through accessible and intuitive controls and game-play, Galactic Bowling allows you to jump right into the action. A single-player campaign and online play allow you to work your way up the ranks of the Galactic Bowling League! Whether you have hours to play or only a few minutes, Galactic Bowling is a fast paced and entertaining experience that will leave you wanting more! Full Single-player story campaign including 11 Characters and Environments. 2 Single-player play modes including Regular and Battle Modes. Head to Head Online Multiplayer play Modes. Super Powers, Special Balls, and Whammies. Unlockable Characters, Environments, and Minigames. Unlock all 30 Steam Achievements!</td>\n",
              "    </tr>\n",
              "    <tr>\n",
              "      <th>1</th>\n",
              "      <td>655370</td>\n",
              "      <td>Train Bandit</td>\n",
              "      <td>0 - 20000</td>\n",
              "      <td>0.99</td>\n",
              "      <td>THE LAW!! Looks to be a showdown atop a train. This will be your last fight. Good luck, Train Bandit. WHAT IS THIS GAME? Train Bandit is a simple score attack game. The Law will attack you from both sides. Your weapon is your keyboard. You'll use those keys to kick the living shit out of the law. React quickly by attacking the correct direction. React...or you're dead. THE FEATURES Unlock new bandits Earn Achievements Become Steam's Most Wanted ? Battle elite officers Kick the law's ass</td>\n",
              "      <td>['English', 'French', 'Italian', 'German', 'Spanish - Spain', 'Japanese', 'Portuguese - Brazil', 'Russian', 'Simplified Chinese', 'Traditional Chinese']</td>\n",
              "      <td>https://cdn.akamai.steamstatic.com/steam/apps/655370/header.jpg?t=1617500526</td>\n",
              "      <td>True</td>\n",
              "      <td>True</td>\n",
              "      <td>Rusty Moyher</td>\n",
              "      <td>Wild Rooster</td>\n",
              "      <td>Single-player,Steam Achievements,Full controller support,Steam Leaderboards,Remote Play on Phone,Remote Play on Tablet,Remote Play on TV</td>\n",
              "      <td>Action,Indie</td>\n",
              "      <td>https://cdn.akamai.steamstatic.com/steam/apps/655370/ss_16785eac54b29db688870e832f6997c89cd7804b.1920x1080.jpg?t=1617500526,https://cdn.akamai.steamstatic.com/steam/apps/655370/ss_599ad201ec3bb869449aaab4d0b103e220645762.1920x1080.jpg?t=1617500526,https://cdn.akamai.steamstatic.com/steam/apps/655370/ss_a26cfed1bc3e9ca4225fdc9d5c10681cfeb4f106.1920x1080.jpg?t=1617500526,https://cdn.akamai.steamstatic.com/steam/apps/655370/ss_9b815c0ec4996783088d82d22105caa1c044acad.1920x1080.jpg?t=1617500526,https://cdn.akamai.steamstatic.com/steam/apps/655370/ss_b5aada1bd265ff4b34116794fb937ad62e2882bb.1920x1080.jpg?t=1617500526</td>\n",
              "      <td>http://cdn.akamai.steamstatic.com/steam/apps/256691108/movie_max.mp4?t=1506089586</td>\n",
              "      <td>2017-10-12</td>\n",
              "      <td>2017</td>\n",
              "      <td>10</td>\n",
              "      <td>12</td>\n",
              "      <td>87</td>\n",
              "      <td>0</td>\n",
              "      <td>655370 THE LAW!! Looks to be a showdown atop a train. This will be your last fight. Good luck, Train Bandit. WHAT IS THIS GAME? Train Bandit is a simple score attack game. The Law will attack you from both sides. Your weapon is your keyboard. You'll use those keys to kick the living shit out of the law. React quickly by attacking the correct direction. React...or you're dead. THE FEATURES Unlock new bandits Earn Achievements Become Steam's Most Wanted ? Battle elite officers Kick the law's ass</td>\n",
              "    </tr>\n",
              "    <tr>\n",
              "      <th>2</th>\n",
              "      <td>1732930</td>\n",
              "      <td>Jolt Project</td>\n",
              "      <td>0 - 20000</td>\n",
              "      <td>4.99</td>\n",
              "      <td>Jolt Project: The army now has a new robotics project, jolt. It's up to you to control it and ensure the success of the missions! There are 9 stages of taking the breath away with the right difficulty and good gameplay. Plus an insane way of survival! Fire missiles at cars, tanks, helicopters and turrets! The fun is guaranteed! Use your mouse to aim and shoot and take out the enemies! In this game you will have to be aware of the various enemies who will do everything to destroy your charges and prevent the success of your mission! Cartoon-style graphics are optimized and fun and generate an excellent gaming environment!</td>\n",
              "      <td>['English', 'Portuguese - Brazil']</td>\n",
              "      <td>https://cdn.akamai.steamstatic.com/steam/apps/1732930/header.jpg?t=1637149386</td>\n",
              "      <td>True</td>\n",
              "      <td>False</td>\n",
              "      <td>Campião Games</td>\n",
              "      <td>Campião Games</td>\n",
              "      <td>Single-player</td>\n",
              "      <td>Action,Adventure,Indie,Strategy</td>\n",
              "      <td>https://cdn.akamai.steamstatic.com/steam/apps/1732930/ss_09d67dec0607be7c4ead80289763033a47c86d89.1920x1080.jpg?t=1637149386,https://cdn.akamai.steamstatic.com/steam/apps/1732930/ss_119713aa971021a5fe24ee241c4be9329d1a37ab.1920x1080.jpg?t=1637149386,https://cdn.akamai.steamstatic.com/steam/apps/1732930/ss_04221851fa82047cee95243edf20e413a35ff410.1920x1080.jpg?t=1637149386,https://cdn.akamai.steamstatic.com/steam/apps/1732930/ss_fb210f530ebe006066bfb5dff35d3c68f858f60e.1920x1080.jpg?t=1637149386,https://cdn.akamai.steamstatic.com/steam/apps/1732930/ss_f43db212224f5b33a0ef530a75c3f852d35e9342.1920x1080.jpg?t=1637149386,https://cdn.akamai.steamstatic.com/steam/apps/1732930/ss_eeb31f8499720fc1b20342f74f0040ca2f190881.1920x1080.jpg?t=1637149386</td>\n",
              "      <td>http://cdn.akamai.steamstatic.com/steam/apps/256847488/movie_max.mp4?t=1635980739,http://cdn.akamai.steamstatic.com/steam/apps/256847487/movie_max.mp4?t=1635980747</td>\n",
              "      <td>2021-11-17</td>\n",
              "      <td>2021</td>\n",
              "      <td>11</td>\n",
              "      <td>17</td>\n",
              "      <td>111</td>\n",
              "      <td>0</td>\n",
              "      <td>1732930 Jolt Project: The army now has a new robotics project, jolt. It's up to you to control it and ensure the success of the missions! There are 9 stages of taking the breath away with the right difficulty and good gameplay. Plus an insane way of survival! Fire missiles at cars, tanks, helicopters and turrets! The fun is guaranteed! Use your mouse to aim and shoot and take out the enemies! In this game you will have to be aware of the various enemies who will do everything to destroy your charges and prevent the success of your mission! Cartoon-style graphics are optimized and fun and generate an excellent gaming environment!</td>\n",
              "    </tr>\n",
              "  </tbody>\n",
              "</table>\n",
              "</div>"
            ],
            "text/plain": [
              "     AppID              Name Estimated owners  Price  \\\n",
              "0    20200  Galactic Bowling        0 - 20000  19.99   \n",
              "1   655370      Train Bandit        0 - 20000   0.99   \n",
              "2  1732930      Jolt Project        0 - 20000   4.99   \n",
              "\n",
              "                                                                                                                                                                                                                                                                                                                                                                                                                                                                                                                                                                                                                                                                                                                                                                                                                                                                                                                                                                                                                                                                        About the game  \\\n",
              "0  Galactic Bowling is an exaggerated and stylized bowling game with an intergalactic twist. Players will engage in fast-paced single and multi-player competition while being submerged in a unique new universe filled with over-the-top humor, wild characters, unique levels, and addictive game play. The title is aimed at players of all ages and skill sets. Through accessible and intuitive controls and game-play, Galactic Bowling allows you to jump right into the action. A single-player campaign and online play allow you to work your way up the ranks of the Galactic Bowling League! Whether you have hours to play or only a few minutes, Galactic Bowling is a fast paced and entertaining experience that will leave you wanting more! Full Single-player story campaign including 11 Characters and Environments. 2 Single-player play modes including Regular and Battle Modes. Head to Head Online Multiplayer play Modes. Super Powers, Special Balls, and Whammies. Unlockable Characters, Environments, and Minigames. Unlock all 30 Steam Achievements!   \n",
              "1                                                                                                                                                                                                                                                                                                                                                                                                                                                                                                                                                                          THE LAW!! Looks to be a showdown atop a train. This will be your last fight. Good luck, Train Bandit. WHAT IS THIS GAME? Train Bandit is a simple score attack game. The Law will attack you from both sides. Your weapon is your keyboard. You'll use those keys to kick the living shit out of the law. React quickly by attacking the correct direction. React...or you're dead. THE FEATURES Unlock new bandits Earn Achievements Become Steam's Most Wanted ? Battle elite officers Kick the law's ass   \n",
              "2                                                                                                                                                                                                                                                                                                                                                                                                                                 Jolt Project: The army now has a new robotics project, jolt. It's up to you to control it and ensure the success of the missions! There are 9 stages of taking the breath away with the right difficulty and good gameplay. Plus an insane way of survival! Fire missiles at cars, tanks, helicopters and turrets! The fun is guaranteed! Use your mouse to aim and shoot and take out the enemies! In this game you will have to be aware of the various enemies who will do everything to destroy your charges and prevent the success of your mission! Cartoon-style graphics are optimized and fun and generate an excellent gaming environment!   \n",
              "\n",
              "                                                                                                                                        Supported languages  \\\n",
              "0                                                                                                                                               ['English']   \n",
              "1  ['English', 'French', 'Italian', 'German', 'Spanish - Spain', 'Japanese', 'Portuguese - Brazil', 'Russian', 'Simplified Chinese', 'Traditional Chinese']   \n",
              "2                                                                                                                        ['English', 'Portuguese - Brazil']   \n",
              "\n",
              "                                                                    Header image  \\\n",
              "0    https://cdn.akamai.steamstatic.com/steam/apps/20200/header.jpg?t=1640121033   \n",
              "1   https://cdn.akamai.steamstatic.com/steam/apps/655370/header.jpg?t=1617500526   \n",
              "2  https://cdn.akamai.steamstatic.com/steam/apps/1732930/header.jpg?t=1637149386   \n",
              "\n",
              "   Windows    Mac             Developers             Publishers  \\\n",
              "0     True  False  Perpetual FX Creative  Perpetual FX Creative   \n",
              "1     True   True           Rusty Moyher           Wild Rooster   \n",
              "2     True  False          Campião Games          Campião Games   \n",
              "\n",
              "                                                                                                                                 Categories  \\\n",
              "0                                                                  Single-player,Multi-player,Steam Achievements,Partial Controller Support   \n",
              "1  Single-player,Steam Achievements,Full controller support,Steam Leaderboards,Remote Play on Phone,Remote Play on Tablet,Remote Play on TV   \n",
              "2                                                                                                                             Single-player   \n",
              "\n",
              "                            Genres  \\\n",
              "0              Casual,Indie,Sports   \n",
              "1                     Action,Indie   \n",
              "2  Action,Adventure,Indie,Strategy   \n",
              "\n",
              "                                                                                                                                                                                                                                                                                                                                                                                                                                                                                                                                                                                                                                                                                                                                                                                                                                                                                                                           Screenshots  \\\n",
              "0  https://cdn.akamai.steamstatic.com/steam/apps/20200/0000005994.1920x1080.jpg?t=1640121033,https://cdn.akamai.steamstatic.com/steam/apps/20200/0000005993.1920x1080.jpg?t=1640121033,https://cdn.akamai.steamstatic.com/steam/apps/20200/0000005992.1920x1080.jpg?t=1640121033,https://cdn.akamai.steamstatic.com/steam/apps/20200/0000006011.1920x1080.jpg?t=1640121033,https://cdn.akamai.steamstatic.com/steam/apps/20200/0000005685.1920x1080.jpg?t=1640121033,https://cdn.akamai.steamstatic.com/steam/apps/20200/0000005686.1920x1080.jpg?t=1640121033,https://cdn.akamai.steamstatic.com/steam/apps/20200/0000005995.1920x1080.jpg?t=1640121033,https://cdn.akamai.steamstatic.com/steam/apps/20200/0000005688.1920x1080.jpg?t=1640121033,https://cdn.akamai.steamstatic.com/steam/apps/20200/0000005689.1920x1080.jpg?t=1640121033,https://cdn.akamai.steamstatic.com/steam/apps/20200/0000005690.1920x1080.jpg?t=1640121033   \n",
              "1                                                                                                                                                                                                                                                                                          https://cdn.akamai.steamstatic.com/steam/apps/655370/ss_16785eac54b29db688870e832f6997c89cd7804b.1920x1080.jpg?t=1617500526,https://cdn.akamai.steamstatic.com/steam/apps/655370/ss_599ad201ec3bb869449aaab4d0b103e220645762.1920x1080.jpg?t=1617500526,https://cdn.akamai.steamstatic.com/steam/apps/655370/ss_a26cfed1bc3e9ca4225fdc9d5c10681cfeb4f106.1920x1080.jpg?t=1617500526,https://cdn.akamai.steamstatic.com/steam/apps/655370/ss_9b815c0ec4996783088d82d22105caa1c044acad.1920x1080.jpg?t=1617500526,https://cdn.akamai.steamstatic.com/steam/apps/655370/ss_b5aada1bd265ff4b34116794fb937ad62e2882bb.1920x1080.jpg?t=1617500526   \n",
              "2                                                                                                                                                        https://cdn.akamai.steamstatic.com/steam/apps/1732930/ss_09d67dec0607be7c4ead80289763033a47c86d89.1920x1080.jpg?t=1637149386,https://cdn.akamai.steamstatic.com/steam/apps/1732930/ss_119713aa971021a5fe24ee241c4be9329d1a37ab.1920x1080.jpg?t=1637149386,https://cdn.akamai.steamstatic.com/steam/apps/1732930/ss_04221851fa82047cee95243edf20e413a35ff410.1920x1080.jpg?t=1637149386,https://cdn.akamai.steamstatic.com/steam/apps/1732930/ss_fb210f530ebe006066bfb5dff35d3c68f858f60e.1920x1080.jpg?t=1637149386,https://cdn.akamai.steamstatic.com/steam/apps/1732930/ss_f43db212224f5b33a0ef530a75c3f852d35e9342.1920x1080.jpg?t=1637149386,https://cdn.akamai.steamstatic.com/steam/apps/1732930/ss_eeb31f8499720fc1b20342f74f0040ca2f190881.1920x1080.jpg?t=1637149386   \n",
              "\n",
              "                                                                                                                                                                Movies  \\\n",
              "0                                                                                    http://cdn.akamai.steamstatic.com/steam/apps/256863704/movie_max.mp4?t=1638854607   \n",
              "1                                                                                    http://cdn.akamai.steamstatic.com/steam/apps/256691108/movie_max.mp4?t=1506089586   \n",
              "2  http://cdn.akamai.steamstatic.com/steam/apps/256847488/movie_max.mp4?t=1635980739,http://cdn.akamai.steamstatic.com/steam/apps/256847487/movie_max.mp4?t=1635980747   \n",
              "\n",
              "  Released_date  Release_year  Release_month  Release_day  word_count  \\\n",
              "0    2008-10-21          2008             10           21         158   \n",
              "1    2017-10-12          2017             10           12          87   \n",
              "2    2021-11-17          2021             11           17         111   \n",
              "\n",
              "   Required_age  \\\n",
              "0             0   \n",
              "1             0   \n",
              "2             0   \n",
              "\n",
              "                                                                                                                                                                                                                                                                                                                                                                                                                                                                                                                                                                                                                                                                                                                                                                                                                                                                                                                                                                                                                                                                          tagged_description  \n",
              "0  20200 Galactic Bowling is an exaggerated and stylized bowling game with an intergalactic twist. Players will engage in fast-paced single and multi-player competition while being submerged in a unique new universe filled with over-the-top humor, wild characters, unique levels, and addictive game play. The title is aimed at players of all ages and skill sets. Through accessible and intuitive controls and game-play, Galactic Bowling allows you to jump right into the action. A single-player campaign and online play allow you to work your way up the ranks of the Galactic Bowling League! Whether you have hours to play or only a few minutes, Galactic Bowling is a fast paced and entertaining experience that will leave you wanting more! Full Single-player story campaign including 11 Characters and Environments. 2 Single-player play modes including Regular and Battle Modes. Head to Head Online Multiplayer play Modes. Super Powers, Special Balls, and Whammies. Unlockable Characters, Environments, and Minigames. Unlock all 30 Steam Achievements!  \n",
              "1                                                                                                                                                                                                                                                                                                                                                                                                                                                                                                                                                                         655370 THE LAW!! Looks to be a showdown atop a train. This will be your last fight. Good luck, Train Bandit. WHAT IS THIS GAME? Train Bandit is a simple score attack game. The Law will attack you from both sides. Your weapon is your keyboard. You'll use those keys to kick the living shit out of the law. React quickly by attacking the correct direction. React...or you're dead. THE FEATURES Unlock new bandits Earn Achievements Become Steam's Most Wanted ? Battle elite officers Kick the law's ass  \n",
              "2                                                                                                                                                                                                                                                                                                                                                                                                                               1732930 Jolt Project: The army now has a new robotics project, jolt. It's up to you to control it and ensure the success of the missions! There are 9 stages of taking the breath away with the right difficulty and good gameplay. Plus an insane way of survival! Fire missiles at cars, tanks, helicopters and turrets! The fun is guaranteed! Use your mouse to aim and shoot and take out the enemies! In this game you will have to be aware of the various enemies who will do everything to destroy your charges and prevent the success of your mission! Cartoon-style graphics are optimized and fun and generate an excellent gaming environment!  "
            ]
          },
          "execution_count": 53,
          "metadata": {},
          "output_type": "execute_result"
        }
      ],
      "source": [
        "game_df.head(3)"
      ]
    },
    {
      "cell_type": "code",
      "execution_count": 54,
      "id": "tphLJ1-eWdCp",
      "metadata": {
        "id": "tphLJ1-eWdCp"
      },
      "outputs": [],
      "source": [
        "game_df.to_csv(r'C:\\Users\\chali\\Downloads\\Compressed\\game-recommendation-system\\datasets\\cleaned_game.csv', index=False)"
      ]
    },
    {
      "cell_type": "markdown",
      "id": "13b5e296",
      "metadata": {},
      "source": [
        "#sentiment Analysis"
      ]
    },
    {
      "cell_type": "code",
      "execution_count": 55,
      "id": "d91cb1a7",
      "metadata": {},
      "outputs": [
        {
          "name": "stderr",
          "output_type": "stream",
          "text": [
            "c:\\Users\\chali\\Downloads\\Compressed\\game-recommendation-system\\venv\\Lib\\site-packages\\tqdm\\auto.py:21: TqdmWarning: IProgress not found. Please update jupyter and ipywidgets. See https://ipywidgets.readthedocs.io/en/stable/user_install.html\n",
            "  from .autonotebook import tqdm as notebook_tqdm\n",
            "Device set to use cpu\n"
          ]
        },
        {
          "data": {
            "text/plain": [
              "[[{'label': 'joy', 'score': 0.9771687984466553},\n",
              "  {'label': 'surprise', 'score': 0.008528691716492176},\n",
              "  {'label': 'neutral', 'score': 0.005764589179307222},\n",
              "  {'label': 'anger', 'score': 0.004419791977852583},\n",
              "  {'label': 'sadness', 'score': 0.002092393347993493},\n",
              "  {'label': 'disgust', 'score': 0.001611992483958602},\n",
              "  {'label': 'fear', 'score': 0.0004138525982853025}]]"
            ]
          },
          "execution_count": 55,
          "metadata": {},
          "output_type": "execute_result"
        }
      ],
      "source": [
        "from transformers import pipeline\n",
        "classifier = pipeline(\"text-classification\",\n",
        "                      model=\"j-hartmann/emotion-english-distilroberta-base\",\n",
        "                      top_k= None,\n",
        ")\n",
        "classifier(\"I love this!\")\n"
      ]
    },
    {
      "cell_type": "code",
      "execution_count": 56,
      "id": "Z8qTI9Lnm27K",
      "metadata": {
        "id": "Z8qTI9Lnm27K"
      },
      "outputs": [
        {
          "data": {
            "text/plain": [
              "'Galactic Bowling is an exaggerated and stylized bowling game with an intergalactic twist. Players will engage in fast-paced single and multi-player competition while being submerged in a unique new universe filled with over-the-top humor, wild characters, unique levels, and addictive game play. The title is aimed at players of all ages and skill sets. Through accessible and intuitive controls and game-play, Galactic Bowling allows you to jump right into the action. A single-player campaign and online play allow you to work your way up the ranks of the Galactic Bowling League! Whether you have hours to play or only a few minutes, Galactic Bowling is a fast paced and entertaining experience that will leave you wanting more! Full Single-player story campaign including 11 Characters and Environments. 2 Single-player play modes including Regular and Battle Modes. Head to Head Online Multiplayer play Modes. Super Powers, Special Balls, and Whammies. Unlockable Characters, Environments, and Minigames. Unlock all 30 Steam Achievements!'"
            ]
          },
          "execution_count": 56,
          "metadata": {},
          "output_type": "execute_result"
        }
      ],
      "source": [
        "game_df['About the game'][0]"
      ]
    },
    {
      "cell_type": "code",
      "execution_count": 57,
      "id": "VxnbHfuzm24R",
      "metadata": {
        "id": "VxnbHfuzm24R"
      },
      "outputs": [
        {
          "data": {
            "text/plain": [
              "[[{'label': 'joy', 'score': 0.5901387333869934},\n",
              "  {'label': 'neutral', 'score': 0.34395185112953186},\n",
              "  {'label': 'surprise', 'score': 0.04111314192414284},\n",
              "  {'label': 'anger', 'score': 0.010401741601526737},\n",
              "  {'label': 'disgust', 'score': 0.0071746413595974445},\n",
              "  {'label': 'sadness', 'score': 0.0053082425147295},\n",
              "  {'label': 'fear', 'score': 0.0019117237534373999}]]"
            ]
          },
          "execution_count": 57,
          "metadata": {},
          "output_type": "execute_result"
        }
      ],
      "source": [
        "classifier(game_df['About the game'][0])"
      ]
    },
    {
      "cell_type": "code",
      "execution_count": 58,
      "id": "91edba27",
      "metadata": {},
      "outputs": [
        {
          "data": {
            "text/plain": [
              "[[{'label': 'neutral', 'score': 0.7835095524787903},\n",
              "  {'label': 'joy', 'score': 0.11311990767717361},\n",
              "  {'label': 'surprise', 'score': 0.06659195572137833},\n",
              "  {'label': 'disgust', 'score': 0.017894748598337173},\n",
              "  {'label': 'anger', 'score': 0.009464818052947521},\n",
              "  {'label': 'sadness', 'score': 0.005986671894788742},\n",
              "  {'label': 'fear', 'score': 0.0034323264844715595}],\n",
              " [{'label': 'joy', 'score': 0.6992320418357849},\n",
              "  {'label': 'neutral', 'score': 0.27037718892097473},\n",
              "  {'label': 'surprise', 'score': 0.013399029150605202},\n",
              "  {'label': 'disgust', 'score': 0.005957326851785183},\n",
              "  {'label': 'anger', 'score': 0.005703591741621494},\n",
              "  {'label': 'sadness', 'score': 0.004110425710678101},\n",
              "  {'label': 'fear', 'score': 0.0012203279184177518}],\n",
              " [{'label': 'neutral', 'score': 0.8317542672157288},\n",
              "  {'label': 'joy', 'score': 0.11815626919269562},\n",
              "  {'label': 'surprise', 'score': 0.027941452339291573},\n",
              "  {'label': 'sadness', 'score': 0.008040274493396282},\n",
              "  {'label': 'anger', 'score': 0.006270876154303551},\n",
              "  {'label': 'disgust', 'score': 0.003929574973881245},\n",
              "  {'label': 'fear', 'score': 0.003907159902155399}],\n",
              " [{'label': 'neutral', 'score': 0.771547794342041},\n",
              "  {'label': 'joy', 'score': 0.1743703931570053},\n",
              "  {'label': 'surprise', 'score': 0.036916058510541916},\n",
              "  {'label': 'anger', 'score': 0.007256894372403622},\n",
              "  {'label': 'fear', 'score': 0.0040229507721960545},\n",
              "  {'label': 'disgust', 'score': 0.003780272090807557},\n",
              "  {'label': 'sadness', 'score': 0.0021056102123111486}],\n",
              " [{'label': 'joy', 'score': 0.8163623213768005},\n",
              "  {'label': 'neutral', 'score': 0.1372459977865219},\n",
              "  {'label': 'surprise', 'score': 0.03539440035820007},\n",
              "  {'label': 'anger', 'score': 0.004463039338588715},\n",
              "  {'label': 'sadness', 'score': 0.003482743864879012},\n",
              "  {'label': 'disgust', 'score': 0.0020349391270428896},\n",
              "  {'label': 'fear', 'score': 0.001016637310385704}],\n",
              " [{'label': 'neutral', 'score': 0.8808749914169312},\n",
              "  {'label': 'surprise', 'score': 0.06550213694572449},\n",
              "  {'label': 'joy', 'score': 0.0266866572201252},\n",
              "  {'label': 'sadness', 'score': 0.014362016692757607},\n",
              "  {'label': 'anger', 'score': 0.006366272456943989},\n",
              "  {'label': 'disgust', 'score': 0.0041299681179225445},\n",
              "  {'label': 'fear', 'score': 0.0020779906772077084}],\n",
              " [{'label': 'neutral', 'score': 0.947171688079834},\n",
              "  {'label': 'surprise', 'score': 0.02160925604403019},\n",
              "  {'label': 'anger', 'score': 0.008567308075726032},\n",
              "  {'label': 'sadness', 'score': 0.007470632437616587},\n",
              "  {'label': 'joy', 'score': 0.006748159881681204},\n",
              "  {'label': 'disgust', 'score': 0.004234389867633581},\n",
              "  {'label': 'fear', 'score': 0.004198465961962938}],\n",
              " [{'label': 'neutral', 'score': 0.7040190100669861},\n",
              "  {'label': 'joy', 'score': 0.12758059799671173},\n",
              "  {'label': 'surprise', 'score': 0.1140419989824295},\n",
              "  {'label': 'sadness', 'score': 0.023381253704428673},\n",
              "  {'label': 'anger', 'score': 0.019282229244709015},\n",
              "  {'label': 'disgust', 'score': 0.009464145638048649},\n",
              "  {'label': 'fear', 'score': 0.0022308339830487967}],\n",
              " [{'label': 'neutral', 'score': 0.9090235829353333},\n",
              "  {'label': 'surprise', 'score': 0.04881766065955162},\n",
              "  {'label': 'sadness', 'score': 0.011782827787101269},\n",
              "  {'label': 'anger', 'score': 0.011294331401586533},\n",
              "  {'label': 'joy', 'score': 0.008737579919397831},\n",
              "  {'label': 'disgust', 'score': 0.007369082886725664},\n",
              "  {'label': 'fear', 'score': 0.0029748128727078438}],\n",
              " [{'label': 'neutral', 'score': 0.6840401291847229},\n",
              "  {'label': 'surprise', 'score': 0.15055087208747864},\n",
              "  {'label': 'joy', 'score': 0.13481168448925018},\n",
              "  {'label': 'anger', 'score': 0.01724008098244667},\n",
              "  {'label': 'sadness', 'score': 0.009311994537711143},\n",
              "  {'label': 'fear', 'score': 0.0021361394319683313},\n",
              "  {'label': 'disgust', 'score': 0.001909043057821691}]]"
            ]
          },
          "execution_count": 58,
          "metadata": {},
          "output_type": "execute_result"
        }
      ],
      "source": [
        "classifier(game_df['About the game'][0].split(\".\"))"
      ]
    },
    {
      "cell_type": "code",
      "execution_count": 59,
      "id": "6cc660f7",
      "metadata": {},
      "outputs": [],
      "source": [
        "sentences = game_df['About the game'][0].split(\".\")\n",
        "predictions = classifier(sentences)"
      ]
    },
    {
      "cell_type": "code",
      "execution_count": 60,
      "id": "31de3053",
      "metadata": {},
      "outputs": [
        {
          "data": {
            "text/plain": [
              "'Galactic Bowling is an exaggerated and stylized bowling game with an intergalactic twist'"
            ]
          },
          "execution_count": 60,
          "metadata": {},
          "output_type": "execute_result"
        }
      ],
      "source": [
        "sentences[0]"
      ]
    },
    {
      "cell_type": "code",
      "execution_count": 61,
      "id": "92a9610c",
      "metadata": {},
      "outputs": [
        {
          "data": {
            "text/plain": [
              "[{'label': 'neutral', 'score': 0.7835095524787903},\n",
              " {'label': 'joy', 'score': 0.11311990767717361},\n",
              " {'label': 'surprise', 'score': 0.06659195572137833},\n",
              " {'label': 'disgust', 'score': 0.017894748598337173},\n",
              " {'label': 'anger', 'score': 0.009464818052947521},\n",
              " {'label': 'sadness', 'score': 0.005986671894788742},\n",
              " {'label': 'fear', 'score': 0.0034323264844715595}]"
            ]
          },
          "execution_count": 61,
          "metadata": {},
          "output_type": "execute_result"
        }
      ],
      "source": [
        "predictions[0]"
      ]
    },
    {
      "cell_type": "code",
      "execution_count": 62,
      "id": "fbcd4267",
      "metadata": {},
      "outputs": [
        {
          "data": {
            "text/plain": [
              "' The title is aimed at players of all ages and skill sets'"
            ]
          },
          "execution_count": 62,
          "metadata": {},
          "output_type": "execute_result"
        }
      ],
      "source": [
        "sentences[2]"
      ]
    },
    {
      "cell_type": "code",
      "execution_count": 63,
      "id": "c2e997b8",
      "metadata": {},
      "outputs": [
        {
          "data": {
            "text/plain": [
              "[{'label': 'neutral', 'score': 0.8317542672157288},\n",
              " {'label': 'joy', 'score': 0.11815626919269562},\n",
              " {'label': 'surprise', 'score': 0.027941452339291573},\n",
              " {'label': 'sadness', 'score': 0.008040274493396282},\n",
              " {'label': 'anger', 'score': 0.006270876154303551},\n",
              " {'label': 'disgust', 'score': 0.003929574973881245},\n",
              " {'label': 'fear', 'score': 0.003907159902155399}]"
            ]
          },
          "execution_count": 63,
          "metadata": {},
          "output_type": "execute_result"
        }
      ],
      "source": [
        "predictions[2]"
      ]
    },
    {
      "cell_type": "code",
      "execution_count": 64,
      "id": "76f9c9a5",
      "metadata": {},
      "outputs": [
        {
          "data": {
            "text/plain": [
              "[[{'label': 'neutral', 'score': 0.7835095524787903},\n",
              "  {'label': 'joy', 'score': 0.11311990767717361},\n",
              "  {'label': 'surprise', 'score': 0.06659195572137833},\n",
              "  {'label': 'disgust', 'score': 0.017894748598337173},\n",
              "  {'label': 'anger', 'score': 0.009464818052947521},\n",
              "  {'label': 'sadness', 'score': 0.005986671894788742},\n",
              "  {'label': 'fear', 'score': 0.0034323264844715595}],\n",
              " [{'label': 'joy', 'score': 0.6992320418357849},\n",
              "  {'label': 'neutral', 'score': 0.27037718892097473},\n",
              "  {'label': 'surprise', 'score': 0.013399029150605202},\n",
              "  {'label': 'disgust', 'score': 0.005957326851785183},\n",
              "  {'label': 'anger', 'score': 0.005703591741621494},\n",
              "  {'label': 'sadness', 'score': 0.004110425710678101},\n",
              "  {'label': 'fear', 'score': 0.0012203279184177518}],\n",
              " [{'label': 'neutral', 'score': 0.8317542672157288},\n",
              "  {'label': 'joy', 'score': 0.11815626919269562},\n",
              "  {'label': 'surprise', 'score': 0.027941452339291573},\n",
              "  {'label': 'sadness', 'score': 0.008040274493396282},\n",
              "  {'label': 'anger', 'score': 0.006270876154303551},\n",
              "  {'label': 'disgust', 'score': 0.003929574973881245},\n",
              "  {'label': 'fear', 'score': 0.003907159902155399}],\n",
              " [{'label': 'neutral', 'score': 0.771547794342041},\n",
              "  {'label': 'joy', 'score': 0.1743703931570053},\n",
              "  {'label': 'surprise', 'score': 0.036916058510541916},\n",
              "  {'label': 'anger', 'score': 0.007256894372403622},\n",
              "  {'label': 'fear', 'score': 0.0040229507721960545},\n",
              "  {'label': 'disgust', 'score': 0.003780272090807557},\n",
              "  {'label': 'sadness', 'score': 0.0021056102123111486}],\n",
              " [{'label': 'joy', 'score': 0.8163623213768005},\n",
              "  {'label': 'neutral', 'score': 0.1372459977865219},\n",
              "  {'label': 'surprise', 'score': 0.03539440035820007},\n",
              "  {'label': 'anger', 'score': 0.004463039338588715},\n",
              "  {'label': 'sadness', 'score': 0.003482743864879012},\n",
              "  {'label': 'disgust', 'score': 0.0020349391270428896},\n",
              "  {'label': 'fear', 'score': 0.001016637310385704}],\n",
              " [{'label': 'neutral', 'score': 0.8808749914169312},\n",
              "  {'label': 'surprise', 'score': 0.06550213694572449},\n",
              "  {'label': 'joy', 'score': 0.0266866572201252},\n",
              "  {'label': 'sadness', 'score': 0.014362016692757607},\n",
              "  {'label': 'anger', 'score': 0.006366272456943989},\n",
              "  {'label': 'disgust', 'score': 0.0041299681179225445},\n",
              "  {'label': 'fear', 'score': 0.0020779906772077084}],\n",
              " [{'label': 'neutral', 'score': 0.947171688079834},\n",
              "  {'label': 'surprise', 'score': 0.02160925604403019},\n",
              "  {'label': 'anger', 'score': 0.008567308075726032},\n",
              "  {'label': 'sadness', 'score': 0.007470632437616587},\n",
              "  {'label': 'joy', 'score': 0.006748159881681204},\n",
              "  {'label': 'disgust', 'score': 0.004234389867633581},\n",
              "  {'label': 'fear', 'score': 0.004198465961962938}],\n",
              " [{'label': 'neutral', 'score': 0.7040190100669861},\n",
              "  {'label': 'joy', 'score': 0.12758059799671173},\n",
              "  {'label': 'surprise', 'score': 0.1140419989824295},\n",
              "  {'label': 'sadness', 'score': 0.023381253704428673},\n",
              "  {'label': 'anger', 'score': 0.019282229244709015},\n",
              "  {'label': 'disgust', 'score': 0.009464145638048649},\n",
              "  {'label': 'fear', 'score': 0.0022308339830487967}],\n",
              " [{'label': 'neutral', 'score': 0.9090235829353333},\n",
              "  {'label': 'surprise', 'score': 0.04881766065955162},\n",
              "  {'label': 'sadness', 'score': 0.011782827787101269},\n",
              "  {'label': 'anger', 'score': 0.011294331401586533},\n",
              "  {'label': 'joy', 'score': 0.008737579919397831},\n",
              "  {'label': 'disgust', 'score': 0.007369082886725664},\n",
              "  {'label': 'fear', 'score': 0.0029748128727078438}],\n",
              " [{'label': 'neutral', 'score': 0.6840401291847229},\n",
              "  {'label': 'surprise', 'score': 0.15055087208747864},\n",
              "  {'label': 'joy', 'score': 0.13481168448925018},\n",
              "  {'label': 'anger', 'score': 0.01724008098244667},\n",
              "  {'label': 'sadness', 'score': 0.009311994537711143},\n",
              "  {'label': 'fear', 'score': 0.0021361394319683313},\n",
              "  {'label': 'disgust', 'score': 0.001909043057821691}]]"
            ]
          },
          "execution_count": 64,
          "metadata": {},
          "output_type": "execute_result"
        }
      ],
      "source": [
        "predictions"
      ]
    },
    {
      "cell_type": "code",
      "execution_count": 65,
      "id": "52e72771",
      "metadata": {},
      "outputs": [
        {
          "data": {
            "text/plain": [
              "[{'label': 'anger', 'score': 0.009464818052947521},\n",
              " {'label': 'disgust', 'score': 0.017894748598337173},\n",
              " {'label': 'fear', 'score': 0.0034323264844715595},\n",
              " {'label': 'joy', 'score': 0.11311990767717361},\n",
              " {'label': 'neutral', 'score': 0.7835095524787903},\n",
              " {'label': 'sadness', 'score': 0.005986671894788742},\n",
              " {'label': 'surprise', 'score': 0.06659195572137833}]"
            ]
          },
          "execution_count": 65,
          "metadata": {},
          "output_type": "execute_result"
        }
      ],
      "source": [
        "sorted(predictions[0], key=lambda x: x['label'])"
      ]
    },
    {
      "cell_type": "code",
      "execution_count": null,
      "id": "7ff71483",
      "metadata": {},
      "outputs": [],
      "source": [
        "emotion_labels = [\"anger\", \"disgust\", \"fear\", \"joy\", \"neutral\", \"sadness\", \"surprise\"]\n",
        "appid = []\n",
        "emotion_scores = {label: [] for label in emotion_labels}\n",
        "\n",
        "def max_emotion(predictions):\n",
        "    per_scores = {label: [] for label in emotion_labels}\n",
        "    for prediction in predictions:\n",
        "        sorted_prediction = sorted(prediction, key=lambda x: x['label'])\n",
        "        for index, label in enumerate(emotion_labels):     \n",
        "            per_scores[label].append(sorted_prediction[index]['score'])\n",
        "    return {label: max(scores) for label, scores in per_scores.items()}\n",
        "\n",
        "\n",
        "for i in range(10):\n",
        "    appid.append(game_df.iloc[i]['AppID']) \n",
        "    sentences = game_df.iloc[i]['About the game'].split(\".\")\n",
        "    predictions = classifier(sentences)\n",
        "    max_scores = max_emotion(predictions)\n",
        "    for label in emotion_labels:\n",
        "        emotion_scores[label].append(max_scores[label])\n"
      ]
    },
    {
      "cell_type": "code",
      "execution_count": 67,
      "id": "ea95c3cc",
      "metadata": {},
      "outputs": [
        {
          "name": "stdout",
          "output_type": "stream",
          "text": [
            "{'anger': [0.019282229244709015, 0.9136583805084229, 0.1687081903219223, 0.1320878565311432, 0.06413363665342331, 0.9602736830711365, 0.03403722494840622, 0.5630684494972229, 0.1391003429889679, 0.06413363665342331], 'disgust': [0.017894748598337173, 0.10400673747062683, 0.020956845954060555, 0.10400673747062683, 0.10400673747062683, 0.10400673747062683, 0.1166987493634224, 0.20041431486606598, 0.10400673747062683, 0.10400673747062683], 'fear': [0.004198465961962938, 0.43531060218811035, 0.006914611905813217, 0.8967406749725342, 0.4406103491783142, 0.051362838596105576, 0.9517132639884949, 0.3912455439567566, 0.051362838596105576, 0.9690638184547424], 'joy': [0.8163623213768005, 0.19889920949935913, 0.5495945811271667, 0.9001287817955017, 0.7966525554656982, 0.8127384781837463, 0.15686629712581635, 0.7897093892097473, 0.9738225936889648, 0.907200276851654], 'neutral': [0.947171688079834, 0.9164174795150757, 0.9442567825317383, 0.9343887567520142, 0.7257094979286194, 0.784744381904602, 0.8711350560188293, 0.970693826675415, 0.9518815875053406, 0.931995689868927], 'sadness': [0.023381253704428673, 0.7433798313140869, 0.007979432120919228, 0.9676402807235718, 0.2186368852853775, 0.11169019341468811, 0.3469782769680023, 0.11169019341468811, 0.4825160503387451, 0.8794824481010437], 'surprise': [0.15055087208747864, 0.3074494004249573, 0.2537074685096741, 0.1853274554014206, 0.18545451760292053, 0.291948139667511, 0.20956097543239594, 0.07876546680927277, 0.29455459117889404, 0.07876546680927277]}\n"
          ]
        }
      ],
      "source": [
        "print(emotion_scores)"
      ]
    },
    {
      "cell_type": "code",
      "execution_count": 68,
      "id": "2ba73492",
      "metadata": {},
      "outputs": [
        {
          "name": "stderr",
          "output_type": "stream",
          "text": [
            "c:\\Users\\chali\\Downloads\\Compressed\\game-recommendation-system\\venv\\Lib\\site-packages\\huggingface_hub\\file_download.py:144: UserWarning: `huggingface_hub` cache-system uses symlinks by default to efficiently store duplicated files but your machine does not support them in C:\\Users\\chali\\.cache\\huggingface\\hub\\models--distilbert-base-uncased. Caching files will still work but in a degraded version that might require more space on your disk. This warning can be disabled by setting the `HF_HUB_DISABLE_SYMLINKS_WARNING` environment variable. For more details, see https://huggingface.co/docs/huggingface_hub/how-to-cache#limitations.\n",
            "To support symlinks on Windows, you either need to activate Developer Mode or to run Python as an administrator. In order to activate developer mode, see this article: https://docs.microsoft.com/en-us/windows/apps/get-started/enable-your-device-for-development\n",
            "  warnings.warn(message)\n"
          ]
        }
      ],
      "source": [
        "from transformers import AutoTokenizer\n",
        "\n",
        "tokenizer = AutoTokenizer.from_pretrained(\"distilbert-base-uncased\")  # or your model name\n",
        "MAX_TOKENS = 512\n"
      ]
    },
    {
      "cell_type": "code",
      "execution_count": 69,
      "id": "20d01570",
      "metadata": {},
      "outputs": [],
      "source": [
        "def truncate_text(text):\n",
        "    tokens = tokenizer.tokenize(text)\n",
        "    truncated = tokens[:MAX_TOKENS]\n",
        "    return tokenizer.convert_tokens_to_string(truncated)\n"
      ]
    },
    {
      "cell_type": "code",
      "execution_count": 70,
      "id": "54cd89ba",
      "metadata": {},
      "outputs": [],
      "source": [
        "from tqdm import tqdm"
      ]
    },
    {
      "cell_type": "code",
      "execution_count": 71,
      "id": "826c652e",
      "metadata": {},
      "outputs": [
        {
          "name": "stderr",
          "output_type": "stream",
          "text": [
            "  5%|▍         | 1744/38158 [21:51<2:41:05,  3.77it/s] Token indices sequence length is longer than the specified maximum sequence length for this model (564 > 512). Running this sequence through the model will result in indexing errors\n",
            "  7%|▋         | 2703/38158 [25:44<1:44:10,  5.67it/s] Token indices sequence length is longer than the specified maximum sequence length for this model (515 > 512). Running this sequence through the model will result in indexing errors\n",
            "  7%|▋         | 2705/38158 [25:44<1:25:55,  6.88it/s]"
          ]
        },
        {
          "name": "stdout",
          "output_type": "stream",
          "text": [
            "Error at index 2703: The expanded size of the tensor (515) must match the existing size (514) at non-singleton dimension 1.  Target sizes: [1, 515].  Tensor sizes: [1, 514]\n"
          ]
        },
        {
          "name": "stderr",
          "output_type": "stream",
          "text": [
            "  9%|▉         | 3495/38158 [28:58<1:25:03,  6.79it/s]"
          ]
        },
        {
          "name": "stdout",
          "output_type": "stream",
          "text": [
            "Error at index 3493: The expanded size of the tensor (516) must match the existing size (514) at non-singleton dimension 1.  Target sizes: [1, 516].  Tensor sizes: [1, 514]\n"
          ]
        },
        {
          "name": "stderr",
          "output_type": "stream",
          "text": [
            " 11%|█         | 4190/38158 [31:56<3:25:07,  2.76it/s]"
          ]
        },
        {
          "name": "stdout",
          "output_type": "stream",
          "text": [
            "Error at index 4189: index out of range in self\n"
          ]
        },
        {
          "name": "stderr",
          "output_type": "stream",
          "text": [
            " 49%|████▉     | 18611/38158 [2:01:20<3:22:59,  1.60it/s] "
          ]
        },
        {
          "name": "stdout",
          "output_type": "stream",
          "text": [
            "Error at index 18610: index out of range in self\n"
          ]
        },
        {
          "name": "stderr",
          "output_type": "stream",
          "text": [
            " 61%|██████    | 23189/38158 [2:38:33<1:25:07,  2.93it/s] "
          ]
        },
        {
          "name": "stdout",
          "output_type": "stream",
          "text": [
            "Error at index 23187: The expanded size of the tensor (563) must match the existing size (514) at non-singleton dimension 1.  Target sizes: [1, 563].  Tensor sizes: [1, 514]\n"
          ]
        },
        {
          "name": "stderr",
          "output_type": "stream",
          "text": [
            " 73%|███████▎  | 27744/38158 [3:17:49<1:04:49,  2.68it/s]"
          ]
        },
        {
          "name": "stdout",
          "output_type": "stream",
          "text": [
            "Error at index 27743: The expanded size of the tensor (568) must match the existing size (514) at non-singleton dimension 1.  Target sizes: [1, 568].  Tensor sizes: [1, 514]\n"
          ]
        },
        {
          "name": "stderr",
          "output_type": "stream",
          "text": [
            " 78%|███████▊  | 29829/38158 [3:37:32<3:26:03,  1.48s/it]"
          ]
        },
        {
          "name": "stdout",
          "output_type": "stream",
          "text": [
            "Error at index 29828: The expanded size of the tensor (521) must match the existing size (514) at non-singleton dimension 1.  Target sizes: [1, 521].  Tensor sizes: [1, 514]\n"
          ]
        },
        {
          "name": "stderr",
          "output_type": "stream",
          "text": [
            " 84%|████████▍ | 32145/38158 [7:52:35<15:23,  6.51it/s]       "
          ]
        },
        {
          "name": "stdout",
          "output_type": "stream",
          "text": [
            "Error at index 32143: The expanded size of the tensor (530) must match the existing size (514) at non-singleton dimension 1.  Target sizes: [1, 530].  Tensor sizes: [1, 514]\n"
          ]
        },
        {
          "name": "stderr",
          "output_type": "stream",
          "text": [
            "100%|██████████| 38158/38158 [8:18:30<00:00,  1.28it/s]   \n"
          ]
        }
      ],
      "source": [
        "emotion_labels = [\"anger\", \"disgust\", \"fear\", \"joy\", \"neutral\", \"sadness\", \"surprise\"]\n",
        "appid = []\n",
        "emotion_scores = {label: [] for label in emotion_labels}\n",
        "\n",
        "for i in tqdm(range(len(game_df))):\n",
        "    appid.append(game_df.iloc[i]['AppID'])\n",
        "    sentences = game_df.iloc[i]['About the game'].split(\".\")\n",
        "    truncated_sentences = [truncate_text(s) for s in sentences if s.strip()]\n",
        "    try:\n",
        "        predictions = classifier(truncated_sentences)\n",
        "        max_scores = max_emotion(predictions)\n",
        "        for label in emotion_labels:\n",
        "            emotion_scores[label].append(max_scores[label])\n",
        "    except Exception as e:\n",
        "        print(f\"Error at index {i}: {e}\")\n",
        "        for label in emotion_labels:\n",
        "            emotion_scores[label].append(0.0)\n"
      ]
    },
    {
      "cell_type": "code",
      "execution_count": 72,
      "id": "e00b7723",
      "metadata": {},
      "outputs": [
        {
          "data": {
            "text/html": [
              "<div>\n",
              "<style scoped>\n",
              "    .dataframe tbody tr th:only-of-type {\n",
              "        vertical-align: middle;\n",
              "    }\n",
              "\n",
              "    .dataframe tbody tr th {\n",
              "        vertical-align: top;\n",
              "    }\n",
              "\n",
              "    .dataframe thead th {\n",
              "        text-align: right;\n",
              "    }\n",
              "</style>\n",
              "<table border=\"1\" class=\"dataframe\">\n",
              "  <thead>\n",
              "    <tr style=\"text-align: right;\">\n",
              "      <th></th>\n",
              "      <th>anger</th>\n",
              "      <th>disgust</th>\n",
              "      <th>fear</th>\n",
              "      <th>joy</th>\n",
              "      <th>neutral</th>\n",
              "      <th>sadness</th>\n",
              "      <th>surprise</th>\n",
              "      <th>AppID</th>\n",
              "    </tr>\n",
              "  </thead>\n",
              "  <tbody>\n",
              "    <tr>\n",
              "      <th>0</th>\n",
              "      <td>0.023346</td>\n",
              "      <td>0.018487</td>\n",
              "      <td>0.019092</td>\n",
              "      <td>0.947821</td>\n",
              "      <td>0.896984</td>\n",
              "      <td>0.172612</td>\n",
              "      <td>0.343782</td>\n",
              "      <td>20200</td>\n",
              "    </tr>\n",
              "    <tr>\n",
              "      <th>1</th>\n",
              "      <td>0.922213</td>\n",
              "      <td>0.037191</td>\n",
              "      <td>0.482958</td>\n",
              "      <td>0.193232</td>\n",
              "      <td>0.891297</td>\n",
              "      <td>0.678130</td>\n",
              "      <td>0.528554</td>\n",
              "      <td>655370</td>\n",
              "    </tr>\n",
              "    <tr>\n",
              "      <th>2</th>\n",
              "      <td>0.102581</td>\n",
              "      <td>0.005369</td>\n",
              "      <td>0.003955</td>\n",
              "      <td>0.804184</td>\n",
              "      <td>0.822155</td>\n",
              "      <td>0.012697</td>\n",
              "      <td>0.351603</td>\n",
              "      <td>1732930</td>\n",
              "    </tr>\n",
              "    <tr>\n",
              "      <th>3</th>\n",
              "      <td>0.120906</td>\n",
              "      <td>0.110655</td>\n",
              "      <td>0.977107</td>\n",
              "      <td>0.961631</td>\n",
              "      <td>0.878328</td>\n",
              "      <td>0.980837</td>\n",
              "      <td>0.358323</td>\n",
              "      <td>1469160</td>\n",
              "    </tr>\n",
              "    <tr>\n",
              "      <th>4</th>\n",
              "      <td>0.080376</td>\n",
              "      <td>0.020888</td>\n",
              "      <td>0.522571</td>\n",
              "      <td>0.989051</td>\n",
              "      <td>0.650253</td>\n",
              "      <td>0.732192</td>\n",
              "      <td>0.394736</td>\n",
              "      <td>1659180</td>\n",
              "    </tr>\n",
              "  </tbody>\n",
              "</table>\n",
              "</div>"
            ],
            "text/plain": [
              "      anger   disgust      fear       joy   neutral   sadness  surprise  \\\n",
              "0  0.023346  0.018487  0.019092  0.947821  0.896984  0.172612  0.343782   \n",
              "1  0.922213  0.037191  0.482958  0.193232  0.891297  0.678130  0.528554   \n",
              "2  0.102581  0.005369  0.003955  0.804184  0.822155  0.012697  0.351603   \n",
              "3  0.120906  0.110655  0.977107  0.961631  0.878328  0.980837  0.358323   \n",
              "4  0.080376  0.020888  0.522571  0.989051  0.650253  0.732192  0.394736   \n",
              "\n",
              "     AppID  \n",
              "0    20200  \n",
              "1   655370  \n",
              "2  1732930  \n",
              "3  1469160  \n",
              "4  1659180  "
            ]
          },
          "execution_count": 72,
          "metadata": {},
          "output_type": "execute_result"
        }
      ],
      "source": [
        "updated_df = pd.DataFrame(emotion_scores)\n",
        "updated_df['AppID'] = appid\n",
        "updated_df.head(5)"
      ]
    },
    {
      "cell_type": "code",
      "execution_count": 73,
      "id": "bb0acb73",
      "metadata": {},
      "outputs": [
        {
          "data": {
            "text/html": [
              "<div>\n",
              "<style scoped>\n",
              "    .dataframe tbody tr th:only-of-type {\n",
              "        vertical-align: middle;\n",
              "    }\n",
              "\n",
              "    .dataframe tbody tr th {\n",
              "        vertical-align: top;\n",
              "    }\n",
              "\n",
              "    .dataframe thead th {\n",
              "        text-align: right;\n",
              "    }\n",
              "</style>\n",
              "<table border=\"1\" class=\"dataframe\">\n",
              "  <thead>\n",
              "    <tr style=\"text-align: right;\">\n",
              "      <th></th>\n",
              "      <th>AppID</th>\n",
              "      <th>Name</th>\n",
              "      <th>Estimated owners</th>\n",
              "      <th>Price</th>\n",
              "      <th>About the game</th>\n",
              "      <th>Supported languages</th>\n",
              "      <th>Header image</th>\n",
              "      <th>Windows</th>\n",
              "      <th>Mac</th>\n",
              "      <th>Developers</th>\n",
              "      <th>Publishers</th>\n",
              "      <th>Categories</th>\n",
              "      <th>Genres</th>\n",
              "      <th>Screenshots</th>\n",
              "      <th>Movies</th>\n",
              "      <th>Released_date</th>\n",
              "      <th>Release_year</th>\n",
              "      <th>Release_month</th>\n",
              "      <th>Release_day</th>\n",
              "      <th>word_count</th>\n",
              "      <th>Required_age</th>\n",
              "      <th>tagged_description</th>\n",
              "      <th>anger</th>\n",
              "      <th>disgust</th>\n",
              "      <th>fear</th>\n",
              "      <th>joy</th>\n",
              "      <th>neutral</th>\n",
              "      <th>sadness</th>\n",
              "      <th>surprise</th>\n",
              "    </tr>\n",
              "  </thead>\n",
              "  <tbody>\n",
              "    <tr>\n",
              "      <th>0</th>\n",
              "      <td>20200</td>\n",
              "      <td>Galactic Bowling</td>\n",
              "      <td>0 - 20000</td>\n",
              "      <td>19.99</td>\n",
              "      <td>Galactic Bowling is an exaggerated and stylized bowling game with an intergalactic twist. Players will engage in fast-paced single and multi-player competition while being submerged in a unique new universe filled with over-the-top humor, wild characters, unique levels, and addictive game play. The title is aimed at players of all ages and skill sets. Through accessible and intuitive controls and game-play, Galactic Bowling allows you to jump right into the action. A single-player campaign and online play allow you to work your way up the ranks of the Galactic Bowling League! Whether you have hours to play or only a few minutes, Galactic Bowling is a fast paced and entertaining experience that will leave you wanting more! Full Single-player story campaign including 11 Characters and Environments. 2 Single-player play modes including Regular and Battle Modes. Head to Head Online Multiplayer play Modes. Super Powers, Special Balls, and Whammies. Unlockable Characters, Environments, and Minigames. Unlock all 30 Steam Achievements!</td>\n",
              "      <td>['English']</td>\n",
              "      <td>https://cdn.akamai.steamstatic.com/steam/apps/20200/header.jpg?t=1640121033</td>\n",
              "      <td>True</td>\n",
              "      <td>False</td>\n",
              "      <td>Perpetual FX Creative</td>\n",
              "      <td>Perpetual FX Creative</td>\n",
              "      <td>Single-player,Multi-player,Steam Achievements,Partial Controller Support</td>\n",
              "      <td>Casual,Indie,Sports</td>\n",
              "      <td>https://cdn.akamai.steamstatic.com/steam/apps/20200/0000005994.1920x1080.jpg?t=1640121033,https://cdn.akamai.steamstatic.com/steam/apps/20200/0000005993.1920x1080.jpg?t=1640121033,https://cdn.akamai.steamstatic.com/steam/apps/20200/0000005992.1920x1080.jpg?t=1640121033,https://cdn.akamai.steamstatic.com/steam/apps/20200/0000006011.1920x1080.jpg?t=1640121033,https://cdn.akamai.steamstatic.com/steam/apps/20200/0000005685.1920x1080.jpg?t=1640121033,https://cdn.akamai.steamstatic.com/steam/apps/20200/0000005686.1920x1080.jpg?t=1640121033,https://cdn.akamai.steamstatic.com/steam/apps/20200/0000005995.1920x1080.jpg?t=1640121033,https://cdn.akamai.steamstatic.com/steam/apps/20200/0000005688.1920x1080.jpg?t=1640121033,https://cdn.akamai.steamstatic.com/steam/apps/20200/0000005689.1920x1080.jpg?t=1640121033,https://cdn.akamai.steamstatic.com/steam/apps/20200/0000005690.1920x1080.jpg?t=1640121033</td>\n",
              "      <td>http://cdn.akamai.steamstatic.com/steam/apps/256863704/movie_max.mp4?t=1638854607</td>\n",
              "      <td>2008-10-21</td>\n",
              "      <td>2008</td>\n",
              "      <td>10</td>\n",
              "      <td>21</td>\n",
              "      <td>158</td>\n",
              "      <td>0</td>\n",
              "      <td>20200 Galactic Bowling is an exaggerated and stylized bowling game with an intergalactic twist. Players will engage in fast-paced single and multi-player competition while being submerged in a unique new universe filled with over-the-top humor, wild characters, unique levels, and addictive game play. The title is aimed at players of all ages and skill sets. Through accessible and intuitive controls and game-play, Galactic Bowling allows you to jump right into the action. A single-player campaign and online play allow you to work your way up the ranks of the Galactic Bowling League! Whether you have hours to play or only a few minutes, Galactic Bowling is a fast paced and entertaining experience that will leave you wanting more! Full Single-player story campaign including 11 Characters and Environments. 2 Single-player play modes including Regular and Battle Modes. Head to Head Online Multiplayer play Modes. Super Powers, Special Balls, and Whammies. Unlockable Characters, Environments, and Minigames. Unlock all 30 Steam Achievements!</td>\n",
              "      <td>0.023346</td>\n",
              "      <td>0.018487</td>\n",
              "      <td>0.019092</td>\n",
              "      <td>0.947821</td>\n",
              "      <td>0.896984</td>\n",
              "      <td>0.172612</td>\n",
              "      <td>0.343782</td>\n",
              "    </tr>\n",
              "    <tr>\n",
              "      <th>1</th>\n",
              "      <td>655370</td>\n",
              "      <td>Train Bandit</td>\n",
              "      <td>0 - 20000</td>\n",
              "      <td>0.99</td>\n",
              "      <td>THE LAW!! Looks to be a showdown atop a train. This will be your last fight. Good luck, Train Bandit. WHAT IS THIS GAME? Train Bandit is a simple score attack game. The Law will attack you from both sides. Your weapon is your keyboard. You'll use those keys to kick the living shit out of the law. React quickly by attacking the correct direction. React...or you're dead. THE FEATURES Unlock new bandits Earn Achievements Become Steam's Most Wanted ? Battle elite officers Kick the law's ass</td>\n",
              "      <td>['English', 'French', 'Italian', 'German', 'Spanish - Spain', 'Japanese', 'Portuguese - Brazil', 'Russian', 'Simplified Chinese', 'Traditional Chinese']</td>\n",
              "      <td>https://cdn.akamai.steamstatic.com/steam/apps/655370/header.jpg?t=1617500526</td>\n",
              "      <td>True</td>\n",
              "      <td>True</td>\n",
              "      <td>Rusty Moyher</td>\n",
              "      <td>Wild Rooster</td>\n",
              "      <td>Single-player,Steam Achievements,Full controller support,Steam Leaderboards,Remote Play on Phone,Remote Play on Tablet,Remote Play on TV</td>\n",
              "      <td>Action,Indie</td>\n",
              "      <td>https://cdn.akamai.steamstatic.com/steam/apps/655370/ss_16785eac54b29db688870e832f6997c89cd7804b.1920x1080.jpg?t=1617500526,https://cdn.akamai.steamstatic.com/steam/apps/655370/ss_599ad201ec3bb869449aaab4d0b103e220645762.1920x1080.jpg?t=1617500526,https://cdn.akamai.steamstatic.com/steam/apps/655370/ss_a26cfed1bc3e9ca4225fdc9d5c10681cfeb4f106.1920x1080.jpg?t=1617500526,https://cdn.akamai.steamstatic.com/steam/apps/655370/ss_9b815c0ec4996783088d82d22105caa1c044acad.1920x1080.jpg?t=1617500526,https://cdn.akamai.steamstatic.com/steam/apps/655370/ss_b5aada1bd265ff4b34116794fb937ad62e2882bb.1920x1080.jpg?t=1617500526</td>\n",
              "      <td>http://cdn.akamai.steamstatic.com/steam/apps/256691108/movie_max.mp4?t=1506089586</td>\n",
              "      <td>2017-10-12</td>\n",
              "      <td>2017</td>\n",
              "      <td>10</td>\n",
              "      <td>12</td>\n",
              "      <td>87</td>\n",
              "      <td>0</td>\n",
              "      <td>655370 THE LAW!! Looks to be a showdown atop a train. This will be your last fight. Good luck, Train Bandit. WHAT IS THIS GAME? Train Bandit is a simple score attack game. The Law will attack you from both sides. Your weapon is your keyboard. You'll use those keys to kick the living shit out of the law. React quickly by attacking the correct direction. React...or you're dead. THE FEATURES Unlock new bandits Earn Achievements Become Steam's Most Wanted ? Battle elite officers Kick the law's ass</td>\n",
              "      <td>0.922213</td>\n",
              "      <td>0.037191</td>\n",
              "      <td>0.482958</td>\n",
              "      <td>0.193232</td>\n",
              "      <td>0.891297</td>\n",
              "      <td>0.678130</td>\n",
              "      <td>0.528554</td>\n",
              "    </tr>\n",
              "    <tr>\n",
              "      <th>2</th>\n",
              "      <td>1732930</td>\n",
              "      <td>Jolt Project</td>\n",
              "      <td>0 - 20000</td>\n",
              "      <td>4.99</td>\n",
              "      <td>Jolt Project: The army now has a new robotics project, jolt. It's up to you to control it and ensure the success of the missions! There are 9 stages of taking the breath away with the right difficulty and good gameplay. Plus an insane way of survival! Fire missiles at cars, tanks, helicopters and turrets! The fun is guaranteed! Use your mouse to aim and shoot and take out the enemies! In this game you will have to be aware of the various enemies who will do everything to destroy your charges and prevent the success of your mission! Cartoon-style graphics are optimized and fun and generate an excellent gaming environment!</td>\n",
              "      <td>['English', 'Portuguese - Brazil']</td>\n",
              "      <td>https://cdn.akamai.steamstatic.com/steam/apps/1732930/header.jpg?t=1637149386</td>\n",
              "      <td>True</td>\n",
              "      <td>False</td>\n",
              "      <td>Campião Games</td>\n",
              "      <td>Campião Games</td>\n",
              "      <td>Single-player</td>\n",
              "      <td>Action,Adventure,Indie,Strategy</td>\n",
              "      <td>https://cdn.akamai.steamstatic.com/steam/apps/1732930/ss_09d67dec0607be7c4ead80289763033a47c86d89.1920x1080.jpg?t=1637149386,https://cdn.akamai.steamstatic.com/steam/apps/1732930/ss_119713aa971021a5fe24ee241c4be9329d1a37ab.1920x1080.jpg?t=1637149386,https://cdn.akamai.steamstatic.com/steam/apps/1732930/ss_04221851fa82047cee95243edf20e413a35ff410.1920x1080.jpg?t=1637149386,https://cdn.akamai.steamstatic.com/steam/apps/1732930/ss_fb210f530ebe006066bfb5dff35d3c68f858f60e.1920x1080.jpg?t=1637149386,https://cdn.akamai.steamstatic.com/steam/apps/1732930/ss_f43db212224f5b33a0ef530a75c3f852d35e9342.1920x1080.jpg?t=1637149386,https://cdn.akamai.steamstatic.com/steam/apps/1732930/ss_eeb31f8499720fc1b20342f74f0040ca2f190881.1920x1080.jpg?t=1637149386</td>\n",
              "      <td>http://cdn.akamai.steamstatic.com/steam/apps/256847488/movie_max.mp4?t=1635980739,http://cdn.akamai.steamstatic.com/steam/apps/256847487/movie_max.mp4?t=1635980747</td>\n",
              "      <td>2021-11-17</td>\n",
              "      <td>2021</td>\n",
              "      <td>11</td>\n",
              "      <td>17</td>\n",
              "      <td>111</td>\n",
              "      <td>0</td>\n",
              "      <td>1732930 Jolt Project: The army now has a new robotics project, jolt. It's up to you to control it and ensure the success of the missions! There are 9 stages of taking the breath away with the right difficulty and good gameplay. Plus an insane way of survival! Fire missiles at cars, tanks, helicopters and turrets! The fun is guaranteed! Use your mouse to aim and shoot and take out the enemies! In this game you will have to be aware of the various enemies who will do everything to destroy your charges and prevent the success of your mission! Cartoon-style graphics are optimized and fun and generate an excellent gaming environment!</td>\n",
              "      <td>0.102581</td>\n",
              "      <td>0.005369</td>\n",
              "      <td>0.003955</td>\n",
              "      <td>0.804184</td>\n",
              "      <td>0.822155</td>\n",
              "      <td>0.012697</td>\n",
              "      <td>0.351603</td>\n",
              "    </tr>\n",
              "    <tr>\n",
              "      <th>3</th>\n",
              "      <td>1469160</td>\n",
              "      <td>Wartune Reborn</td>\n",
              "      <td>50000 - 100000</td>\n",
              "      <td>0.00</td>\n",
              "      <td>Feel tired of auto-fight? Feel tired of boring numerical combinations? Let us try this amazing and exciting game! Right! Wartune Reborn is the super popular magic epic game as we know. Now, the magnificent magic epic game restarts, reminds you the classical plays and brings great experience. In Cloud City, you are going to maintains the Wartune movement, fighting the abyss monsters to protect the world from chaos. Don't be nervous! With protection of Dinah, Priestess of Light, you will have the power to absorb the chord, incorporate those forces without kings into your own ones, and make contract with and train apotheosis of Sylphs. You can improve yourself in a series of RPG adventures including instances battles, wild fighting, occupation and plunder. At the same time, you can run your own ligeance and castles and ally yourself with other players in the world who attack the Chaos. All of you are going to cooperate to protect the world from the control and destroy of Redoga Drake and bring the brightness back to Cloud City...... Enter Wartune Reborn to enjoy thinking of battles and playing the game! 1. RPG simulation, S- semi TBS battle, castles constructions, occupation &amp;amp; expelling make you the best lords 2. Magical epic plots and original prominent symphony show the ancient and magnificent medieval chapter. 3. Military organization, runes and strategies contribute to super power. 4. Sylph awakening, skills and training, you will cooperate to beat BOSS. 5. Explore the magical world of the wild, jungles, deserts and snow mountains freely in the map of the vast outer city, to find mysterious ancient treasure. 6. Avatar system provides cool fashion, wings, mounts, weapon appearance with arbitrary combination. Wartune Reborn, Magical epic, Expect Heroes! Classical playing brings you amazing experience!</td>\n",
              "      <td>['English']</td>\n",
              "      <td>https://cdn.akamai.steamstatic.com/steam/apps/1469160/header.jpg?t=1617078164</td>\n",
              "      <td>True</td>\n",
              "      <td>False</td>\n",
              "      <td>7Road</td>\n",
              "      <td>7Road</td>\n",
              "      <td>Single-player,Multi-player,MMO,PvP,Online PvP,Co-op,Online Co-op,In-App Purchases</td>\n",
              "      <td>Adventure,Casual,Free to Play,Massively Multiplayer,RPG,Strategy</td>\n",
              "      <td>https://cdn.akamai.steamstatic.com/steam/apps/1469160/ss_abb0c68e4fd40aa6dd98f20df2c028fca15466d6.1920x1080.jpg?t=1617078164,https://cdn.akamai.steamstatic.com/steam/apps/1469160/ss_a86d4cd002d3085bbb6b01ca73d7b6f91e84e36b.1920x1080.jpg?t=1617078164,https://cdn.akamai.steamstatic.com/steam/apps/1469160/ss_d907aedf4b2124c089e6505aa873929c110c4d7e.1920x1080.jpg?t=1617078164,https://cdn.akamai.steamstatic.com/steam/apps/1469160/ss_0d12d7f900740dedf8573b92d74a1da7ea02bcdb.1920x1080.jpg?t=1617078164,https://cdn.akamai.steamstatic.com/steam/apps/1469160/ss_1f55c4289fdf4c8eb367fea5b66fef74f6c97fce.1920x1080.jpg?t=1617078164,https://cdn.akamai.steamstatic.com/steam/apps/1469160/ss_590afb566061b2db0280c4008acee2662c940991.1920x1080.jpg?t=1617078164,https://cdn.akamai.steamstatic.com/steam/apps/1469160/ss_17503c982895826a131cfcf9696a4729e9f0d87f.1920x1080.jpg?t=1617078164,https://cdn.akamai.steamstatic.com/steam/apps/1469160/ss_e68456b403f1f3372c203f496c75422063c91cbf.1920x1080.jpg?t=1617078164,https://cdn.akamai.steamstatic.com/steam/apps/1469160/ss_fb24193113d749de46d300939fb8bcadff8feae3.1920x1080.jpg?t=1617078164,https://cdn.akamai.steamstatic.com/steam/apps/1469160/ss_7384775cd79b2dc22533f19f88879e99cc3e920f.1920x1080.jpg?t=1617078164,https://cdn.akamai.steamstatic.com/steam/apps/1469160/ss_a179aa04764d9cb2c232561e965c1b99e2a8a294.1920x1080.jpg?t=1617078164,https://cdn.akamai.steamstatic.com/steam/apps/1469160/ss_97acb9538f239f35269df42f44ddf7f7a33ef700.1920x1080.jpg?t=1617078164</td>\n",
              "      <td>http://cdn.akamai.steamstatic.com/steam/apps/256818274/movie_max.mp4?t=1611036715</td>\n",
              "      <td>2021-02-26</td>\n",
              "      <td>2021</td>\n",
              "      <td>2</td>\n",
              "      <td>26</td>\n",
              "      <td>293</td>\n",
              "      <td>0</td>\n",
              "      <td>1469160 Feel tired of auto-fight? Feel tired of boring numerical combinations? Let us try this amazing and exciting game! Right! Wartune Reborn is the super popular magic epic game as we know. Now, the magnificent magic epic game restarts, reminds you the classical plays and brings great experience. In Cloud City, you are going to maintains the Wartune movement, fighting the abyss monsters to protect the world from chaos. Don't be nervous! With protection of Dinah, Priestess of Light, you will have the power to absorb the chord, incorporate those forces without kings into your own ones, and make contract with and train apotheosis of Sylphs. You can improve yourself in a series of RPG adventures including instances battles, wild fighting, occupation and plunder. At the same time, you can run your own ligeance and castles and ally yourself with other players in the world who attack the Chaos. All of you are going to cooperate to protect the world from the control and destroy of Redoga Drake and bring the brightness back to Cloud City...... Enter Wartune Reborn to enjoy thinking of battles and playing the game! 1. RPG simulation, S- semi TBS battle, castles constructions, occupation &amp;amp; expelling make you the best lords 2. Magical epic plots and original prominent symphony show the ancient and magnificent medieval chapter. 3. Military organization, runes and strategies contribute to super power. 4. Sylph awakening, skills and training, you will cooperate to beat BOSS. 5. Explore the magical world of the wild, jungles, deserts and snow mountains freely in the map of the vast outer city, to find mysterious ancient treasure. 6. Avatar system provides cool fashion, wings, mounts, weapon appearance with arbitrary combination. Wartune Reborn, Magical epic, Expect Heroes! Classical playing brings you amazing experience!</td>\n",
              "      <td>0.120906</td>\n",
              "      <td>0.110655</td>\n",
              "      <td>0.977107</td>\n",
              "      <td>0.961631</td>\n",
              "      <td>0.878328</td>\n",
              "      <td>0.980837</td>\n",
              "      <td>0.358323</td>\n",
              "    </tr>\n",
              "    <tr>\n",
              "      <th>4</th>\n",
              "      <td>1659180</td>\n",
              "      <td>TD Worlds</td>\n",
              "      <td>0 - 20000</td>\n",
              "      <td>10.99</td>\n",
              "      <td>TD Worlds is a dynamic, highly strategical game that challenges your skill. Build an impenetrable defense and get ready to plunge into a new, unknown world to uncover its secrets. In this bizarre universe, each attempt will be unique in its own way, which provides many hours of fun to play. Clear three completely different worlds from darkness, spread your influence everywhere. unique conditions in each game; losing is an important part of game progress. Each defeat reveals something new for you; dynamic storytelling: the more you play, the more you learn about the world; get random rewards after each level; tired of playing? Feel free to leave the game, next time you will continue where you left; experiment with different tactics; Twitch integration - play with your viewers.</td>\n",
              "      <td>['English', 'Russian', 'Danish']</td>\n",
              "      <td>https://cdn.akamai.steamstatic.com/steam/apps/1659180/header.jpg?t=1654195425</td>\n",
              "      <td>True</td>\n",
              "      <td>False</td>\n",
              "      <td>MAKSIM VOLKAU</td>\n",
              "      <td>MAKSIM VOLKAU</td>\n",
              "      <td>Single-player,Steam Achievements,Steam Cloud</td>\n",
              "      <td>Indie,Strategy</td>\n",
              "      <td>https://cdn.akamai.steamstatic.com/steam/apps/1659180/ss_82b8ce68bc6a46e7758989671bf4fef097364def.1920x1080.jpg?t=1654195425,https://cdn.akamai.steamstatic.com/steam/apps/1659180/ss_4f7edbe193d4a3b2cdcec64e47ed8402ae85df44.1920x1080.jpg?t=1654195425,https://cdn.akamai.steamstatic.com/steam/apps/1659180/ss_da13a120e7df9a0b36c1ed4b7c61adec835bbb1a.1920x1080.jpg?t=1654195425,https://cdn.akamai.steamstatic.com/steam/apps/1659180/ss_f9787d2da633eabbd4113c4fc67930c2cfd22d1c.1920x1080.jpg?t=1654195425,https://cdn.akamai.steamstatic.com/steam/apps/1659180/ss_d73522793ce635b277a3f0ea647b3c2ee5d9e87e.1920x1080.jpg?t=1654195425,https://cdn.akamai.steamstatic.com/steam/apps/1659180/ss_1be536b9197336aa31582b17ef7dba2a40ec3d60.1920x1080.jpg?t=1654195425,https://cdn.akamai.steamstatic.com/steam/apps/1659180/ss_7d997271806541fb4d0fd0ef49b1c7978f981b5a.1920x1080.jpg?t=1654195425,https://cdn.akamai.steamstatic.com/steam/apps/1659180/ss_ecd74f177b6a5a4fb167000b922f0c3a53c723ed.1920x1080.jpg?t=1654195425,https://cdn.akamai.steamstatic.com/steam/apps/1659180/ss_42066f2fbaac054fd8dc5c2e587fa49019704960.1920x1080.jpg?t=1654195425,https://cdn.akamai.steamstatic.com/steam/apps/1659180/ss_09d747fbe926fe8a66c7c89452b8424998e4ece5.1920x1080.jpg?t=1654195425,https://cdn.akamai.steamstatic.com/steam/apps/1659180/ss_53bc2d671dff542df134a63afcf68dd4ea40276c.1920x1080.jpg?t=1654195425,https://cdn.akamai.steamstatic.com/steam/apps/1659180/ss_838b18c8db8bb1950256d2fcc12634b9f935d647.1920x1080.jpg?t=1654195425</td>\n",
              "      <td>http://cdn.akamai.steamstatic.com/steam/apps/256867570/movie_max.mp4?t=1641709460,http://cdn.akamai.steamstatic.com/steam/apps/256843858/movie_max.mp4?t=1628006054</td>\n",
              "      <td>2022-01-09</td>\n",
              "      <td>2022</td>\n",
              "      <td>1</td>\n",
              "      <td>9</td>\n",
              "      <td>129</td>\n",
              "      <td>0</td>\n",
              "      <td>1659180 TD Worlds is a dynamic, highly strategical game that challenges your skill. Build an impenetrable defense and get ready to plunge into a new, unknown world to uncover its secrets. In this bizarre universe, each attempt will be unique in its own way, which provides many hours of fun to play. Clear three completely different worlds from darkness, spread your influence everywhere. unique conditions in each game; losing is an important part of game progress. Each defeat reveals something new for you; dynamic storytelling: the more you play, the more you learn about the world; get random rewards after each level; tired of playing? Feel free to leave the game, next time you will continue where you left; experiment with different tactics; Twitch integration - play with your viewers.</td>\n",
              "      <td>0.080376</td>\n",
              "      <td>0.020888</td>\n",
              "      <td>0.522571</td>\n",
              "      <td>0.989051</td>\n",
              "      <td>0.650253</td>\n",
              "      <td>0.732192</td>\n",
              "      <td>0.394736</td>\n",
              "    </tr>\n",
              "  </tbody>\n",
              "</table>\n",
              "</div>"
            ],
            "text/plain": [
              "     AppID              Name Estimated owners  Price  \\\n",
              "0    20200  Galactic Bowling        0 - 20000  19.99   \n",
              "1   655370      Train Bandit        0 - 20000   0.99   \n",
              "2  1732930      Jolt Project        0 - 20000   4.99   \n",
              "3  1469160    Wartune Reborn   50000 - 100000   0.00   \n",
              "4  1659180         TD Worlds        0 - 20000  10.99   \n",
              "\n",
              "                                                                                                                                                                                                                                                                                                                                                                                                                                                                                                                                                                                                                                                                                                                                                                                                                                                                                                                                                                                                                                                                                                                                                                                                                                                                                                                                                                                                                                                                                                                                                                                                                                                                                                                                                                                                                                                                                                About the game  \\\n",
              "0                                                                                                                                                                                                                                                                                                                                                                                                                                                                                                                                                                                                                                                                                                                                                                                                                          Galactic Bowling is an exaggerated and stylized bowling game with an intergalactic twist. Players will engage in fast-paced single and multi-player competition while being submerged in a unique new universe filled with over-the-top humor, wild characters, unique levels, and addictive game play. The title is aimed at players of all ages and skill sets. Through accessible and intuitive controls and game-play, Galactic Bowling allows you to jump right into the action. A single-player campaign and online play allow you to work your way up the ranks of the Galactic Bowling League! Whether you have hours to play or only a few minutes, Galactic Bowling is a fast paced and entertaining experience that will leave you wanting more! Full Single-player story campaign including 11 Characters and Environments. 2 Single-player play modes including Regular and Battle Modes. Head to Head Online Multiplayer play Modes. Super Powers, Special Balls, and Whammies. Unlockable Characters, Environments, and Minigames. Unlock all 30 Steam Achievements!   \n",
              "1                                                                                                                                                                                                                                                                                                                                                                                                                                                                                                                                                                                                                                                                                                                                                                                                                                                                                                                                                                                                                                                                                                                                                                                                                                                                                                                                                                                                  THE LAW!! Looks to be a showdown atop a train. This will be your last fight. Good luck, Train Bandit. WHAT IS THIS GAME? Train Bandit is a simple score attack game. The Law will attack you from both sides. Your weapon is your keyboard. You'll use those keys to kick the living shit out of the law. React quickly by attacking the correct direction. React...or you're dead. THE FEATURES Unlock new bandits Earn Achievements Become Steam's Most Wanted ? Battle elite officers Kick the law's ass   \n",
              "2                                                                                                                                                                                                                                                                                                                                                                                                                                                                                                                                                                                                                                                                                                                                                                                                                                                                                                                                                                                                                                                                                                                                                                                                                                                         Jolt Project: The army now has a new robotics project, jolt. It's up to you to control it and ensure the success of the missions! There are 9 stages of taking the breath away with the right difficulty and good gameplay. Plus an insane way of survival! Fire missiles at cars, tanks, helicopters and turrets! The fun is guaranteed! Use your mouse to aim and shoot and take out the enemies! In this game you will have to be aware of the various enemies who will do everything to destroy your charges and prevent the success of your mission! Cartoon-style graphics are optimized and fun and generate an excellent gaming environment!   \n",
              "3  Feel tired of auto-fight? Feel tired of boring numerical combinations? Let us try this amazing and exciting game! Right! Wartune Reborn is the super popular magic epic game as we know. Now, the magnificent magic epic game restarts, reminds you the classical plays and brings great experience. In Cloud City, you are going to maintains the Wartune movement, fighting the abyss monsters to protect the world from chaos. Don't be nervous! With protection of Dinah, Priestess of Light, you will have the power to absorb the chord, incorporate those forces without kings into your own ones, and make contract with and train apotheosis of Sylphs. You can improve yourself in a series of RPG adventures including instances battles, wild fighting, occupation and plunder. At the same time, you can run your own ligeance and castles and ally yourself with other players in the world who attack the Chaos. All of you are going to cooperate to protect the world from the control and destroy of Redoga Drake and bring the brightness back to Cloud City...... Enter Wartune Reborn to enjoy thinking of battles and playing the game! 1. RPG simulation, S- semi TBS battle, castles constructions, occupation &amp; expelling make you the best lords 2. Magical epic plots and original prominent symphony show the ancient and magnificent medieval chapter. 3. Military organization, runes and strategies contribute to super power. 4. Sylph awakening, skills and training, you will cooperate to beat BOSS. 5. Explore the magical world of the wild, jungles, deserts and snow mountains freely in the map of the vast outer city, to find mysterious ancient treasure. 6. Avatar system provides cool fashion, wings, mounts, weapon appearance with arbitrary combination. Wartune Reborn, Magical epic, Expect Heroes! Classical playing brings you amazing experience!   \n",
              "4                                                                                                                                                                                                                                                                                                                                                                                                                                                                                                                                                                                                                                                                                                                                                                                                                                                                                                                                                                                                                                                                                           TD Worlds is a dynamic, highly strategical game that challenges your skill. Build an impenetrable defense and get ready to plunge into a new, unknown world to uncover its secrets. In this bizarre universe, each attempt will be unique in its own way, which provides many hours of fun to play. Clear three completely different worlds from darkness, spread your influence everywhere. unique conditions in each game; losing is an important part of game progress. Each defeat reveals something new for you; dynamic storytelling: the more you play, the more you learn about the world; get random rewards after each level; tired of playing? Feel free to leave the game, next time you will continue where you left; experiment with different tactics; Twitch integration - play with your viewers.   \n",
              "\n",
              "                                                                                                                                        Supported languages  \\\n",
              "0                                                                                                                                               ['English']   \n",
              "1  ['English', 'French', 'Italian', 'German', 'Spanish - Spain', 'Japanese', 'Portuguese - Brazil', 'Russian', 'Simplified Chinese', 'Traditional Chinese']   \n",
              "2                                                                                                                        ['English', 'Portuguese - Brazil']   \n",
              "3                                                                                                                                               ['English']   \n",
              "4                                                                                                                          ['English', 'Russian', 'Danish']   \n",
              "\n",
              "                                                                    Header image  \\\n",
              "0    https://cdn.akamai.steamstatic.com/steam/apps/20200/header.jpg?t=1640121033   \n",
              "1   https://cdn.akamai.steamstatic.com/steam/apps/655370/header.jpg?t=1617500526   \n",
              "2  https://cdn.akamai.steamstatic.com/steam/apps/1732930/header.jpg?t=1637149386   \n",
              "3  https://cdn.akamai.steamstatic.com/steam/apps/1469160/header.jpg?t=1617078164   \n",
              "4  https://cdn.akamai.steamstatic.com/steam/apps/1659180/header.jpg?t=1654195425   \n",
              "\n",
              "   Windows    Mac             Developers             Publishers  \\\n",
              "0     True  False  Perpetual FX Creative  Perpetual FX Creative   \n",
              "1     True   True           Rusty Moyher           Wild Rooster   \n",
              "2     True  False          Campião Games          Campião Games   \n",
              "3     True  False                  7Road                  7Road   \n",
              "4     True  False          MAKSIM VOLKAU          MAKSIM VOLKAU   \n",
              "\n",
              "                                                                                                                                 Categories  \\\n",
              "0                                                                  Single-player,Multi-player,Steam Achievements,Partial Controller Support   \n",
              "1  Single-player,Steam Achievements,Full controller support,Steam Leaderboards,Remote Play on Phone,Remote Play on Tablet,Remote Play on TV   \n",
              "2                                                                                                                             Single-player   \n",
              "3                                                         Single-player,Multi-player,MMO,PvP,Online PvP,Co-op,Online Co-op,In-App Purchases   \n",
              "4                                                                                              Single-player,Steam Achievements,Steam Cloud   \n",
              "\n",
              "                                                             Genres  \\\n",
              "0                                               Casual,Indie,Sports   \n",
              "1                                                      Action,Indie   \n",
              "2                                   Action,Adventure,Indie,Strategy   \n",
              "3  Adventure,Casual,Free to Play,Massively Multiplayer,RPG,Strategy   \n",
              "4                                                    Indie,Strategy   \n",
              "\n",
              "                                                                                                                                                                                                                                                                                                                                                                                                                                                                                                                                                                                                                                                                                                                                                                                                                                                                                                                                                                                                                                                                                                                                                                                                                                                                                                                                                                                                                                                                                                                                                   Screenshots  \\\n",
              "0                                                                                                                                                                                                                                                                                                                                                                                                                                                                                                                                                                                                                          https://cdn.akamai.steamstatic.com/steam/apps/20200/0000005994.1920x1080.jpg?t=1640121033,https://cdn.akamai.steamstatic.com/steam/apps/20200/0000005993.1920x1080.jpg?t=1640121033,https://cdn.akamai.steamstatic.com/steam/apps/20200/0000005992.1920x1080.jpg?t=1640121033,https://cdn.akamai.steamstatic.com/steam/apps/20200/0000006011.1920x1080.jpg?t=1640121033,https://cdn.akamai.steamstatic.com/steam/apps/20200/0000005685.1920x1080.jpg?t=1640121033,https://cdn.akamai.steamstatic.com/steam/apps/20200/0000005686.1920x1080.jpg?t=1640121033,https://cdn.akamai.steamstatic.com/steam/apps/20200/0000005995.1920x1080.jpg?t=1640121033,https://cdn.akamai.steamstatic.com/steam/apps/20200/0000005688.1920x1080.jpg?t=1640121033,https://cdn.akamai.steamstatic.com/steam/apps/20200/0000005689.1920x1080.jpg?t=1640121033,https://cdn.akamai.steamstatic.com/steam/apps/20200/0000005690.1920x1080.jpg?t=1640121033   \n",
              "1                                                                                                                                                                                                                                                                                                                                                                                                                                                                                                                                                                                                                                                                                                                                                                                                                                                                                                                  https://cdn.akamai.steamstatic.com/steam/apps/655370/ss_16785eac54b29db688870e832f6997c89cd7804b.1920x1080.jpg?t=1617500526,https://cdn.akamai.steamstatic.com/steam/apps/655370/ss_599ad201ec3bb869449aaab4d0b103e220645762.1920x1080.jpg?t=1617500526,https://cdn.akamai.steamstatic.com/steam/apps/655370/ss_a26cfed1bc3e9ca4225fdc9d5c10681cfeb4f106.1920x1080.jpg?t=1617500526,https://cdn.akamai.steamstatic.com/steam/apps/655370/ss_9b815c0ec4996783088d82d22105caa1c044acad.1920x1080.jpg?t=1617500526,https://cdn.akamai.steamstatic.com/steam/apps/655370/ss_b5aada1bd265ff4b34116794fb937ad62e2882bb.1920x1080.jpg?t=1617500526   \n",
              "2                                                                                                                                                                                                                                                                                                                                                                                                                                                                                                                                                                                                                                                                                                                                                                                https://cdn.akamai.steamstatic.com/steam/apps/1732930/ss_09d67dec0607be7c4ead80289763033a47c86d89.1920x1080.jpg?t=1637149386,https://cdn.akamai.steamstatic.com/steam/apps/1732930/ss_119713aa971021a5fe24ee241c4be9329d1a37ab.1920x1080.jpg?t=1637149386,https://cdn.akamai.steamstatic.com/steam/apps/1732930/ss_04221851fa82047cee95243edf20e413a35ff410.1920x1080.jpg?t=1637149386,https://cdn.akamai.steamstatic.com/steam/apps/1732930/ss_fb210f530ebe006066bfb5dff35d3c68f858f60e.1920x1080.jpg?t=1637149386,https://cdn.akamai.steamstatic.com/steam/apps/1732930/ss_f43db212224f5b33a0ef530a75c3f852d35e9342.1920x1080.jpg?t=1637149386,https://cdn.akamai.steamstatic.com/steam/apps/1732930/ss_eeb31f8499720fc1b20342f74f0040ca2f190881.1920x1080.jpg?t=1637149386   \n",
              "3  https://cdn.akamai.steamstatic.com/steam/apps/1469160/ss_abb0c68e4fd40aa6dd98f20df2c028fca15466d6.1920x1080.jpg?t=1617078164,https://cdn.akamai.steamstatic.com/steam/apps/1469160/ss_a86d4cd002d3085bbb6b01ca73d7b6f91e84e36b.1920x1080.jpg?t=1617078164,https://cdn.akamai.steamstatic.com/steam/apps/1469160/ss_d907aedf4b2124c089e6505aa873929c110c4d7e.1920x1080.jpg?t=1617078164,https://cdn.akamai.steamstatic.com/steam/apps/1469160/ss_0d12d7f900740dedf8573b92d74a1da7ea02bcdb.1920x1080.jpg?t=1617078164,https://cdn.akamai.steamstatic.com/steam/apps/1469160/ss_1f55c4289fdf4c8eb367fea5b66fef74f6c97fce.1920x1080.jpg?t=1617078164,https://cdn.akamai.steamstatic.com/steam/apps/1469160/ss_590afb566061b2db0280c4008acee2662c940991.1920x1080.jpg?t=1617078164,https://cdn.akamai.steamstatic.com/steam/apps/1469160/ss_17503c982895826a131cfcf9696a4729e9f0d87f.1920x1080.jpg?t=1617078164,https://cdn.akamai.steamstatic.com/steam/apps/1469160/ss_e68456b403f1f3372c203f496c75422063c91cbf.1920x1080.jpg?t=1617078164,https://cdn.akamai.steamstatic.com/steam/apps/1469160/ss_fb24193113d749de46d300939fb8bcadff8feae3.1920x1080.jpg?t=1617078164,https://cdn.akamai.steamstatic.com/steam/apps/1469160/ss_7384775cd79b2dc22533f19f88879e99cc3e920f.1920x1080.jpg?t=1617078164,https://cdn.akamai.steamstatic.com/steam/apps/1469160/ss_a179aa04764d9cb2c232561e965c1b99e2a8a294.1920x1080.jpg?t=1617078164,https://cdn.akamai.steamstatic.com/steam/apps/1469160/ss_97acb9538f239f35269df42f44ddf7f7a33ef700.1920x1080.jpg?t=1617078164   \n",
              "4  https://cdn.akamai.steamstatic.com/steam/apps/1659180/ss_82b8ce68bc6a46e7758989671bf4fef097364def.1920x1080.jpg?t=1654195425,https://cdn.akamai.steamstatic.com/steam/apps/1659180/ss_4f7edbe193d4a3b2cdcec64e47ed8402ae85df44.1920x1080.jpg?t=1654195425,https://cdn.akamai.steamstatic.com/steam/apps/1659180/ss_da13a120e7df9a0b36c1ed4b7c61adec835bbb1a.1920x1080.jpg?t=1654195425,https://cdn.akamai.steamstatic.com/steam/apps/1659180/ss_f9787d2da633eabbd4113c4fc67930c2cfd22d1c.1920x1080.jpg?t=1654195425,https://cdn.akamai.steamstatic.com/steam/apps/1659180/ss_d73522793ce635b277a3f0ea647b3c2ee5d9e87e.1920x1080.jpg?t=1654195425,https://cdn.akamai.steamstatic.com/steam/apps/1659180/ss_1be536b9197336aa31582b17ef7dba2a40ec3d60.1920x1080.jpg?t=1654195425,https://cdn.akamai.steamstatic.com/steam/apps/1659180/ss_7d997271806541fb4d0fd0ef49b1c7978f981b5a.1920x1080.jpg?t=1654195425,https://cdn.akamai.steamstatic.com/steam/apps/1659180/ss_ecd74f177b6a5a4fb167000b922f0c3a53c723ed.1920x1080.jpg?t=1654195425,https://cdn.akamai.steamstatic.com/steam/apps/1659180/ss_42066f2fbaac054fd8dc5c2e587fa49019704960.1920x1080.jpg?t=1654195425,https://cdn.akamai.steamstatic.com/steam/apps/1659180/ss_09d747fbe926fe8a66c7c89452b8424998e4ece5.1920x1080.jpg?t=1654195425,https://cdn.akamai.steamstatic.com/steam/apps/1659180/ss_53bc2d671dff542df134a63afcf68dd4ea40276c.1920x1080.jpg?t=1654195425,https://cdn.akamai.steamstatic.com/steam/apps/1659180/ss_838b18c8db8bb1950256d2fcc12634b9f935d647.1920x1080.jpg?t=1654195425   \n",
              "\n",
              "                                                                                                                                                                Movies  \\\n",
              "0                                                                                    http://cdn.akamai.steamstatic.com/steam/apps/256863704/movie_max.mp4?t=1638854607   \n",
              "1                                                                                    http://cdn.akamai.steamstatic.com/steam/apps/256691108/movie_max.mp4?t=1506089586   \n",
              "2  http://cdn.akamai.steamstatic.com/steam/apps/256847488/movie_max.mp4?t=1635980739,http://cdn.akamai.steamstatic.com/steam/apps/256847487/movie_max.mp4?t=1635980747   \n",
              "3                                                                                    http://cdn.akamai.steamstatic.com/steam/apps/256818274/movie_max.mp4?t=1611036715   \n",
              "4  http://cdn.akamai.steamstatic.com/steam/apps/256867570/movie_max.mp4?t=1641709460,http://cdn.akamai.steamstatic.com/steam/apps/256843858/movie_max.mp4?t=1628006054   \n",
              "\n",
              "  Released_date  Release_year  Release_month  Release_day  word_count  \\\n",
              "0    2008-10-21          2008             10           21         158   \n",
              "1    2017-10-12          2017             10           12          87   \n",
              "2    2021-11-17          2021             11           17         111   \n",
              "3    2021-02-26          2021              2           26         293   \n",
              "4    2022-01-09          2022              1            9         129   \n",
              "\n",
              "   Required_age  \\\n",
              "0             0   \n",
              "1             0   \n",
              "2             0   \n",
              "3             0   \n",
              "4             0   \n",
              "\n",
              "                                                                                                                                                                                                                                                                                                                                                                                                                                                                                                                                                                                                                                                                                                                                                                                                                                                                                                                                                                                                                                                                                                                                                                                                                                                                                                                                                                                                                                                                                                                                                                                                                                                                                                                                                                                                                                                                                                    tagged_description  \\\n",
              "0                                                                                                                                                                                                                                                                                                                                                                                                                                                                                                                                                                                                                                                                                                                                                                                                                            20200 Galactic Bowling is an exaggerated and stylized bowling game with an intergalactic twist. Players will engage in fast-paced single and multi-player competition while being submerged in a unique new universe filled with over-the-top humor, wild characters, unique levels, and addictive game play. The title is aimed at players of all ages and skill sets. Through accessible and intuitive controls and game-play, Galactic Bowling allows you to jump right into the action. A single-player campaign and online play allow you to work your way up the ranks of the Galactic Bowling League! Whether you have hours to play or only a few minutes, Galactic Bowling is a fast paced and entertaining experience that will leave you wanting more! Full Single-player story campaign including 11 Characters and Environments. 2 Single-player play modes including Regular and Battle Modes. Head to Head Online Multiplayer play Modes. Super Powers, Special Balls, and Whammies. Unlockable Characters, Environments, and Minigames. Unlock all 30 Steam Achievements!   \n",
              "1                                                                                                                                                                                                                                                                                                                                                                                                                                                                                                                                                                                                                                                                                                                                                                                                                                                                                                                                                                                                                                                                                                                                                                                                                                                                                                                                                                                                   655370 THE LAW!! Looks to be a showdown atop a train. This will be your last fight. Good luck, Train Bandit. WHAT IS THIS GAME? Train Bandit is a simple score attack game. The Law will attack you from both sides. Your weapon is your keyboard. You'll use those keys to kick the living shit out of the law. React quickly by attacking the correct direction. React...or you're dead. THE FEATURES Unlock new bandits Earn Achievements Become Steam's Most Wanted ? Battle elite officers Kick the law's ass   \n",
              "2                                                                                                                                                                                                                                                                                                                                                                                                                                                                                                                                                                                                                                                                                                                                                                                                                                                                                                                                                                                                                                                                                                                                                                                                                                                         1732930 Jolt Project: The army now has a new robotics project, jolt. It's up to you to control it and ensure the success of the missions! There are 9 stages of taking the breath away with the right difficulty and good gameplay. Plus an insane way of survival! Fire missiles at cars, tanks, helicopters and turrets! The fun is guaranteed! Use your mouse to aim and shoot and take out the enemies! In this game you will have to be aware of the various enemies who will do everything to destroy your charges and prevent the success of your mission! Cartoon-style graphics are optimized and fun and generate an excellent gaming environment!   \n",
              "3  1469160 Feel tired of auto-fight? Feel tired of boring numerical combinations? Let us try this amazing and exciting game! Right! Wartune Reborn is the super popular magic epic game as we know. Now, the magnificent magic epic game restarts, reminds you the classical plays and brings great experience. In Cloud City, you are going to maintains the Wartune movement, fighting the abyss monsters to protect the world from chaos. Don't be nervous! With protection of Dinah, Priestess of Light, you will have the power to absorb the chord, incorporate those forces without kings into your own ones, and make contract with and train apotheosis of Sylphs. You can improve yourself in a series of RPG adventures including instances battles, wild fighting, occupation and plunder. At the same time, you can run your own ligeance and castles and ally yourself with other players in the world who attack the Chaos. All of you are going to cooperate to protect the world from the control and destroy of Redoga Drake and bring the brightness back to Cloud City...... Enter Wartune Reborn to enjoy thinking of battles and playing the game! 1. RPG simulation, S- semi TBS battle, castles constructions, occupation &amp; expelling make you the best lords 2. Magical epic plots and original prominent symphony show the ancient and magnificent medieval chapter. 3. Military organization, runes and strategies contribute to super power. 4. Sylph awakening, skills and training, you will cooperate to beat BOSS. 5. Explore the magical world of the wild, jungles, deserts and snow mountains freely in the map of the vast outer city, to find mysterious ancient treasure. 6. Avatar system provides cool fashion, wings, mounts, weapon appearance with arbitrary combination. Wartune Reborn, Magical epic, Expect Heroes! Classical playing brings you amazing experience!   \n",
              "4                                                                                                                                                                                                                                                                                                                                                                                                                                                                                                                                                                                                                                                                                                                                                                                                                                                                                                                                                                                                                                                                                           1659180 TD Worlds is a dynamic, highly strategical game that challenges your skill. Build an impenetrable defense and get ready to plunge into a new, unknown world to uncover its secrets. In this bizarre universe, each attempt will be unique in its own way, which provides many hours of fun to play. Clear three completely different worlds from darkness, spread your influence everywhere. unique conditions in each game; losing is an important part of game progress. Each defeat reveals something new for you; dynamic storytelling: the more you play, the more you learn about the world; get random rewards after each level; tired of playing? Feel free to leave the game, next time you will continue where you left; experiment with different tactics; Twitch integration - play with your viewers.   \n",
              "\n",
              "      anger   disgust      fear       joy   neutral   sadness  surprise  \n",
              "0  0.023346  0.018487  0.019092  0.947821  0.896984  0.172612  0.343782  \n",
              "1  0.922213  0.037191  0.482958  0.193232  0.891297  0.678130  0.528554  \n",
              "2  0.102581  0.005369  0.003955  0.804184  0.822155  0.012697  0.351603  \n",
              "3  0.120906  0.110655  0.977107  0.961631  0.878328  0.980837  0.358323  \n",
              "4  0.080376  0.020888  0.522571  0.989051  0.650253  0.732192  0.394736  "
            ]
          },
          "execution_count": 73,
          "metadata": {},
          "output_type": "execute_result"
        }
      ],
      "source": [
        "game_df = pd.merge(game_df, updated_df, on='AppID')\n",
        "game_df.head(5)"
      ]
    },
    {
      "cell_type": "code",
      "execution_count": 82,
      "id": "8108fe1e",
      "metadata": {},
      "outputs": [],
      "source": [
        "game_df.to_csv(r'C:\\Users\\chali\\Downloads\\Compressed\\game-recommendation-system\\datasets\\final_game.csv', index=False)"
      ]
    }
  ],
  "metadata": {
    "accelerator": "GPU",
    "colab": {
      "gpuType": "T4",
      "provenance": []
    },
    "kernelspec": {
      "display_name": "venv",
      "language": "python",
      "name": "python3"
    },
    "language_info": {
      "codemirror_mode": {
        "name": "ipython",
        "version": 3
      },
      "file_extension": ".py",
      "mimetype": "text/x-python",
      "name": "python",
      "nbconvert_exporter": "python",
      "pygments_lexer": "ipython3",
      "version": "3.11.0"
    }
  },
  "nbformat": 4,
  "nbformat_minor": 5
}
